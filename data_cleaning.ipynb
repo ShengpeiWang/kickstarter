{
 "cells": [
  {
   "cell_type": "markdown",
   "metadata": {},
   "source": [
    "# Data acquisition and wrangling"
   ]
  },
  {
   "cell_type": "code",
   "execution_count": 2,
   "metadata": {},
   "outputs": [],
   "source": [
    "# mongodb functions\n",
    "from pymongo import MongoClient\n",
    "# remember to start te mongodb server: sudo service mongod start\n",
    "\n",
    "# sql functions\n",
    "from sqlalchemy import create_engine\n",
    "from sqlalchemy_utils import database_exists, create_database\n",
    "import psycopg2\n",
    "\n",
    "# data wraggling functions \n",
    "import pandas as pd\n",
    "import numpy as np\n",
    "\n",
    "import pickle"
   ]
  },
  {
   "cell_type": "markdown",
   "metadata": {},
   "source": [
    "## connect with mongodDB and get proposal information"
   ]
  },
  {
   "cell_type": "code",
   "execution_count": 3,
   "metadata": {},
   "outputs": [],
   "source": [
    "# establish the connection\n",
    "myclient = MongoClient(\"mongodb://localhost:27017/\")\n",
    "mydb = myclient[\"kick\"] #pyramids is the database\n",
    "mycol = mydb[\"k1912\"] #invoice is the collection"
   ]
  },
  {
   "cell_type": "code",
   "execution_count": 33,
   "metadata": {},
   "outputs": [],
   "source": [
    "# get project information\n",
    "\n",
    "records =[]\n",
    "\n",
    "for proposal in mycol.find({\"data.state\": { \"$in\": [\"successful\", \"failed\"]}},\n",
    "                           {\"data.id\" : 1, \n",
    "                            \"data.name\" : 1,\n",
    "                            \"data.blurb\" : 1,\n",
    "                            \"data.goal\" : 1 , \n",
    "                            \"data.pledged\" : 1,\n",
    "                            \"data.state\" : 1,\n",
    "                            \"data.country_displayable_name\" : 1,\n",
    "                            \"data.deadline\" : 1,\n",
    "                            \"data.created_at\" : 1,\n",
    "                            \"data.launched_at\" : 1,\n",
    "                            \"data.staff_pick\": 1,\n",
    "                            \"data.backers_count\" : 1,\n",
    "                            \"data.static_usd_rate\" : 1,\n",
    "                            \"data.creator.id\" : 1,\n",
    "                            \"data.category.id\" : 1,\n",
    "                            \"data.urls.web\" : 1}):\n",
    "    \n",
    "    project_id = proposal['data']['id']\n",
    "    project_name = proposal['data']['name']\n",
    "    blurb = proposal['data']['blurb']\n",
    "    goal = proposal['data']['goal']\n",
    "    pledge = proposal['data']['pledged']\n",
    "    state = proposal['data']['state']\n",
    "    country = proposal['data']['country_displayable_name']\n",
    "    deadline = proposal['data']['deadline']\n",
    "    create = proposal['data']['created_at']\n",
    "    launch = proposal['data']['launched_at']\n",
    "    staff_pick = proposal['data']['staff_pick']\n",
    "    backers = proposal['data']['backers_count']\n",
    "    usd_rate = proposal['data']['static_usd_rate']\n",
    "    creator = proposal['data']['creator']['id']\n",
    "    category = proposal['data']['category']['id']\n",
    "    url = proposal['data']['urls']['web']['project']\n",
    "    \n",
    "    record = [project_id, project_name, blurb, goal, pledge, state,\n",
    "             country, deadline, create, launch, staff_pick, backers,\n",
    "             usd_rate, creator, category, url]\n",
    "        \n",
    "    records.append(record)"
   ]
  },
  {
   "cell_type": "code",
   "execution_count": 52,
   "metadata": {},
   "outputs": [],
   "source": [
    "dat_records = pd.DataFrame(records,\n",
    "                           columns = ['project_id', 'project_name', 'blurb', 'goal', 'pledge', 'state',\n",
    "                                      'country', 'deadline', 'create', 'launch', 'staff_pick', 'backers',\n",
    "                                      'usd_rate', 'creator', 'category', 'url']).drop_duplicates()\n",
    "# there are duplicates in this data, so I'm dropping them"
   ]
  },
  {
   "cell_type": "code",
   "execution_count": 57,
   "metadata": {},
   "outputs": [
    {
     "data": {
      "text/plain": [
       "(175561, 16)"
      ]
     },
     "execution_count": 57,
     "metadata": {},
     "output_type": "execute_result"
    }
   ],
   "source": [
    "dat_records.shape"
   ]
  },
  {
   "cell_type": "code",
   "execution_count": 53,
   "metadata": {},
   "outputs": [],
   "source": [
    "#save a copy of the records\n",
    "with open(\"pickle/project_info.pkl\", \"wb\") as f:\n",
    "    pickle.dump(dat_records, f)"
   ]
  },
  {
   "cell_type": "markdown",
   "metadata": {},
   "source": [
    "## get category info and clean up such to include parent categories"
   ]
  },
  {
   "cell_type": "code",
   "execution_count": 5,
   "metadata": {},
   "outputs": [],
   "source": [
    "# get category info\n",
    "categories = []\n",
    "\n",
    "for proposal in mycol.find({\"data.state\" : { \"$in\": [\"successful\", \"failed\"]}, \n",
    "                            \"data.category.parent_id\" : {\"$exists\" : True }},\n",
    "                            {\"data.category.id\": 1, \n",
    "                             \"data.category.name\": 1, \n",
    "                             \"data.category.position\" :1 , \n",
    "                             \"data.category.parent_id\" : 1}):\n",
    "    \n",
    "    category_id = proposal['data']['category']['id']\n",
    "    category_name = proposal['data']['category']['name']\n",
    "    category_position = proposal['data']['category']['position']\n",
    "    category_parent = proposal['data']['category']['parent_id']\n",
    "  \n",
    "    category = [category_id, category_name, category_position, category_parent]\n",
    "    categories.append(category)\n",
    "\n",
    "    # convert to dataframe\n",
    "dat_categories = pd.DataFrame(categories,\n",
    "                               columns = ['category_id', \n",
    "                                          'category_name',\n",
    "                                          'category_position',\n",
    "                                          'category_parent'])"
   ]
  },
  {
   "cell_type": "code",
   "execution_count": 7,
   "metadata": {},
   "outputs": [],
   "source": [
    "# get parent_category info\n",
    "categories_parent = []\n",
    "\n",
    "for proposal in mycol.find({\"data.state\" : { \"$in\": [\"successful\", \"failed\"]}, \n",
    "                            \"data.category.parent_id\" : {\"$exists\" : False }},\n",
    "                            {\"data.category.id\": 1, \n",
    "                             \"data.category.name\": 1, \n",
    "                             \"data.category.position\" :1}):\n",
    "    \n",
    "    category_id = proposal['data']['category']['id']\n",
    "    category_name = proposal['data']['category']['name']\n",
    "    category_position = proposal['data']['category']['position']\n",
    "  \n",
    "    category = [category_id, category_name, category_position]\n",
    "    categories_parent .append(category)\n",
    "    \n",
    "# convert to dataframe\n",
    "dat_categories_parent = pd.DataFrame(categories_parent,\n",
    "                                      columns =['category_parent',\n",
    "                                                'name_parent',\n",
    "                                                'position_parent'])"
   ]
  },
  {
   "cell_type": "code",
   "execution_count": 13,
   "metadata": {},
   "outputs": [
    {
     "data": {
      "text/plain": [
       "['Comics',\n",
       " 'Dance',\n",
       " 'Journalism',\n",
       " 'Photography',\n",
       " 'Games',\n",
       " 'Music',\n",
       " 'Technology',\n",
       " 'Crafts',\n",
       " 'Film & Video',\n",
       " 'Art',\n",
       " 'Design',\n",
       " 'Theater',\n",
       " 'Food',\n",
       " 'Fashion',\n",
       " 'Publishing']"
      ]
     },
     "execution_count": 13,
     "metadata": {},
     "output_type": "execute_result"
    }
   ],
   "source": [
    "list(data_categories_parent['name_parent'])"
   ]
  },
  {
   "cell_type": "code",
   "execution_count": 9,
   "metadata": {},
   "outputs": [],
   "source": [
    "# get uniqe rows\n",
    "data_categories_parent = dat_categories_parent.drop_duplicates().reset_index(drop = True)\n",
    "data_categories = dat_categories.drop_duplicates().reset_index(drop = True)"
   ]
  },
  {
   "cell_type": "code",
   "execution_count": 40,
   "metadata": {},
   "outputs": [],
   "source": [
    "# join in the parent categories on child categories\n",
    "data_catefories_join = data_categories.join(data_categories_parent.set_index('category_parent'),\n",
    "                                               on = \"category_parent\", how = 'left'\n",
    "                                              ).take([0, 1, 3, 4], axis=1)"
   ]
  },
  {
   "cell_type": "code",
   "execution_count": 41,
   "metadata": {},
   "outputs": [
    {
     "data": {
      "text/html": [
       "<div>\n",
       "<style scoped>\n",
       "    .dataframe tbody tr th:only-of-type {\n",
       "        vertical-align: middle;\n",
       "    }\n",
       "\n",
       "    .dataframe tbody tr th {\n",
       "        vertical-align: top;\n",
       "    }\n",
       "\n",
       "    .dataframe thead th {\n",
       "        text-align: right;\n",
       "    }\n",
       "</style>\n",
       "<table border=\"1\" class=\"dataframe\">\n",
       "  <thead>\n",
       "    <tr style=\"text-align: right;\">\n",
       "      <th></th>\n",
       "      <th>category_parent</th>\n",
       "      <th>name_parent</th>\n",
       "      <th>category_id</th>\n",
       "      <th>category_name</th>\n",
       "    </tr>\n",
       "  </thead>\n",
       "  <tbody>\n",
       "    <tr>\n",
       "      <th>0</th>\n",
       "      <td>3</td>\n",
       "      <td>Comics</td>\n",
       "      <td>3</td>\n",
       "      <td>Comics</td>\n",
       "    </tr>\n",
       "    <tr>\n",
       "      <th>1</th>\n",
       "      <td>6</td>\n",
       "      <td>Dance</td>\n",
       "      <td>6</td>\n",
       "      <td>Dance</td>\n",
       "    </tr>\n",
       "    <tr>\n",
       "      <th>2</th>\n",
       "      <td>13</td>\n",
       "      <td>Journalism</td>\n",
       "      <td>13</td>\n",
       "      <td>Journalism</td>\n",
       "    </tr>\n",
       "    <tr>\n",
       "      <th>3</th>\n",
       "      <td>15</td>\n",
       "      <td>Photography</td>\n",
       "      <td>15</td>\n",
       "      <td>Photography</td>\n",
       "    </tr>\n",
       "    <tr>\n",
       "      <th>4</th>\n",
       "      <td>12</td>\n",
       "      <td>Games</td>\n",
       "      <td>12</td>\n",
       "      <td>Games</td>\n",
       "    </tr>\n",
       "  </tbody>\n",
       "</table>\n",
       "</div>"
      ],
      "text/plain": [
       "   category_parent  name_parent  category_id category_name\n",
       "0                3       Comics            3        Comics\n",
       "1                6        Dance            6         Dance\n",
       "2               13   Journalism           13    Journalism\n",
       "3               15  Photography           15   Photography\n",
       "4               12        Games           12         Games"
      ]
     },
     "execution_count": 41,
     "metadata": {},
     "output_type": "execute_result"
    }
   ],
   "source": [
    "# shape parent categories such that can be appended to child categories\n",
    "data_categories_parent_c = data_categories_parent\n",
    "data_categories_parent_c['category_id'] = data_categories_parent['category_parent']\n",
    "data_categories_parent_c['category_name'] = data_categories_parent['name_parent']\n",
    "data_categories_parent_c.take([0, 1, 3, 4], axis=1).head()"
   ]
  },
  {
   "cell_type": "code",
   "execution_count": 42,
   "metadata": {},
   "outputs": [
    {
     "data": {
      "text/plain": [
       "(170, 5)"
      ]
     },
     "execution_count": 42,
     "metadata": {},
     "output_type": "execute_result"
    }
   ],
   "source": [
    "# append both parent and child categories in one\n",
    "data_catefories_cleaned = data_catefories_join.append(data_categories_parent_c.take([0, 1, 3, 4], axis=1),\n",
    "                                                      sort = True).reset_index()\n",
    "data_catefories_cleaned.shape\n",
    "# total of 170 categories, and 15 parent categories"
   ]
  },
  {
   "cell_type": "code",
   "execution_count": 43,
   "metadata": {},
   "outputs": [],
   "source": [
    "#### save a copy of the category records\n",
    "with open(\"pickle/category_info.pkl\", \"wb\") as f:\n",
    "    pickle.dump(data_catefories_cleaned, f)"
   ]
  },
  {
   "cell_type": "markdown",
   "metadata": {},
   "source": [
    "## merge project info with category info and cleanup"
   ]
  },
  {
   "cell_type": "code",
   "execution_count": 54,
   "metadata": {},
   "outputs": [
    {
     "data": {
      "text/plain": [
       "(175561, 20)"
      ]
     },
     "execution_count": 54,
     "metadata": {},
     "output_type": "execute_result"
    }
   ],
   "source": [
    "data_records = dat_records.join(data_catefories_cleaned.set_index('category_id'),\n",
    "                                on = 'category', \n",
    "                                how = 'left')\n",
    "data_records.shape"
   ]
  },
  {
   "cell_type": "code",
   "execution_count": 55,
   "metadata": {},
   "outputs": [],
   "source": [
    "data_records['goal_usd'] = data_records['goal'] * data_records['usd_rate']\n",
    "data_records['pledge_usd'] = data_records['pledge'] * data_records['usd_rate']\n",
    "data_records['percent'] = data_records['pledge'] / data_records['goal']"
   ]
  },
  {
   "cell_type": "code",
   "execution_count": 56,
   "metadata": {},
   "outputs": [],
   "source": [
    "data_records['days_active'] = (data_records['deadline'] - data_records['launch'])/86400 #86400 seconds in a day\n",
    "data_records['days_draft'] = (data_records['launch'] - data_records['create'])/86400 "
   ]
  },
  {
   "cell_type": "markdown",
   "metadata": {},
   "source": [
    "## export project info into the postgre database"
   ]
  },
  {
   "cell_type": "code",
   "execution_count": 5,
   "metadata": {},
   "outputs": [],
   "source": [
    "dbname = 'birth_db'\n",
    "username = 'shengsql'\n",
    "pswd = '1234'"
   ]
  },
  {
   "cell_type": "code",
   "execution_count": 6,
   "metadata": {},
   "outputs": [],
   "source": [
    "# connect to the database with psycopg:\n",
    "con = None\n",
    "con = psycopg2.connect(database = dbname, user = username, host='localhost', password=pswd)\n",
    "cursor = con.cursor()"
   ]
  },
  {
   "cell_type": "code",
   "execution_count": 122,
   "metadata": {},
   "outputs": [],
   "source": [
    "# save the cleaned project info into the database\n",
    "engine = create_engine('postgresql://%s:%s@localhost/%s'%(username,pswd,dbname))\n",
    "data_records.to_sql('projects_m', engine)"
   ]
  }
 ],
 "metadata": {
  "kernelspec": {
   "display_name": "Python 3",
   "language": "python",
   "name": "python3"
  },
  "language_info": {
   "codemirror_mode": {
    "name": "ipython",
    "version": 3
   },
   "file_extension": ".py",
   "mimetype": "text/x-python",
   "name": "python",
   "nbconvert_exporter": "python",
   "pygments_lexer": "ipython3",
   "version": "3.8.1"
  }
 },
 "nbformat": 4,
 "nbformat_minor": 4
}
