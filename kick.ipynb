{
  "nbformat": 4,
  "nbformat_minor": 0,
  "metadata": {
    "colab": {
      "name": "kick.ipynb",
      "provenance": [],
      "authorship_tag": "ABX9TyOohr21UE0q81prLuXUsKjd",
      "include_colab_link": true
    },
    "kernelspec": {
      "name": "python3",
      "display_name": "Python 3"
    },
    "accelerator": "GPU"
  },
  "cells": [
    {
      "cell_type": "markdown",
      "metadata": {
        "id": "view-in-github",
        "colab_type": "text"
      },
      "source": [
        "<a href=\"https://colab.research.google.com/github/ShengpeiWang/kickstarter/blob/master/kick.ipynb\" target=\"_parent\"><img src=\"https://colab.research.google.com/assets/colab-badge.svg\" alt=\"Open In Colab\"/></a>"
      ]
    },
    {
      "cell_type": "code",
      "metadata": {
        "id": "K8teoOiv37K4",
        "colab_type": "code",
        "outputId": "adcf570f-4ca0-436d-a96c-6a3242011ae9",
        "colab": {
          "base_uri": "https://localhost:8080/",
          "height": 34
        }
      },
      "source": [
        "# local colab set up\n",
        "# remember to turn the GPU option on\n",
        "from google.colab import drive\n",
        "drive.mount('/content/gdrive', force_remount=True)\n",
        "root_dir = \"/content/gdrive/My Drive/\"\n",
        "base_dir = root_dir + 'fastai-v3/kick'"
      ],
      "execution_count": 1,
      "outputs": [
        {
          "output_type": "stream",
          "text": [
            "Mounted at /content/gdrive\n"
          ],
          "name": "stdout"
        }
      ]
    },
    {
      "cell_type": "code",
      "metadata": {
        "id": "TuF8MBmg4Kcs",
        "colab_type": "code",
        "colab": {}
      },
      "source": [
        "# set up python environment\n",
        "%reload_ext autoreload\n",
        "%autoreload 2\n",
        "%matplotlib inline\n",
        "\n",
        "from fastai.text import *\n",
        "\n",
        "from sklearn.model_selection import train_test_split"
      ],
      "execution_count": 0,
      "outputs": []
    },
    {
      "cell_type": "markdown",
      "metadata": {
        "id": "roe53KY892_h",
        "colab_type": "text"
      },
      "source": [
        "# Load and wrangle the Kickstarter data\n"
      ]
    },
    {
      "cell_type": "code",
      "metadata": {
        "id": "RhgOOgBP4s80",
        "colab_type": "code",
        "colab": {}
      },
      "source": [
        "# load the kickstarter dataset\n",
        "# Data cleaning was done in the other jupyter notebooks\n",
        "with open(base_dir + \"/project_data_complete.pkl\", \"rb\") as f:\n",
        "  df = pickle.load(f)"
      ],
      "execution_count": 0,
      "outputs": []
    },
    {
      "cell_type": "code",
      "metadata": {
        "id": "14fa587W5Kou",
        "colab_type": "code",
        "colab": {}
      },
      "source": [
        "df['story_tb'] = df[\"project_name\"].map(str) + df[\"blurb\"].map(str) +df[\"story\"].map(str)"
      ],
      "execution_count": 0,
      "outputs": []
    },
    {
      "cell_type": "code",
      "metadata": {
        "id": "EK8lhP4m8L11",
        "colab_type": "code",
        "outputId": "44189e58-3ac6-421a-89f6-0aeafbc39ecd",
        "colab": {
          "base_uri": "https://localhost:8080/",
          "height": 139
        }
      },
      "source": [
        "df.columns"
      ],
      "execution_count": 0,
      "outputs": [
        {
          "output_type": "execute_result",
          "data": {
            "text/plain": [
              "Index(['index', 'project_id', 'url', 'story', 'project_id', 'project_name',\n",
              "       'blurb', 'goal', 'pledge', 'state', 'country', 'deadline', 'create',\n",
              "       'launch', 'staff_pick', 'backers', 'usd_rate', 'creator', 'category',\n",
              "       'url', 'category_name', 'category_parent', 'name_parent', 'goal_usd',\n",
              "       'pledge_usd', 'percent', 'days_active', 'days_draft', 'language',\n",
              "       'keep_story', 'story_tb'],\n",
              "      dtype='object')"
            ]
          },
          "metadata": {
            "tags": []
          },
          "execution_count": 10
        }
      ]
    },
    {
      "cell_type": "code",
      "metadata": {
        "id": "IaqgYHlr83p1",
        "colab_type": "code",
        "colab": {}
      },
      "source": [
        "df['l_goal'] = np.log10(df['goal_usd'] + 1)\n",
        "df['l_pledge'] = np.log10(df['pledge_usd'] + 1)\n",
        "df['l_percent'] = np.log10(df['percent']*100+1)\n",
        "max_bin = max(df['percent']*100)+1\n",
        "df['performance'] = pd.cut(df['percent']*100,\n",
        "                                 bins = [0, 1, 100, 120, max_bin], \n",
        "                                 labels = [\"fail\", \"some\", \"goal\", \"great\"],\n",
        "                                 right = False)\n",
        "df['performance_n'] = pd.cut(df['percent']*100,\n",
        "                                 bins = [0, 1, 100, 120, max_bin], \n",
        "                                 labels = [0,1,2,3],\n",
        "                                 right = False)"
      ],
      "execution_count": 0,
      "outputs": []
    },
    {
      "cell_type": "code",
      "metadata": {
        "id": "OqKkbENG7v9k",
        "colab_type": "code",
        "colab": {}
      },
      "source": [
        "data_y = df[['l_pledge']]\n",
        "data_x = df[['name_parent', 'l_pledge', 'performance', 'story_tb']]\n",
        "\n",
        "X_train, X_test, Y_train, _ = train_test_split(data_x, data_y, test_size = 0.20, random_state = 61, stratify = data_x[['name_parent']])\n",
        "\n",
        "x_train, x_val, _, _ = train_test_split(X_train, Y_train, test_size = 0.20, random_state = 59, stratify = X_train[['name_parent']])"
      ],
      "execution_count": 0,
      "outputs": []
    },
    {
      "cell_type": "markdown",
      "metadata": {
        "id": "uXSi79a1-AMb",
        "colab_type": "text"
      },
      "source": [
        "# Preparing the data for fast.ai applications\n"
      ]
    },
    {
      "cell_type": "code",
      "metadata": {
        "id": "pAKO_0m05r77",
        "colab_type": "code",
        "outputId": "0b551016-4230-4688-ad22-81aa41bd0fa3",
        "colab": {
          "base_uri": "https://localhost:8080/",
          "height": 17
        }
      },
      "source": [
        "data_lm = TextLMDataBunch.from_df(path = base_dir, train_df= x_train, valid_df= x_val, text_cols= \"story_tb\")\n",
        "# this takes a few seconds to run"
      ],
      "execution_count": 0,
      "outputs": [
        {
          "output_type": "display_data",
          "data": {
            "text/html": [
              ""
            ],
            "text/plain": [
              "<IPython.core.display.HTML object>"
            ]
          },
          "metadata": {
            "tags": []
          }
        },
        {
          "output_type": "display_data",
          "data": {
            "text/html": [
              ""
            ],
            "text/plain": [
              "<IPython.core.display.HTML object>"
            ]
          },
          "metadata": {
            "tags": []
          }
        }
      ]
    },
    {
      "cell_type": "code",
      "metadata": {
        "id": "LSoUV5z16r_A",
        "colab_type": "code",
        "colab": {}
      },
      "source": [
        "data_lm.save('data_lm.pkl')"
      ],
      "execution_count": 0,
      "outputs": []
    },
    {
      "cell_type": "code",
      "metadata": {
        "id": "wOx9y1qj_Cjb",
        "colab_type": "code",
        "colab": {}
      },
      "source": [
        "bs=32"
      ],
      "execution_count": 0,
      "outputs": []
    },
    {
      "cell_type": "code",
      "metadata": {
        "id": "qUr8kycvXKhH",
        "colab_type": "code",
        "colab": {}
      },
      "source": [
        "data_lm = load_data(path = base_dir, file = \"data_lm.pkl\", bs = bs)"
      ],
      "execution_count": 0,
      "outputs": []
    },
    {
      "cell_type": "code",
      "metadata": {
        "id": "RoTA8l7E-GWF",
        "colab_type": "code",
        "outputId": "92a5a0b3-2470-4a9e-fa84-ac966f8ad975",
        "colab": {
          "base_uri": "https://localhost:8080/",
          "height": 310
        }
      },
      "source": [
        "# let's take a look at the tokenized text\n",
        "data_lm.show_batch()"
      ],
      "execution_count": 0,
      "outputs": [
        {
          "output_type": "display_data",
          "data": {
            "text/html": [
              "<table border=\"1\" class=\"dataframe\">\n",
              "  <thead>\n",
              "    <tr style=\"text-align: right;\">\n",
              "      <th>idx</th>\n",
              "      <th>text</th>\n",
              "    </tr>\n",
              "  </thead>\n",
              "  <tbody>\n",
              "    <tr>\n",
              "      <td>0</td>\n",
              "      <td>- throwing locations in or near baltimore , philadelphia , chicago , san xxunk , detroit , austin , charlotte , denver , and brooklyn , among other xxunk i heard of this sport i quickly jumped online to find a location near me where i could try this out . living in seattle , with its rich logging history , i was shocked to find i would either need</td>\n",
              "    </tr>\n",
              "    <tr>\n",
              "      <td>1</td>\n",
              "      <td>a great story behind it . the story of luma smartlamp involves great designers like ryan xxunk , tanner slade , drew smith , bryce xxunk , jonny wilson and carter xxunk who were key in defining the silhouette , shaping the functionality and building our successful prototypes.the founding partners of luma smartlamp are brennan xxunk , wes xxunk and dan barnes . these three are also founding partners of</td>\n",
              "    </tr>\n",
              "    <tr>\n",
              "      <td>2</td>\n",
              "      <td>you are very welcome to make a further donation if you wish to support my humble project ! please suggest rewards that you would like to receive as i am out of ideas for that ... do watch the video for a reading of some of my poems ! xxbos xxmaj special xxmaj needs xxmaj self xxmaj sustainable / xxmaj organic xxunk me spread the love ! xxmaj lets start</td>\n",
              "    </tr>\n",
              "    <tr>\n",
              "      <td>3</td>\n",
              "      <td>profitable within 12 months so we can start xxunk hoping to have beta up by march 2016 . this would give us around 3 months to develop this new text to speech technology . xxbos xxmaj two new jazz / fusion albums from xxmaj benjamin xxunk the release of my debut 2019 album , producing my next independent release has resulted in the creation of two new xxunk releasing two</td>\n",
              "    </tr>\n",
              "    <tr>\n",
              "      <td>4</td>\n",
              "      <td>a modular smartphone gimbal for life . more than a one - trick balance stick . \" stuff xxunk the smartphone puts a camera into a pocket , then this turns it into a mobile studio . \" xxunk more grain in low light ! the integrated usb light has 5 adjustable power settings with colour temperature control . unlike the fixed position light on your smartphone our flexi -</td>\n",
              "    </tr>\n",
              "  </tbody>\n",
              "</table>"
            ],
            "text/plain": [
              "<IPython.core.display.HTML object>"
            ]
          },
          "metadata": {
            "tags": []
          }
        }
      ]
    },
    {
      "cell_type": "markdown",
      "metadata": {
        "id": "7IGb5jCQ_EDt",
        "colab_type": "text"
      },
      "source": [
        "# Training the language model"
      ]
    },
    {
      "cell_type": "code",
      "metadata": {
        "id": "LKBVPo6__S_m",
        "colab_type": "code",
        "outputId": "64974996-081d-463d-c3c0-17d648f3c874",
        "colab": {
          "base_uri": "https://localhost:8080/",
          "height": 34
        }
      },
      "source": [
        "learn = language_model_learner(data_lm, AWD_LSTM, drop_mult=0.3)"
      ],
      "execution_count": 0,
      "outputs": [
        {
          "output_type": "stream",
          "text": [
            "Downloading https://s3.amazonaws.com/fast-ai-modelzoo/wt103-fwd\n"
          ],
          "name": "stdout"
        },
        {
          "output_type": "display_data",
          "data": {
            "text/html": [
              ""
            ],
            "text/plain": [
              "<IPython.core.display.HTML object>"
            ]
          },
          "metadata": {
            "tags": []
          }
        }
      ]
    },
    {
      "cell_type": "code",
      "metadata": {
        "id": "nqnyE-uq_Tu9",
        "colab_type": "code",
        "outputId": "acb616c1-f462-4fce-e6a1-50f4f9b042e4",
        "colab": {
          "base_uri": "https://localhost:8080/",
          "height": 113
        }
      },
      "source": [
        "learn.lr_find()\n",
        "# this takes a while"
      ],
      "execution_count": 0,
      "outputs": [
        {
          "output_type": "display_data",
          "data": {
            "text/html": [
              "\n",
              "    <div>\n",
              "        <style>\n",
              "            /* Turns off some styling */\n",
              "            progress {\n",
              "                /* gets rid of default border in Firefox and Opera. */\n",
              "                border: none;\n",
              "                /* Needs to be in here for Safari polyfill so background images work as expected. */\n",
              "                background-size: auto;\n",
              "            }\n",
              "            .progress-bar-interrupted, .progress-bar-interrupted::-webkit-progress-bar {\n",
              "                background: #F44336;\n",
              "            }\n",
              "        </style>\n",
              "      <progress value='0' class='' max='1' style='width:300px; height:20px; vertical-align: middle;'></progress>\n",
              "      0.00% [0/1 00:00<00:00]\n",
              "    </div>\n",
              "    \n",
              "<table border=\"1\" class=\"dataframe\">\n",
              "  <thead>\n",
              "    <tr style=\"text-align: left;\">\n",
              "      <th>epoch</th>\n",
              "      <th>train_loss</th>\n",
              "      <th>valid_loss</th>\n",
              "      <th>accuracy</th>\n",
              "      <th>time</th>\n",
              "    </tr>\n",
              "  </thead>\n",
              "  <tbody>\n",
              "  </tbody>\n",
              "</table><p>\n",
              "\n",
              "    <div>\n",
              "        <style>\n",
              "            /* Turns off some styling */\n",
              "            progress {\n",
              "                /* gets rid of default border in Firefox and Opera. */\n",
              "                border: none;\n",
              "                /* Needs to be in here for Safari polyfill so background images work as expected. */\n",
              "                background-size: auto;\n",
              "            }\n",
              "            .progress-bar-interrupted, .progress-bar-interrupted::-webkit-progress-bar {\n",
              "                background: #F44336;\n",
              "            }\n",
              "        </style>\n",
              "      <progress value='99' class='' max='217' style='width:300px; height:20px; vertical-align: middle;'></progress>\n",
              "      45.62% [99/217 32:50<39:08 12.7121]\n",
              "    </div>\n",
              "    "
            ],
            "text/plain": [
              "<IPython.core.display.HTML object>"
            ]
          },
          "metadata": {
            "tags": []
          }
        },
        {
          "output_type": "stream",
          "text": [
            "LR Finder is complete, type {learner_name}.recorder.plot() to see the graph.\n"
          ],
          "name": "stdout"
        }
      ]
    },
    {
      "cell_type": "code",
      "metadata": {
        "id": "tKYhUudiQEMh",
        "colab_type": "code",
        "outputId": "3962a46c-9bf3-4049-c2af-31b13b6f9e58",
        "colab": {
          "base_uri": "https://localhost:8080/",
          "height": 279
        }
      },
      "source": [
        "learn.recorder.plot(skip_end=15)"
      ],
      "execution_count": 0,
      "outputs": [
        {
          "output_type": "display_data",
          "data": {
            "image/png": "[encoded data removed]",
            "text/plain": [
              "<Figure size 432x288 with 1 Axes>"
            ]
          },
          "metadata": {
            "tags": [],
            "needs_background": "light"
          }
        }
      ]
    },
    {
      "cell_type": "code",
      "metadata": {
        "id": "zyLlqe87T027",
        "colab_type": "code",
        "outputId": "f3bbbbc6-8fdb-46d4-919b-a12d344c3416",
        "colab": {
          "base_uri": "https://localhost:8080/",
          "height": 81
        }
      },
      "source": [
        "# fit one cycle for the last layer\n",
        "learn.fit_one_cycle(1, 1e-2, moms=(0.8,0.7))\n",
        "# "
      ],
      "execution_count": 0,
      "outputs": [
        {
          "output_type": "display_data",
          "data": {
            "text/html": [
              "<table border=\"1\" class=\"dataframe\">\n",
              "  <thead>\n",
              "    <tr style=\"text-align: left;\">\n",
              "      <th>epoch</th>\n",
              "      <th>train_loss</th>\n",
              "      <th>valid_loss</th>\n",
              "      <th>accuracy</th>\n",
              "      <th>time</th>\n",
              "    </tr>\n",
              "  </thead>\n",
              "  <tbody>\n",
              "    <tr>\n",
              "      <td>0</td>\n",
              "      <td>5.025197</td>\n",
              "      <td>4.545310</td>\n",
              "      <td>0.226865</td>\n",
              "      <td>01:17</td>\n",
              "    </tr>\n",
              "  </tbody>\n",
              "</table>"
            ],
            "text/plain": [
              "<IPython.core.display.HTML object>"
            ]
          },
          "metadata": {
            "tags": []
          }
        }
      ]
    },
    {
      "cell_type": "code",
      "metadata": {
        "id": "Jj9QNmPWT5DH",
        "colab_type": "code",
        "colab": {}
      },
      "source": [
        "learn.save('fit_head')"
      ],
      "execution_count": 0,
      "outputs": []
    },
    {
      "cell_type": "code",
      "metadata": {
        "id": "ScgZpsUsT5wV",
        "colab_type": "code",
        "outputId": "1fb55761-9b7b-41a9-c8c1-902df73e24d3",
        "colab": {
          "base_uri": "https://localhost:8080/",
          "height": 1000
        }
      },
      "source": [
        "learn.load('fit_head')"
      ],
      "execution_count": 0,
      "outputs": [
        {
          "output_type": "execute_result",
          "data": {
            "text/plain": [
              "LanguageLearner(data=TextLMDataBunch;\n",
              "\n",
              "Train: LabelList (1348 items)\n",
              "x: LMTextList\n",
              "xxbos xxmaj gone xxmaj west xxmaj axe xxunk xxmaj west will be xxmaj seattle 's first axe throwing xxunk axe throwing to the pacific xxunk throwing is one of the fastest growing sports in north america . the idea of a commercial location that provided patrons with a safe controlled environment to enjoy the sport originated in canada but has quickly spread throughout the united states . there are axe - throwing locations in or near baltimore , philadelphia , chicago , san xxunk , detroit , austin , charlotte , denver , and brooklyn , among other xxunk i heard of this sport i quickly jumped online to find a location near me where i could try this out . living in seattle , with its rich logging history , i was shocked to find i would either need to leave the country , or drive nearly 800 miles to the closest location in the united xxunk was then i started looking into the logistics of opening a location in the seattle metro area . i 've spent my free time over the last 6 months researching the sport , potential locations , build out costs , insurance costs , and i have finally reached the point where i 'm ready to pitch this to you on xxunk , back up a second , axe xxunk short , axe throwing is very similar to darts , except the targets are much larger and you 're throwing axes instead of xxunk length of a session is dependent on the size of the group , with it taking roughly between two and two and a half hours for a group of 8 - 12 xxunk plan to allow all outside food and drink , and food delivery . depending on insurance costs and interest we are also considering byob for beer in wine . there will be communal areas for customers to sit down , eat , drink , and xxunk two largest axe throwing organizations xxunk and xxunk provide more in depth rules and regulations if you are interested in learning more : https : / / xxunk / http : / / xxunk / our goalthe main goal of our kickstarter is to xxunk interest from our local community . i believe an axe throwing business we be right at home here in seattle , but i 'd love to see some concrete interest , and the funding raised from our backers will give us a healthy starting point on top of the funding i have already secured for this xxunk thanksthank you to the following people who shared their axe throwing experiences and videos with us , allowing us to give a more compelling pitch for our vision . xxunk - https : / / www.instagram.com / xxunk / xxunk - https : / / www.instagram.com / xxunk / xxunk - https : / / www.instagram.com / xxunk /,xxbos xxunk and clever xxunk - in functions : xxmaj self xxmaj stick , powerbank , xxmaj bluetooth xxmaj shutter , xxmaj flashlight , an xxmaj umbrella . xxmaj with xxmaj notification xxmaj xxunk only smart but the only clever umbrella . with build - in functions without sacrificing your style . made up of 5 parts to fulfill your need of a self stick , a power - bank , a bluetooth remote shutter , a flashlight , and of course an umbrella . and with our app , you will be able to get all types notifications . if you are forgetting to take your xxunk with you or help you find it if you misplaced xxunk bluetooth remote xxunk wireless remote shutter for iphone , samsung , and other smart phone cameras . smartphone mount gopro mount camera xxunk stick - self - portrait extendable xxunk . perfect for a close - up , a wide panoramic , or a group xxunk - in xxunk power - bank of 2200 mah battery and output 5v / 1a . a fully charged power - bank can support smart phone fast xxunk xxunk handy led flashlight built into xxunk initial colors will be black , baby blue , apple green , xxunk , and leopard xxunk xxunk xxunk ® invisible coating allows rain to roll right off so umbrella stays 4x xxunk -- no more dripping mess ! maximum strength frame withstands winds up to 70 mph compact design perfect to stash in your purse or bag . battery : xxunk mah | input : micro usb | output : usb 2.0 | leds : 1 flashlight , 1 power / bluetooth indicator | length : 13.5 \" , xxunk \" extended | weight : < 2 lbs | diameter : 2 \" | xxunk arc : 39 \" | open / close : xxunk it working : shipping : we're offering shipments to every country in the world . shipping is free for backers in the xxunk backers , we have an estimate shipping fee and we are working to reduce it ones we have a list of xxunk note that you will be responsible for duties , fees and taxes applicable to your xxunk us : if you have questions , you can always reach us at xxunk,xxbos xxmaj help xxmaj release \" xxmaj real xxmaj feels xxmaj live xxmaj vol . xxunk from a magical night in xxmaj los xxmaj angeles - the band sounds incredible , the album is finished , but we need your help to release xxunk everyone , my name is john raymond and i play trumpet and flugelhorn . i 've got a band called real feels which includes two incredible musicians and dear friends of mine - guitarist gilad xxunk and drummer colin xxunk . we recently put out our latest album \" joy ride \" in early 2018 , and in the process of touring for the album we recorded a handful of live shows in hopes that we could eventually put a new live album together ( because i really believe this band is at its absolute best when heard live ) . well , sure enough , we got some amazing recordings and , after xxunk through everything from all the shows , i 've put together what are honestly some of my favorite musical moments that i 've ever been a part of . but , i need your help to make the album xxunk by andrea xxunk i look back over the last 4 years since the band began , it 's pretty crazy to think about all that 's happened . from the release of our first album real feels in 2016 , to the near 100 shows we 've done since , to that special night in la where \" minor silverstein \" happened , to getting to tour internationally in japan this past summer for the first time , and so much more ... every moment has been incredibly xxunk , truth be told , the reason it 's been so memorable is that we 've gotten to share all these moments with so many of you . this has really made me realize how much the process of creating and sharing music is not just about the music or the art of it all ... it 's about this connection we all share together around the music . it 's about a sense of family or community where we all experience and feel something together ... that 's what makes me know that there 's a deeper purpose and meaning in this music . and so , i 'm hoping that , if you are into this band and into the music we make - or to say it another way ... if you ’re a part of this real feels family - that you ’ll consider helping me make this thing xxunk new live album will be comprised of 6 tracks , all taken from a show we played at the blue whale in los angeles ( one of our favorite venues and cities in the world ) . i 've spoken with the folks at xxunk records about putting it out in early 2019 and they 're totally on board . now , i just have to find a way to make it happen ! specifically , this means that i need to raise money to cover the following expenses : paying gilad and colin ( i ca n't not pay the guys who made this music what it xxunk & mastering the record w / the great dave xxunk artwork and design w / jamie xxunk of xxunk xxunk for the record so that it can get reviewed / read about in as many places as xxunk new videos with the band ! : ) online promotion for the music and the new xxunk you can see , there are many different tiers in which you can support the project and get cool stuff in return ( each named after one of our favorite places that we 've played over the last few years ) . beyond getting the music for yourself via download or cd , you can get a dope real feels tee ( in black or gray ) , pdf xxunk of all our arrangements / tunes , a skype lesson with me , a real feels cd bundle that includes all 4 of our albums and more . you can even request a song for us to cover and we 'll send you a personal recording of our arrangement on it ! any way you choose to go , i 'm excited to be able to share all this other cool stuff with you all besides the music.as i 'm sure you know , the fundraising goal for the album is an \" all - or - nothing \" venture , so any amount that you can give to support the project will make a huge difference . again , from the bottom of my heart … thank you all so much for all the love and good vibes you ’ve given me and this band over the past few years . i ca n’t wait to share this music with you all and thank you in advance for your xxunk,xxbos xxup intuitive xxmaj mechanical xxmaj engineering . xxmaj world 1st visual xxunk , xxmaj clear & xxmaj concise handbook about xxmaj mechanical xxmaj engineering . xxmaj graphically designed for xxmaj students , xxmaj product xxmaj developers & xxmaj project xxmaj managers . 29 / 6 / 19 : first copies arrived ! stretch goals : matt laminated cover instead of just matte paper , and additional team management feature in the gantt excel file ! see the 2nd update for more details and xxunk rendered photo , recreated in real - life ! this material is fantastic , it is so soft on the touch and the matt paper coating makes the color vibrant and clear - i 'd never imagined it would be this xxunk everyone ! my name is antonio xxunk , a 27 years old mechanical engineer with 3 years of experience in the field ( you may find more details on linkedin ) . the xxunk have always noticed how it is not easy for people with different cultural backgrounds to effectively communicate together . i wanted to facilitate xxunk , so i started taking concise notes to explain mechanical engineering topics in a simple way . i also started studying visual design so i could make better notes . this process lasted for 6 years , 3 of which in real - life job xxunk i want to helpi want to empower everyone in the world with the basic knowledge of mechanical engineering topics , and i want to do this with the help of clear , appealing visual design . that 's why i condensed this practical , easy - to - grasp mechanical engineering knowledge in a concise e - book . this short handbook ( 51 pages ) will be of most use to three main categories : with clean graphics and easy - to - grasp explanations , this book is a solid reference to look up to . by reading it before the in - depth university study , you will immediately grasp the underlying concept . also , you will understand what and how the things you learn will be useful to you in a future job . the last chapter also contains a brief guide to the most common work positions in the mechanical engineering field , so you can get a better idea of what real - life engineers do . as a product development engineer myself , i find it useful to have all the most important information to keep in mind during a product development process - and so will you ! from material properties to manufacturing methods , get handy information on the most common choices you will have to face during your xxunk effectively manage a team with mechanical engineers , one needs to have a general knowledge of the topic - what better way of having it than a clear and concise book ? also , relative time and costs for main applications are reported here , so to have some reference values . a peek in the content ... take a look at the structured index in the infographic below ! you will be presented the main mechanical engineering topics in a way that xxunk the phases of a product development process - starting from the materials ' choice , you will see how these are studied and processed into xxunk items , finally passing through the product design and validation . additionally , to readily access the most important information for each topic , i have created a so - called \" tab \" section which summarizes the chapter 's most important concept in a single page . these \" tab \" pages have a dark blue background , compared to the standard page 's white one - so that you are immediately focused on the content . find a comparison below : a standard chapter page , the one about materials . the most relevant information about the most common material classes ( metals , plastics , and ceramics ) are given in just a single , concise xxunk standard chapter page , the one about joining methods . the most relevant & practical information about this topic is given in just a single , concise xxunk the start of every chapter with a relevant quote ! it pretty much summarizes the entire chapter 's content , but that would too much concise i think … be sure to read the chapter , it will be quick & easy ! rewards & schedule i am excited to share this easy - to - understand knowledge juice with you , and i look forward to helping people from all over the world to have the best time understanding mechanical engineering in the easiest possible way ! back me up and i 'll properly reward you on three main levels : earliest e - book copy ( pdf file ) : the cheapest , yet includes all the precious content ! i will send it worldwide in pdf format via an amazon coupon code ( 100 % discount ) or if you prefer , via mail . also : the book is written in a landscape layout so that you get the most when visualizing it on screen . save the environment and visualize the beautiful e - book on your digital screen ! earliest e - book copy ( pdf file ) + gantt management file ( xxunk file ) : in addition to the very first e - book copy , you shall get an intuitive : excel gantt file to organize / keep track of your projects in the easiest possible way ! this is an exceptional file of my creation that i use to track projects - i have tried many online gantt chart , but none had the simplicity and xxunk i needed in my everyday work . here is an example of what you get : quick look into this file : set the project name and the starting project year . then you just input the initial date for each project phase and the related milestone ; finally , you set an end date or a duration - both in days or weeks - that 's it ! everything else will be automatically filled , and there you have it - a quick , simple , intuitive gantt file ! ps . click on the image for full xxunk e - book copy ( pdf file ) + gantt management file ( xxunk file ) + exclusive printed handbook : i will not make physical copies of my e - book , but as a kickstarter exclusive , i will be making a premium full - color handbook copy , printed on high - quality 130 g matte paper , metallic spiral - joined . here is an image of what it would look like , although keep in mind this could not be representative of the reality - i do not have printed any hq copies yet as they are quite expensive to print xxunk left - side page is free for you to take notes , so you can use it as your personal notebook . update and evolve it as your knowledge xxunk copies are very expensive to be printed with such premium characteristics , i have limited their number to 20 total . this way , i can set an achievable kickstarter target of 800 € as a starting point ( i will make just around 3 % profits ) . then , if the public response is very positive and the campaign will reach the goal quickly , i will increase the number of copies : ) xxunk course , only valid for the limited edition handbook copy ( weight approx . 500 g ) . shipping will be done via my local country service ( xxunk xxunk ) . i would have preferred to ship traceable xxunk only , but this option is crazy expensive , so in addition , i offer a non - traceable shipping option for you to xxunk > registered shipping option : parcel is guaranteed to be traceable along all its route for these countries . here is the link for the tracking on my local carrier service . for other countries , tracking will happen until your country then it is up to your local service if tracking will continue . pay attention to monitor your shipping , or it may be sent back to me ! shipping time : not specified and guaranteed by the carrier ( i know ... ) , but employees said 2 weeks is the most common shipping time all over the xxunk > priority shipping option : parcel is not traceable - only shipping proof will be given ( released from the postal service ) . shipping time : on the shipping service website you will find all the details ( you 'll need to translate the page , sorry ! ) , but basically , 85 % of the shipments will take 8 ( working ) days to arrive in eu countries and 15 - 20 days to the rest of the world . where to ? kickstarter will add the cost of shipping based on where you live . when ? please note that scheduled month ( september ) refers to the shipping - depending on where you live , you may need to wait some more time . you need to take into account shipping time ! note : i will most likely ship by july , but you know , better safe than sorry ! custom duties : in some countries , customs duties may be applied to shipments . i have no way of predicting if they ’ll apply to your shipment , nor i can avoid it . anyway , some countries may not apply customs to items of such a small declared value .,xxbos xxmaj black xxmaj rabbit - xxunk third art book in the xxmaj black xxmaj rabbit xxunk folks , welcome to my project . i 'm pleased to announce the launch of my third black rabbit art book project here on kickstarter . the world i 'm building has developed and grown , and i 've enlisted the help of my writing friend toby xxunk . i ca n't wait to show you what we 've created . so with my moody low - light portraits and scenes , and with toby 's fantastic short story , we present to you ... xxunk day i speak to him , i meet somebody new . some days he knows me , some he does not . one day he is a tyrant , and the next he has the serenity of a monk ... \" the black rabbit is a wave of radiation that tears the world apart . the gravity on one side of the earth becomes unstable , and the ground starts to float into the air . xxunk living on the stable side become ill , and are forced to travel to the unstable side in order to recover - on the side where the earth is falling apart , they are given the chance to fight for their xxunk must also confront an even greater cosmic power , on the arrival of the ghost of the black rabbit . \" i have been watching the black rabbit . hundreds of spheres rising up and floating east . it is as though the earth is a cliff face and they are falling under the influence of an impossible gravity . \" the book is a hard back with heavy silk paper , a silky smooth matt finish cover , a large collection of my drawings and paintings , and a short science fiction xxunk black rabbit paintings including 5 never before seen xxunk pages of xxunk pages of concept xxunk ’s a closer look at the additional rewards ... there are no additional costs for shipping , on any of the xxunk really hope you like this body of work , it has been an absolute pleasure to create , and i would love to send a copy of the book to xxunk support black rabbit - xxunk . please back my xxunk xthe previous art books ... if you would also like one of the previous black rabbit books , please increase your pledge by £ 27 per book . alternatively you can purchase the previous books on my etsy page at ... https : / / www.etsy.com / shop / xxunk\n",
              "y: LMLabelList\n",
              ",,,,\n",
              "Path: /content/gdrive/My Drive/fastai-v3/kick;\n",
              "\n",
              "Valid: LabelList (337 items)\n",
              "x: LMTextList\n",
              "xxbos xxunk : xxmaj play stress away - xxmaj your xxmaj xxunk xxunk feedback to your health within seconds . xxmaj learn \" what you can do \" from your virtual coach and improve your fitness xxunk you ever get sick and you xxunk know why xxunk xxunk xxunk , not listening to the signs of your own body , permanently under high stress at work and in our free time makes you sick . \" its not stress that kills us , it is our reaction to it . “ hans xxunk xxunk your body xxunk xxunk we created the first high level bio - feedback device in the world for your daily life that xxunk within seconds what happens actually in your xxunk is high quality and high tech for less xxunk with xxunk engineers , top athletes , xxunk and xxunk we created a tool for people who want to keep well and fit and even become stronger . xxunk is always available - a coach for the xxunk virtual coach gives you xxunk what to do and offers mental and physical exercises . xxunk tests your xxunk gamified stress tests , mental and physical exercises to improve your fitness with game and xxunk xxunk you get a stronger immune system see how it works with the integrated head - up - display and the profound xxunk a part of our mission \" play stress away \" . play what people are saying xxunk gamification creates unique products that turn mental training into a game to help users relax , reduce stress , increase their focus and energy levels \" \" they use cutting - edge technologies such as wearables and methods such as gamification to give people a completely new way to approach the topics of stress prevention and mental techniques . \" the ' xxunk ' game controller comes as a modern piece of equipment for users who want to manage their stress level without having to do much else aside from play some simple games . xxunk which can help with reducing stress , providing relaxation as well as laughter , fun and gameplay \" das start - up xxunk einen xxunk und xxunk entwickelt , mit xxunk kinder xxunk , die xxunk des xxunk xxunk zu xxunk und xxunk xxunk ihre xxunk xxunk können . \" xxunk - a little ball with a big xxunk trains your body awareness and helps you to progress xxunk systemthe xxunk is a mobile game controller and xxunk device . when you hold the xxunk in your hand , the integrated sensors provide you with feedback on your personal stress level in a matter of seconds . these sensors measure your pulse , skin xxunk and skin xxunk current stress level is shown through color feedback . blue means that you ’re totally relaxed ; green stands for relaxed ; yellow shows that you ’re xxunk – while red means that your stress levels are at their limit and you should take a time out for a relaxation session as soon as xxunk - xxunk device & game xxunk unique xxunk sleeve , which consists of high quality silicone , can be ordered in different colors . feel the difference with or without a sleeve for special tactile sense xxunk with sleeve xxunk system includes : xxunk , a friendly xxunk device that measures your stress level while also being a full functional game xxunk , varied game - apps including mental training methods by using your bio - data ( skin xxunk , pulse , temperature ) for xxunk and xxunk , virtual coach that supports you with tips and tricks during the xxunk and afterwards via the xxunk xxunk app , daily relax scores help to keep you motivated . besides statistics and your game apps it also includes easy mental training applications and tutorial xxunk more information see our xxunk have developed different games , e.g. retro , arcade and sports games . the objective is to improve your physical wellbeing for stress , enhance your self - xxunk and help you increase your relaxation and concentration through a higher mental xxunk control the xxunk with the xxunk through movement interactions , play buttons and your current stress level . the recorded vital signs such as your pulse , skin xxunk and temperature are incorporated in your personal game xxunk - xxunk - xxunk xxunk interval training in a fun game , for enhanced xxunk and xxunk and concentrate to pinpoint your target focus . increase your relaxation and concentration xxunk your personal breath and the golf ball rolls toward the hole . only when you learn to relax properly you can become a pro xxunk the world against aliens by using your heart xxunk your way through the jungle and temple to put your relaxation ability to the xxunk incredible form puzzle to increase your creativity xxunk current games are compatible with android , ios , xxunk and windows . please stay posted , we will continue developing new games . xxunk games will also be available . our goal is to give you the ball in your own hands for your personal healthcare management . we guarantee you that the challenges will always be fun and motivating . ; xxunk more information see our xxunk more teaser videos our youtube xxunk app & xxunk virtual coach gives you tips and personalized feedback on your training progress . this helps you to stay on the ball and make constant xxunk personal coach the virtual xxunk gives you personal feedback and tips during the game , in real time . this means that you always know what to do to master the current game xxunk to the xxunk ( head - up display ) , you also receive feedback on your current stress xxunk head - up display shows your current pulse and stress level in real time in the form of a rev counter . xxunk also help you to interpret your stress xxunk app - keep on the xxunk our xxunk app you get all statistics from the xxunk , xxunk and xxunk with a simple tap . based on your personal values and results you will get an overall relax score which helps you to keep xxunk from the xxunk xxunk on your personal results you will also get recommendations from your xxunk to achieve lasting results in stress xxunk and tricks from your personal xxunk - easy mental training applications for xxunk xxunk are easy to use mental training programs , which you can easily integrate into your daily xxunk is an easy breathing exercise application . during your exercise the xxunk supports you with vibration feedback and thanks to the head - up - display you get a direct feedback about your stress level xxunk xxunk are part of the xxunk xxunk - xxunk and xxunk are videos that help you improve your progress in the xxunk . they although teach you simple mental training methods like breathing exercises or simply help you to relax during a break with a mental travel . the tutorials are part of the xxunk xxunk - to video xxunk the xxunk app you also get your game statistics and you are able to start and download the xxunk - game statistics xxunk contains sophisticated sensors that are able to measure your stress level . if you take the xxunk in your hand , your stress level will be measured every second , and you get a real time feedback via color xxunk you press and hold both buttons shortly , you will start a 7 second xxunk and you will get the average value as feedback . your stress level is calculated via an algorithm using your skin xxunk ( 50 % ) , skin temperature ( 25 % ) and heart rate ( xxunk xxunk sensor - two sensors on the play xxunk temperature sensor - at the back of the xxunk to measure the temperature in your hand heart rate sensor - two sensors on the play xxunk the xxunk is testing against a reference table , if you create an online account your xxunk will be learning from and with xxunk often technology just simply looks like another piece of technology . with xxunk , we wanted to design something that gives you a friendly feedback and creates positive thoughts just when you look at it . :-) nothing is that much linked to our xxunk to play and fun like a ball , because it is the first thing we start playing with as a baby . what 's xxunk is not just a pretty face . it 's built to last . its serious mechanical structure protects 4 boards , 10 sensors , over 200 electronic components and 12 housing parts . in order to fit so much technology into such a small space , we really had to get creative with things . the resulting design is beautiful inside and out , we xxunk more information see our xxunk is xxunk xxunk your career the motor that keeps you xxunk training with the xxunk will greatly enhance your stress tolerance and performance . - > successful & xxunk you a xxunk , juggling a variety of different xxunk the xxunk you will enjoy your breaks twice as much , feel more settled and have more energy . - > relaxed & more xxunk students achieve great results . what about xxunk the playful training you will concentrate better and you will be less nervous at xxunk and competitions . - > effective & mentally xxunk computer xxunk - kid , but xxunk at xxunk child - friendly games and controlled game phases are the perfect mixture for your kids . with xxunk , kids learn to relax and concentrate while playing . - > focused & achieving potential controlled gaming to enhance their ability to concentrate how we got xxunk the past 2 years , we 've done a lot of things : designing , prototyping , coding , testing , and improving our hard- and software many xxunk drawings first functional prototype the evolution of the xxunk . it was a long way from our first prototype to our current , full functional prototype marcel is presenting the latest prototype of the xxunk and explaining its xxunk more information see our xxunk more videos our youtube channel . where we are xxunk have 30 full functional prototypes of the xxunk , which we even use for stress management xxunk already developed 6 xxunk , which we are finalizing at the xxunk mini - backend is up and xxunk finished one xxunk ( xxunk ) , for the second application we have a finished xxunk development of the xxunk app is on - xxunk main parts of our sdk are xxunk xxunk tool manufacturing and finalizing plastics xxunk tool manufacturing for the xxunk zero manufacturing regarding electronic , housing and xxunk xxunk app xxunk development e.g. tutorials , statistics xxunk and xxunk xxunk / 2018 - finish xxunk , xxunk , charge xxunk / 2018 - finish xxunk app , series xxunk / 2018 - xxunk with xxunk basic idea behind xxunk is to bring more sense in my xxunk can use the xxunk anonymous and offline . that 's important to us . if you create an online account , you have access to your data from everywhere and they are backed . our future goal is that our system and people are learning from the crowd . we enjoy tinkering with and building xxunk of other products we like . xxunk will let you have that experience , our goal is to provide a sdk for developers . we would love to hear your thoughts on what you might want to build with xxunk , how you could directly interact with the hardware and the data it xxunk xxunk the xxunk team , we combine the expertise of elite sports coaches with strategic it management and years of experience in game development . our university partners , such as the vienna university of applied sciences and the university of vienna , bring their scientific know - how to bear . with a good deal of creativity and effort , we have achieved something completely new to the xxunk more information see our website.the xxunk do n’t most people stay on the ball ? ” this is the question andreas xxunk ( ceo of xxunk ) asked himself when he observed that – despite the active involvement of the participants in his training sessions – the sessions themselves rarely led to a reduction in stress . in the absence of a personal coach , most of the participants simply xxunk motivation . why not make the classic anti - stress ball intelligent and turn it into a games controller ? listen to the whole story . awards and nominations xxunk gift xxunk xxunk is also a mindful gift for your loved ones , which can bring much relaxation and fun in their lives . we will provide you with a customizable gift card , which you can download , edit and put under your christmas tree . that 's all xxunk xxunk on facebook , youtube , instagram , twitter and our website . and lastly , thank you ; we ca n't wait for you to use what we 're building . supporter and partners * supported by xxunk impulse xl of the austrian federal ministry of science , research and economy , administered by xxunk,xxbos xxmaj ocean xxmaj alien xxunk want to film , record , and live stream 24 / 7 the lives and development of octopus in order to learn everything we can about xxunk , my name is john and for the past 2 years i have been eating up as much information as i can find on anything that has to do with octopus . as much as i have soaked up i have realized that there is still much more we have to learn about these amazing animals . my goal is to set up large 24 / 7 observation project where i can monitor , record , and stream live the lives of these animals in order to better understand them . a project of this size requires the assistance of someone who knows and understands xxunk marine life and who could help me set up and maintain the tanks . also , i will need to have a website to run the whole thing off of . then there is the actual equipment . costs add up quick and its simply just not feasible for me to chunk out all that capital from the jump . in the end i want to have something that i can share with everyone . i believe that we have a lot to learn from these creatures on our own planet that are nothing less than alien . however , this is something i 'm going to need all the help i can . anything that you can spare or help with will be greatly appreciated and put to good use . thank you for your time and consideration . donate or not always keep a health thirst for knowledge . xxunk r smith,xxbos xxmaj the xxmaj xxunk t - xxunk xxmaj xxunk need you to help us get t - shirts xxunk xxunk are band from xxunk , xxunk . after many requests for merch we have finally decided that it 's a good idea ! the only thing is that we ca n't afford to pay for the printing costs . this is where you come in ! every dollar helps . $ 20 + pledge will get you a t - xxunk + pledge will get you a t - shirt and a super limited demo xxunk you 're a big enough legend to pledge $ 20 + , leave us a message on here ( or our facebook page ) as to what size shirt you would like , just so we can order the right amount !,xxbos xxunk - xxmaj finally great fitting plus size xxunk you recognize yourself ? xxmaj uncomfortable , xxunk and bad features at your everyday xxunk you recognize yourself ? uncomfortable , xxunk and bad features on your everyday xxunk vision is to develop everyday clothes that are adapted to fit the larger xxunk 10 years of experience and expertise in clothing for larger people , we see a shortage in what is delivered to the end customer today . the industry chooses to look away from large - scale people and create size models that become smaller and smaller . while most of us find it difficult to find clothes of a larger size . we have gathered all the stories that our customers have told us , and created a collection that should correspond to what 's xxunk the launch of xxunk voices xxunk be xxunk have listened to over 100 people who have sizes between xxunk xxunk . we have collected their thoughts and manufactured these 3 products for our first launch . stretch t - shirt we want you to feel comfortable . the t - shirt collection contains a basic model with a single - round neck , shorter and xxunk sleeves than today 's standard measurements available on the market . we have seen that the demand for shorter sleeves and garment length is higher than ever . the t - shirt model has a longer back than the front to minimize the risk of creating a gap between t - shirt and trousers . ( measured in xxunk xxunk the stories and wishes we have been told , it has been one thing in common . a jacket that you can wear every day , under all conditions . it must be warm , light , have breathability and a great comfort . it took us two years of designing and testing to get the ultimate result . this is our xxunk jacket - your every day buddy . ( measured in xxunk jacket your voice is paramount . we want to know what you want to wear . get in touch with us , participate and influence our future collections ! our most important elements are to create everyday clothes that are well - developed for a larger body . you have the answers ! contact us at xxunk with love,xxbos xxmaj help me fund my business , xxunk started making these bracelets to reduce my xxunk while sitting at home but i want to sell them at a local town xxunk was sitting at home at my grandma 's house one day and got bored so i decided to xxunk through her craft closet and try a few different things . well knitting did n't work and i still fail to this day and i tried making pillows but those never went anywhere so it was a few years later i was browsing the web and found stuff made of xxunk . instantly i was hooked and started learning . after a while i put it down so i could focus on school but have recently picked it back up after some encouragement from a nice man and his wife whom i 'd met at a local town fair . i 'd really like to get a spot near them next year and show my wares but with school and the job market xxunk being fairly thin , i do n't have the money to purchase materials and get a spot at the fair . so i 'm asking you , the kind , awesome , smart , and beautiful [ handsome if you prefer that ] people of kickstarter for help . at this moment i am able to offer half - persian 3-in-1 which is the weave shown in the picture , european xxunk , xxunk xxunk xxunk , and xxunk xxunk , but am always looking to expand what i know .\n",
              "y: LMLabelList\n",
              ",,,,\n",
              "Path: /content/gdrive/My Drive/fastai-v3/kick;\n",
              "\n",
              "Test: None, model=SequentialRNN(\n",
              "  (0): AWD_LSTM(\n",
              "    (encoder): Embedding(21488, 400, padding_idx=1)\n",
              "    (encoder_dp): EmbeddingDropout(\n",
              "      (emb): Embedding(21488, 400, padding_idx=1)\n",
              "    )\n",
              "    (rnns): ModuleList(\n",
              "      (0): WeightDropout(\n",
              "        (module): LSTM(400, 1152, batch_first=True)\n",
              "      )\n",
              "      (1): WeightDropout(\n",
              "        (module): LSTM(1152, 1152, batch_first=True)\n",
              "      )\n",
              "      (2): WeightDropout(\n",
              "        (module): LSTM(1152, 400, batch_first=True)\n",
              "      )\n",
              "    )\n",
              "    (input_dp): RNNDropout()\n",
              "    (hidden_dps): ModuleList(\n",
              "      (0): RNNDropout()\n",
              "      (1): RNNDropout()\n",
              "      (2): RNNDropout()\n",
              "    )\n",
              "  )\n",
              "  (1): LinearDecoder(\n",
              "    (decoder): Linear(in_features=400, out_features=21488, bias=True)\n",
              "    (output_dp): RNNDropout()\n",
              "  )\n",
              "), opt_func=functools.partial(<class 'torch.optim.adam.Adam'>, betas=(0.9, 0.99)), loss_func=FlattenedLoss of CrossEntropyLoss(), metrics=[<function accuracy at 0x7f39e14876a8>], true_wd=True, bn_wd=True, wd=0.01, train_bn=True, path=PosixPath('/content/gdrive/My Drive/fastai-v3/kick'), model_dir='models', callback_fns=[functools.partial(<class 'fastai.basic_train.Recorder'>, add_time=True, silent=False)], callbacks=[RNNTrainer\n",
              "learn: LanguageLearner(data=TextLMDataBunch;\n",
              "\n",
              "Train: LabelList (1348 items)\n",
              "x: LMTextList\n",
              "xxbos xxmaj gone xxmaj west xxmaj axe xxunk xxmaj west will be xxmaj seattle 's first axe throwing xxunk axe throwing to the pacific xxunk throwing is one of the fastest growing sports in north america . the idea of a commercial location that provided patrons with a safe controlled environment to enjoy the sport originated in canada but has quickly spread throughout the united states . there are axe - throwing locations in or near baltimore , philadelphia , chicago , san xxunk , detroit , austin , charlotte , denver , and brooklyn , among other xxunk i heard of this sport i quickly jumped online to find a location near me where i could try this out . living in seattle , with its rich logging history , i was shocked to find i would either need to leave the country , or drive nearly 800 miles to the closest location in the united xxunk was then i started looking into the logistics of opening a location in the seattle metro area . i 've spent my free time over the last 6 months researching the sport , potential locations , build out costs , insurance costs , and i have finally reached the point where i 'm ready to pitch this to you on xxunk , back up a second , axe xxunk short , axe throwing is very similar to darts , except the targets are much larger and you 're throwing axes instead of xxunk length of a session is dependent on the size of the group , with it taking roughly between two and two and a half hours for a group of 8 - 12 xxunk plan to allow all outside food and drink , and food delivery . depending on insurance costs and interest we are also considering byob for beer in wine . there will be communal areas for customers to sit down , eat , drink , and xxunk two largest axe throwing organizations xxunk and xxunk provide more in depth rules and regulations if you are interested in learning more : https : / / xxunk / http : / / xxunk / our goalthe main goal of our kickstarter is to xxunk interest from our local community . i believe an axe throwing business we be right at home here in seattle , but i 'd love to see some concrete interest , and the funding raised from our backers will give us a healthy starting point on top of the funding i have already secured for this xxunk thanksthank you to the following people who shared their axe throwing experiences and videos with us , allowing us to give a more compelling pitch for our vision . xxunk - https : / / www.instagram.com / xxunk / xxunk - https : / / www.instagram.com / xxunk / xxunk - https : / / www.instagram.com / xxunk /,xxbos xxunk and clever xxunk - in functions : xxmaj self xxmaj stick , powerbank , xxmaj bluetooth xxmaj shutter , xxmaj flashlight , an xxmaj umbrella . xxmaj with xxmaj notification xxmaj xxunk only smart but the only clever umbrella . with build - in functions without sacrificing your style . made up of 5 parts to fulfill your need of a self stick , a power - bank , a bluetooth remote shutter , a flashlight , and of course an umbrella . and with our app , you will be able to get all types notifications . if you are forgetting to take your xxunk with you or help you find it if you misplaced xxunk bluetooth remote xxunk wireless remote shutter for iphone , samsung , and other smart phone cameras . smartphone mount gopro mount camera xxunk stick - self - portrait extendable xxunk . perfect for a close - up , a wide panoramic , or a group xxunk - in xxunk power - bank of 2200 mah battery and output 5v / 1a . a fully charged power - bank can support smart phone fast xxunk xxunk handy led flashlight built into xxunk initial colors will be black , baby blue , apple green , xxunk , and leopard xxunk xxunk xxunk ® invisible coating allows rain to roll right off so umbrella stays 4x xxunk -- no more dripping mess ! maximum strength frame withstands winds up to 70 mph compact design perfect to stash in your purse or bag . battery : xxunk mah | input : micro usb | output : usb 2.0 | leds : 1 flashlight , 1 power / bluetooth indicator | length : 13.5 \" , xxunk \" extended | weight : < 2 lbs | diameter : 2 \" | xxunk arc : 39 \" | open / close : xxunk it working : shipping : we're offering shipments to every country in the world . shipping is free for backers in the xxunk backers , we have an estimate shipping fee and we are working to reduce it ones we have a list of xxunk note that you will be responsible for duties , fees and taxes applicable to your xxunk us : if you have questions , you can always reach us at xxunk,xxbos xxmaj help xxmaj release \" xxmaj real xxmaj feels xxmaj live xxmaj vol . xxunk from a magical night in xxmaj los xxmaj angeles - the band sounds incredible , the album is finished , but we need your help to release xxunk everyone , my name is john raymond and i play trumpet and flugelhorn . i 've got a band called real feels which includes two incredible musicians and dear friends of mine - guitarist gilad xxunk and drummer colin xxunk . we recently put out our latest album \" joy ride \" in early 2018 , and in the process of touring for the album we recorded a handful of live shows in hopes that we could eventually put a new live album together ( because i really believe this band is at its absolute best when heard live ) . well , sure enough , we got some amazing recordings and , after xxunk through everything from all the shows , i 've put together what are honestly some of my favorite musical moments that i 've ever been a part of . but , i need your help to make the album xxunk by andrea xxunk i look back over the last 4 years since the band began , it 's pretty crazy to think about all that 's happened . from the release of our first album real feels in 2016 , to the near 100 shows we 've done since , to that special night in la where \" minor silverstein \" happened , to getting to tour internationally in japan this past summer for the first time , and so much more ... every moment has been incredibly xxunk , truth be told , the reason it 's been so memorable is that we 've gotten to share all these moments with so many of you . this has really made me realize how much the process of creating and sharing music is not just about the music or the art of it all ... it 's about this connection we all share together around the music . it 's about a sense of family or community where we all experience and feel something together ... that 's what makes me know that there 's a deeper purpose and meaning in this music . and so , i 'm hoping that , if you are into this band and into the music we make - or to say it another way ... if you ’re a part of this real feels family - that you ’ll consider helping me make this thing xxunk new live album will be comprised of 6 tracks , all taken from a show we played at the blue whale in los angeles ( one of our favorite venues and cities in the world ) . i 've spoken with the folks at xxunk records about putting it out in early 2019 and they 're totally on board . now , i just have to find a way to make it happen ! specifically , this means that i need to raise money to cover the following expenses : paying gilad and colin ( i ca n't not pay the guys who made this music what it xxunk & mastering the record w / the great dave xxunk artwork and design w / jamie xxunk of xxunk xxunk for the record so that it can get reviewed / read about in as many places as xxunk new videos with the band ! : ) online promotion for the music and the new xxunk you can see , there are many different tiers in which you can support the project and get cool stuff in return ( each named after one of our favorite places that we 've played over the last few years ) . beyond getting the music for yourself via download or cd , you can get a dope real feels tee ( in black or gray ) , pdf xxunk of all our arrangements / tunes , a skype lesson with me , a real feels cd bundle that includes all 4 of our albums and more . you can even request a song for us to cover and we 'll send you a personal recording of our arrangement on it ! any way you choose to go , i 'm excited to be able to share all this other cool stuff with you all besides the music.as i 'm sure you know , the fundraising goal for the album is an \" all - or - nothing \" venture , so any amount that you can give to support the project will make a huge difference . again , from the bottom of my heart … thank you all so much for all the love and good vibes you ’ve given me and this band over the past few years . i ca n’t wait to share this music with you all and thank you in advance for your xxunk,xxbos xxup intuitive xxmaj mechanical xxmaj engineering . xxmaj world 1st visual xxunk , xxmaj clear & xxmaj concise handbook about xxmaj mechanical xxmaj engineering . xxmaj graphically designed for xxmaj students , xxmaj product xxmaj developers & xxmaj project xxmaj managers . 29 / 6 / 19 : first copies arrived ! stretch goals : matt laminated cover instead of just matte paper , and additional team management feature in the gantt excel file ! see the 2nd update for more details and xxunk rendered photo , recreated in real - life ! this material is fantastic , it is so soft on the touch and the matt paper coating makes the color vibrant and clear - i 'd never imagined it would be this xxunk everyone ! my name is antonio xxunk , a 27 years old mechanical engineer with 3 years of experience in the field ( you may find more details on linkedin ) . the xxunk have always noticed how it is not easy for people with different cultural backgrounds to effectively communicate together . i wanted to facilitate xxunk , so i started taking concise notes to explain mechanical engineering topics in a simple way . i also started studying visual design so i could make better notes . this process lasted for 6 years , 3 of which in real - life job xxunk i want to helpi want to empower everyone in the world with the basic knowledge of mechanical engineering topics , and i want to do this with the help of clear , appealing visual design . that 's why i condensed this practical , easy - to - grasp mechanical engineering knowledge in a concise e - book . this short handbook ( 51 pages ) will be of most use to three main categories : with clean graphics and easy - to - grasp explanations , this book is a solid reference to look up to . by reading it before the in - depth university study , you will immediately grasp the underlying concept . also , you will understand what and how the things you learn will be useful to you in a future job . the last chapter also contains a brief guide to the most common work positions in the mechanical engineering field , so you can get a better idea of what real - life engineers do . as a product development engineer myself , i find it useful to have all the most important information to keep in mind during a product development process - and so will you ! from material properties to manufacturing methods , get handy information on the most common choices you will have to face during your xxunk effectively manage a team with mechanical engineers , one needs to have a general knowledge of the topic - what better way of having it than a clear and concise book ? also , relative time and costs for main applications are reported here , so to have some reference values . a peek in the content ... take a look at the structured index in the infographic below ! you will be presented the main mechanical engineering topics in a way that xxunk the phases of a product development process - starting from the materials ' choice , you will see how these are studied and processed into xxunk items , finally passing through the product design and validation . additionally , to readily access the most important information for each topic , i have created a so - called \" tab \" section which summarizes the chapter 's most important concept in a single page . these \" tab \" pages have a dark blue background , compared to the standard page 's white one - so that you are immediately focused on the content . find a comparison below : a standard chapter page , the one about materials . the most relevant information about the most common material classes ( metals , plastics , and ceramics ) are given in just a single , concise xxunk standard chapter page , the one about joining methods . the most relevant & practical information about this topic is given in just a single , concise xxunk the start of every chapter with a relevant quote ! it pretty much summarizes the entire chapter 's content , but that would too much concise i think … be sure to read the chapter , it will be quick & easy ! rewards & schedule i am excited to share this easy - to - understand knowledge juice with you , and i look forward to helping people from all over the world to have the best time understanding mechanical engineering in the easiest possible way ! back me up and i 'll properly reward you on three main levels : earliest e - book copy ( pdf file ) : the cheapest , yet includes all the precious content ! i will send it worldwide in pdf format via an amazon coupon code ( 100 % discount ) or if you prefer , via mail . also : the book is written in a landscape layout so that you get the most when visualizing it on screen . save the environment and visualize the beautiful e - book on your digital screen ! earliest e - book copy ( pdf file ) + gantt management file ( xxunk file ) : in addition to the very first e - book copy , you shall get an intuitive : excel gantt file to organize / keep track of your projects in the easiest possible way ! this is an exceptional file of my creation that i use to track projects - i have tried many online gantt chart , but none had the simplicity and xxunk i needed in my everyday work . here is an example of what you get : quick look into this file : set the project name and the starting project year . then you just input the initial date for each project phase and the related milestone ; finally , you set an end date or a duration - both in days or weeks - that 's it ! everything else will be automatically filled , and there you have it - a quick , simple , intuitive gantt file ! ps . click on the image for full xxunk e - book copy ( pdf file ) + gantt management file ( xxunk file ) + exclusive printed handbook : i will not make physical copies of my e - book , but as a kickstarter exclusive , i will be making a premium full - color handbook copy , printed on high - quality 130 g matte paper , metallic spiral - joined . here is an image of what it would look like , although keep in mind this could not be representative of the reality - i do not have printed any hq copies yet as they are quite expensive to print xxunk left - side page is free for you to take notes , so you can use it as your personal notebook . update and evolve it as your knowledge xxunk copies are very expensive to be printed with such premium characteristics , i have limited their number to 20 total . this way , i can set an achievable kickstarter target of 800 € as a starting point ( i will make just around 3 % profits ) . then , if the public response is very positive and the campaign will reach the goal quickly , i will increase the number of copies : ) xxunk course , only valid for the limited edition handbook copy ( weight approx . 500 g ) . shipping will be done via my local country service ( xxunk xxunk ) . i would have preferred to ship traceable xxunk only , but this option is crazy expensive , so in addition , i offer a non - traceable shipping option for you to xxunk > registered shipping option : parcel is guaranteed to be traceable along all its route for these countries . here is the link for the tracking on my local carrier service . for other countries , tracking will happen until your country then it is up to your local service if tracking will continue . pay attention to monitor your shipping , or it may be sent back to me ! shipping time : not specified and guaranteed by the carrier ( i know ... ) , but employees said 2 weeks is the most common shipping time all over the xxunk > priority shipping option : parcel is not traceable - only shipping proof will be given ( released from the postal service ) . shipping time : on the shipping service website you will find all the details ( you 'll need to translate the page , sorry ! ) , but basically , 85 % of the shipments will take 8 ( working ) days to arrive in eu countries and 15 - 20 days to the rest of the world . where to ? kickstarter will add the cost of shipping based on where you live . when ? please note that scheduled month ( september ) refers to the shipping - depending on where you live , you may need to wait some more time . you need to take into account shipping time ! note : i will most likely ship by july , but you know , better safe than sorry ! custom duties : in some countries , customs duties may be applied to shipments . i have no way of predicting if they ’ll apply to your shipment , nor i can avoid it . anyway , some countries may not apply customs to items of such a small declared value .,xxbos xxmaj black xxmaj rabbit - xxunk third art book in the xxmaj black xxmaj rabbit xxunk folks , welcome to my project . i 'm pleased to announce the launch of my third black rabbit art book project here on kickstarter . the world i 'm building has developed and grown , and i 've enlisted the help of my writing friend toby xxunk . i ca n't wait to show you what we 've created . so with my moody low - light portraits and scenes , and with toby 's fantastic short story , we present to you ... xxunk day i speak to him , i meet somebody new . some days he knows me , some he does not . one day he is a tyrant , and the next he has the serenity of a monk ... \" the black rabbit is a wave of radiation that tears the world apart . the gravity on one side of the earth becomes unstable , and the ground starts to float into the air . xxunk living on the stable side become ill , and are forced to travel to the unstable side in order to recover - on the side where the earth is falling apart , they are given the chance to fight for their xxunk must also confront an even greater cosmic power , on the arrival of the ghost of the black rabbit . \" i have been watching the black rabbit . hundreds of spheres rising up and floating east . it is as though the earth is a cliff face and they are falling under the influence of an impossible gravity . \" the book is a hard back with heavy silk paper , a silky smooth matt finish cover , a large collection of my drawings and paintings , and a short science fiction xxunk black rabbit paintings including 5 never before seen xxunk pages of xxunk pages of concept xxunk ’s a closer look at the additional rewards ... there are no additional costs for shipping , on any of the xxunk really hope you like this body of work , it has been an absolute pleasure to create , and i would love to send a copy of the book to xxunk support black rabbit - xxunk . please back my xxunk xthe previous art books ... if you would also like one of the previous black rabbit books , please increase your pledge by £ 27 per book . alternatively you can purchase the previous books on my etsy page at ... https : / / www.etsy.com / shop / xxunk\n",
              "y: LMLabelList\n",
              ",,,,\n",
              "Path: /content/gdrive/My Drive/fastai-v3/kick;\n",
              "\n",
              "Valid: LabelList (337 items)\n",
              "x: LMTextList\n",
              "xxbos xxunk : xxmaj play stress away - xxmaj your xxmaj xxunk xxunk feedback to your health within seconds . xxmaj learn \" what you can do \" from your virtual coach and improve your fitness xxunk you ever get sick and you xxunk know why xxunk xxunk xxunk , not listening to the signs of your own body , permanently under high stress at work and in our free time makes you sick . \" its not stress that kills us , it is our reaction to it . “ hans xxunk xxunk your body xxunk xxunk we created the first high level bio - feedback device in the world for your daily life that xxunk within seconds what happens actually in your xxunk is high quality and high tech for less xxunk with xxunk engineers , top athletes , xxunk and xxunk we created a tool for people who want to keep well and fit and even become stronger . xxunk is always available - a coach for the xxunk virtual coach gives you xxunk what to do and offers mental and physical exercises . xxunk tests your xxunk gamified stress tests , mental and physical exercises to improve your fitness with game and xxunk xxunk you get a stronger immune system see how it works with the integrated head - up - display and the profound xxunk a part of our mission \" play stress away \" . play what people are saying xxunk gamification creates unique products that turn mental training into a game to help users relax , reduce stress , increase their focus and energy levels \" \" they use cutting - edge technologies such as wearables and methods such as gamification to give people a completely new way to approach the topics of stress prevention and mental techniques . \" the ' xxunk ' game controller comes as a modern piece of equipment for users who want to manage their stress level without having to do much else aside from play some simple games . xxunk which can help with reducing stress , providing relaxation as well as laughter , fun and gameplay \" das start - up xxunk einen xxunk und xxunk entwickelt , mit xxunk kinder xxunk , die xxunk des xxunk xxunk zu xxunk und xxunk xxunk ihre xxunk xxunk können . \" xxunk - a little ball with a big xxunk trains your body awareness and helps you to progress xxunk systemthe xxunk is a mobile game controller and xxunk device . when you hold the xxunk in your hand , the integrated sensors provide you with feedback on your personal stress level in a matter of seconds . these sensors measure your pulse , skin xxunk and skin xxunk current stress level is shown through color feedback . blue means that you ’re totally relaxed ; green stands for relaxed ; yellow shows that you ’re xxunk – while red means that your stress levels are at their limit and you should take a time out for a relaxation session as soon as xxunk - xxunk device & game xxunk unique xxunk sleeve , which consists of high quality silicone , can be ordered in different colors . feel the difference with or without a sleeve for special tactile sense xxunk with sleeve xxunk system includes : xxunk , a friendly xxunk device that measures your stress level while also being a full functional game xxunk , varied game - apps including mental training methods by using your bio - data ( skin xxunk , pulse , temperature ) for xxunk and xxunk , virtual coach that supports you with tips and tricks during the xxunk and afterwards via the xxunk xxunk app , daily relax scores help to keep you motivated . besides statistics and your game apps it also includes easy mental training applications and tutorial xxunk more information see our xxunk have developed different games , e.g. retro , arcade and sports games . the objective is to improve your physical wellbeing for stress , enhance your self - xxunk and help you increase your relaxation and concentration through a higher mental xxunk control the xxunk with the xxunk through movement interactions , play buttons and your current stress level . the recorded vital signs such as your pulse , skin xxunk and temperature are incorporated in your personal game xxunk - xxunk - xxunk xxunk interval training in a fun game , for enhanced xxunk and xxunk and concentrate to pinpoint your target focus . increase your relaxation and concentration xxunk your personal breath and the golf ball rolls toward the hole . only when you learn to relax properly you can become a pro xxunk the world against aliens by using your heart xxunk your way through the jungle and temple to put your relaxation ability to the xxunk incredible form puzzle to increase your creativity xxunk current games are compatible with android , ios , xxunk and windows . please stay posted , we will continue developing new games . xxunk games will also be available . our goal is to give you the ball in your own hands for your personal healthcare management . we guarantee you that the challenges will always be fun and motivating . ; xxunk more information see our xxunk more teaser videos our youtube xxunk app & xxunk virtual coach gives you tips and personalized feedback on your training progress . this helps you to stay on the ball and make constant xxunk personal coach the virtual xxunk gives you personal feedback and tips during the game , in real time . this means that you always know what to do to master the current game xxunk to the xxunk ( head - up display ) , you also receive feedback on your current stress xxunk head - up display shows your current pulse and stress level in real time in the form of a rev counter . xxunk also help you to interpret your stress xxunk app - keep on the xxunk our xxunk app you get all statistics from the xxunk , xxunk and xxunk with a simple tap . based on your personal values and results you will get an overall relax score which helps you to keep xxunk from the xxunk xxunk on your personal results you will also get recommendations from your xxunk to achieve lasting results in stress xxunk and tricks from your personal xxunk - easy mental training applications for xxunk xxunk are easy to use mental training programs , which you can easily integrate into your daily xxunk is an easy breathing exercise application . during your exercise the xxunk supports you with vibration feedback and thanks to the head - up - display you get a direct feedback about your stress level xxunk xxunk are part of the xxunk xxunk - xxunk and xxunk are videos that help you improve your progress in the xxunk . they although teach you simple mental training methods like breathing exercises or simply help you to relax during a break with a mental travel . the tutorials are part of the xxunk xxunk - to video xxunk the xxunk app you also get your game statistics and you are able to start and download the xxunk - game statistics xxunk contains sophisticated sensors that are able to measure your stress level . if you take the xxunk in your hand , your stress level will be measured every second , and you get a real time feedback via color xxunk you press and hold both buttons shortly , you will start a 7 second xxunk and you will get the average value as feedback . your stress level is calculated via an algorithm using your skin xxunk ( 50 % ) , skin temperature ( 25 % ) and heart rate ( xxunk xxunk sensor - two sensors on the play xxunk temperature sensor - at the back of the xxunk to measure the temperature in your hand heart rate sensor - two sensors on the play xxunk the xxunk is testing against a reference table , if you create an online account your xxunk will be learning from and with xxunk often technology just simply looks like another piece of technology . with xxunk , we wanted to design something that gives you a friendly feedback and creates positive thoughts just when you look at it . :-) nothing is that much linked to our xxunk to play and fun like a ball , because it is the first thing we start playing with as a baby . what 's xxunk is not just a pretty face . it 's built to last . its serious mechanical structure protects 4 boards , 10 sensors , over 200 electronic components and 12 housing parts . in order to fit so much technology into such a small space , we really had to get creative with things . the resulting design is beautiful inside and out , we xxunk more information see our xxunk is xxunk xxunk your career the motor that keeps you xxunk training with the xxunk will greatly enhance your stress tolerance and performance . - > successful & xxunk you a xxunk , juggling a variety of different xxunk the xxunk you will enjoy your breaks twice as much , feel more settled and have more energy . - > relaxed & more xxunk students achieve great results . what about xxunk the playful training you will concentrate better and you will be less nervous at xxunk and competitions . - > effective & mentally xxunk computer xxunk - kid , but xxunk at xxunk child - friendly games and controlled game phases are the perfect mixture for your kids . with xxunk , kids learn to relax and concentrate while playing . - > focused & achieving potential controlled gaming to enhance their ability to concentrate how we got xxunk the past 2 years , we 've done a lot of things : designing , prototyping , coding , testing , and improving our hard- and software many xxunk drawings first functional prototype the evolution of the xxunk . it was a long way from our first prototype to our current , full functional prototype marcel is presenting the latest prototype of the xxunk and explaining its xxunk more information see our xxunk more videos our youtube channel . where we are xxunk have 30 full functional prototypes of the xxunk , which we even use for stress management xxunk already developed 6 xxunk , which we are finalizing at the xxunk mini - backend is up and xxunk finished one xxunk ( xxunk ) , for the second application we have a finished xxunk development of the xxunk app is on - xxunk main parts of our sdk are xxunk xxunk tool manufacturing and finalizing plastics xxunk tool manufacturing for the xxunk zero manufacturing regarding electronic , housing and xxunk xxunk app xxunk development e.g. tutorials , statistics xxunk and xxunk xxunk / 2018 - finish xxunk , xxunk , charge xxunk / 2018 - finish xxunk app , series xxunk / 2018 - xxunk with xxunk basic idea behind xxunk is to bring more sense in my xxunk can use the xxunk anonymous and offline . that 's important to us . if you create an online account , you have access to your data from everywhere and they are backed . our future goal is that our system and people are learning from the crowd . we enjoy tinkering with and building xxunk of other products we like . xxunk will let you have that experience , our goal is to provide a sdk for developers . we would love to hear your thoughts on what you might want to build with xxunk , how you could directly interact with the hardware and the data it xxunk xxunk the xxunk team , we combine the expertise of elite sports coaches with strategic it management and years of experience in game development . our university partners , such as the vienna university of applied sciences and the university of vienna , bring their scientific know - how to bear . with a good deal of creativity and effort , we have achieved something completely new to the xxunk more information see our website.the xxunk do n’t most people stay on the ball ? ” this is the question andreas xxunk ( ceo of xxunk ) asked himself when he observed that – despite the active involvement of the participants in his training sessions – the sessions themselves rarely led to a reduction in stress . in the absence of a personal coach , most of the participants simply xxunk motivation . why not make the classic anti - stress ball intelligent and turn it into a games controller ? listen to the whole story . awards and nominations xxunk gift xxunk xxunk is also a mindful gift for your loved ones , which can bring much relaxation and fun in their lives . we will provide you with a customizable gift card , which you can download , edit and put under your christmas tree . that 's all xxunk xxunk on facebook , youtube , instagram , twitter and our website . and lastly , thank you ; we ca n't wait for you to use what we 're building . supporter and partners * supported by xxunk impulse xl of the austrian federal ministry of science , research and economy , administered by xxunk,xxbos xxmaj ocean xxmaj alien xxunk want to film , record , and live stream 24 / 7 the lives and development of octopus in order to learn everything we can about xxunk , my name is john and for the past 2 years i have been eating up as much information as i can find on anything that has to do with octopus . as much as i have soaked up i have realized that there is still much more we have to learn about these amazing animals . my goal is to set up large 24 / 7 observation project where i can monitor , record , and stream live the lives of these animals in order to better understand them . a project of this size requires the assistance of someone who knows and understands xxunk marine life and who could help me set up and maintain the tanks . also , i will need to have a website to run the whole thing off of . then there is the actual equipment . costs add up quick and its simply just not feasible for me to chunk out all that capital from the jump . in the end i want to have something that i can share with everyone . i believe that we have a lot to learn from these creatures on our own planet that are nothing less than alien . however , this is something i 'm going to need all the help i can . anything that you can spare or help with will be greatly appreciated and put to good use . thank you for your time and consideration . donate or not always keep a health thirst for knowledge . xxunk r smith,xxbos xxmaj the xxmaj xxunk t - xxunk xxmaj xxunk need you to help us get t - shirts xxunk xxunk are band from xxunk , xxunk . after many requests for merch we have finally decided that it 's a good idea ! the only thing is that we ca n't afford to pay for the printing costs . this is where you come in ! every dollar helps . $ 20 + pledge will get you a t - xxunk + pledge will get you a t - shirt and a super limited demo xxunk you 're a big enough legend to pledge $ 20 + , leave us a message on here ( or our facebook page ) as to what size shirt you would like , just so we can order the right amount !,xxbos xxunk - xxmaj finally great fitting plus size xxunk you recognize yourself ? xxmaj uncomfortable , xxunk and bad features at your everyday xxunk you recognize yourself ? uncomfortable , xxunk and bad features on your everyday xxunk vision is to develop everyday clothes that are adapted to fit the larger xxunk 10 years of experience and expertise in clothing for larger people , we see a shortage in what is delivered to the end customer today . the industry chooses to look away from large - scale people and create size models that become smaller and smaller . while most of us find it difficult to find clothes of a larger size . we have gathered all the stories that our customers have told us , and created a collection that should correspond to what 's xxunk the launch of xxunk voices xxunk be xxunk have listened to over 100 people who have sizes between xxunk xxunk . we have collected their thoughts and manufactured these 3 products for our first launch . stretch t - shirt we want you to feel comfortable . the t - shirt collection contains a basic model with a single - round neck , shorter and xxunk sleeves than today 's standard measurements available on the market . we have seen that the demand for shorter sleeves and garment length is higher than ever . the t - shirt model has a longer back than the front to minimize the risk of creating a gap between t - shirt and trousers . ( measured in xxunk xxunk the stories and wishes we have been told , it has been one thing in common . a jacket that you can wear every day , under all conditions . it must be warm , light , have breathability and a great comfort . it took us two years of designing and testing to get the ultimate result . this is our xxunk jacket - your every day buddy . ( measured in xxunk jacket your voice is paramount . we want to know what you want to wear . get in touch with us , participate and influence our future collections ! our most important elements are to create everyday clothes that are well - developed for a larger body . you have the answers ! contact us at xxunk with love,xxbos xxmaj help me fund my business , xxunk started making these bracelets to reduce my xxunk while sitting at home but i want to sell them at a local town xxunk was sitting at home at my grandma 's house one day and got bored so i decided to xxunk through her craft closet and try a few different things . well knitting did n't work and i still fail to this day and i tried making pillows but those never went anywhere so it was a few years later i was browsing the web and found stuff made of xxunk . instantly i was hooked and started learning . after a while i put it down so i could focus on school but have recently picked it back up after some encouragement from a nice man and his wife whom i 'd met at a local town fair . i 'd really like to get a spot near them next year and show my wares but with school and the job market xxunk being fairly thin , i do n't have the money to purchase materials and get a spot at the fair . so i 'm asking you , the kind , awesome , smart , and beautiful [ handsome if you prefer that ] people of kickstarter for help . at this moment i am able to offer half - persian 3-in-1 which is the weave shown in the picture , european xxunk , xxunk xxunk xxunk , and xxunk xxunk , but am always looking to expand what i know .\n",
              "y: LMLabelList\n",
              ",,,,\n",
              "Path: /content/gdrive/My Drive/fastai-v3/kick;\n",
              "\n",
              "Test: None, model=SequentialRNN(\n",
              "  (0): AWD_LSTM(\n",
              "    (encoder): Embedding(21488, 400, padding_idx=1)\n",
              "    (encoder_dp): EmbeddingDropout(\n",
              "      (emb): Embedding(21488, 400, padding_idx=1)\n",
              "    )\n",
              "    (rnns): ModuleList(\n",
              "      (0): WeightDropout(\n",
              "        (module): LSTM(400, 1152, batch_first=True)\n",
              "      )\n",
              "      (1): WeightDropout(\n",
              "        (module): LSTM(1152, 1152, batch_first=True)\n",
              "      )\n",
              "      (2): WeightDropout(\n",
              "        (module): LSTM(1152, 400, batch_first=True)\n",
              "      )\n",
              "    )\n",
              "    (input_dp): RNNDropout()\n",
              "    (hidden_dps): ModuleList(\n",
              "      (0): RNNDropout()\n",
              "      (1): RNNDropout()\n",
              "      (2): RNNDropout()\n",
              "    )\n",
              "  )\n",
              "  (1): LinearDecoder(\n",
              "    (decoder): Linear(in_features=400, out_features=21488, bias=True)\n",
              "    (output_dp): RNNDropout()\n",
              "  )\n",
              "), opt_func=functools.partial(<class 'torch.optim.adam.Adam'>, betas=(0.9, 0.99)), loss_func=FlattenedLoss of CrossEntropyLoss(), metrics=[<function accuracy at 0x7f39e14876a8>], true_wd=True, bn_wd=True, wd=0.01, train_bn=True, path=PosixPath('/content/gdrive/My Drive/fastai-v3/kick'), model_dir='models', callback_fns=[functools.partial(<class 'fastai.basic_train.Recorder'>, add_time=True, silent=False)], callbacks=[...], layer_groups=[Sequential(\n",
              "  (0): WeightDropout(\n",
              "    (module): LSTM(400, 1152, batch_first=True)\n",
              "  )\n",
              "  (1): RNNDropout()\n",
              "), Sequential(\n",
              "  (0): WeightDropout(\n",
              "    (module): LSTM(1152, 1152, batch_first=True)\n",
              "  )\n",
              "  (1): RNNDropout()\n",
              "), Sequential(\n",
              "  (0): WeightDropout(\n",
              "    (module): LSTM(1152, 400, batch_first=True)\n",
              "  )\n",
              "  (1): RNNDropout()\n",
              "), Sequential(\n",
              "  (0): Embedding(21488, 400, padding_idx=1)\n",
              "  (1): EmbeddingDropout(\n",
              "    (emb): Embedding(21488, 400, padding_idx=1)\n",
              "  )\n",
              "  (2): LinearDecoder(\n",
              "    (decoder): Linear(in_features=400, out_features=21488, bias=True)\n",
              "    (output_dp): RNNDropout()\n",
              "  )\n",
              ")], add_time=True, silent=False)\n",
              "alpha: 2.0\n",
              "beta: 1.0], layer_groups=[Sequential(\n",
              "  (0): WeightDropout(\n",
              "    (module): LSTM(400, 1152, batch_first=True)\n",
              "  )\n",
              "  (1): RNNDropout()\n",
              "), Sequential(\n",
              "  (0): WeightDropout(\n",
              "    (module): LSTM(1152, 1152, batch_first=True)\n",
              "  )\n",
              "  (1): RNNDropout()\n",
              "), Sequential(\n",
              "  (0): WeightDropout(\n",
              "    (module): LSTM(1152, 400, batch_first=True)\n",
              "  )\n",
              "  (1): RNNDropout()\n",
              "), Sequential(\n",
              "  (0): Embedding(21488, 400, padding_idx=1)\n",
              "  (1): EmbeddingDropout(\n",
              "    (emb): Embedding(21488, 400, padding_idx=1)\n",
              "  )\n",
              "  (2): LinearDecoder(\n",
              "    (decoder): Linear(in_features=400, out_features=21488, bias=True)\n",
              "    (output_dp): RNNDropout()\n",
              "  )\n",
              ")], add_time=True, silent=False)"
            ]
          },
          "metadata": {
            "tags": []
          },
          "execution_count": 15
        }
      ]
    },
    {
      "cell_type": "code",
      "metadata": {
        "id": "plLzcBUeA6t0",
        "colab_type": "code",
        "colab": {}
      },
      "source": [
        "learn.unfreeze()"
      ],
      "execution_count": 0,
      "outputs": []
    },
    {
      "cell_type": "code",
      "metadata": {
        "id": "DrNrTdPCUKdg",
        "colab_type": "code",
        "outputId": "f01895b4-1a60-41d4-ad6a-28fe5cfed99c",
        "colab": {
          "base_uri": "https://localhost:8080/",
          "height": 206
        }
      },
      "source": [
        "learn.fit_one_cycle(5, 1e-3, moms=(0.8,0.7))\n",
        "# takes about 1.5 min per epoch in colab\n",
        "# five cycle is more than enough for the validation loss to go up again\n",
        "# only need two cycles really"
      ],
      "execution_count": 0,
      "outputs": [
        {
          "output_type": "display_data",
          "data": {
            "text/html": [
              "<table border=\"1\" class=\"dataframe\">\n",
              "  <thead>\n",
              "    <tr style=\"text-align: left;\">\n",
              "      <th>epoch</th>\n",
              "      <th>train_loss</th>\n",
              "      <th>valid_loss</th>\n",
              "      <th>accuracy</th>\n",
              "      <th>time</th>\n",
              "    </tr>\n",
              "  </thead>\n",
              "  <tbody>\n",
              "    <tr>\n",
              "      <td>0</td>\n",
              "      <td>4.332877</td>\n",
              "      <td>4.455299</td>\n",
              "      <td>0.234397</td>\n",
              "      <td>01:21</td>\n",
              "    </tr>\n",
              "    <tr>\n",
              "      <td>1</td>\n",
              "      <td>4.184784</td>\n",
              "      <td>4.409348</td>\n",
              "      <td>0.238235</td>\n",
              "      <td>01:23</td>\n",
              "    </tr>\n",
              "    <tr>\n",
              "      <td>2</td>\n",
              "      <td>3.961340</td>\n",
              "      <td>4.393872</td>\n",
              "      <td>0.240643</td>\n",
              "      <td>01:23</td>\n",
              "    </tr>\n",
              "    <tr>\n",
              "      <td>3</td>\n",
              "      <td>3.709462</td>\n",
              "      <td>4.408422</td>\n",
              "      <td>0.240292</td>\n",
              "      <td>01:23</td>\n",
              "    </tr>\n",
              "    <tr>\n",
              "      <td>4</td>\n",
              "      <td>3.536141</td>\n",
              "      <td>4.427670</td>\n",
              "      <td>0.238813</td>\n",
              "      <td>01:23</td>\n",
              "    </tr>\n",
              "  </tbody>\n",
              "</table>"
            ],
            "text/plain": [
              "<IPython.core.display.HTML object>"
            ]
          },
          "metadata": {
            "tags": []
          }
        }
      ]
    },
    {
      "cell_type": "code",
      "metadata": {
        "id": "ly3j9DIkXyBW",
        "colab_type": "code",
        "outputId": "715c90a1-c288-4d1c-b8fc-6bb3a3a884fd",
        "colab": {
          "base_uri": "https://localhost:8080/",
          "height": 112
        }
      },
      "source": [
        "learn.fit_one_cycle(2, 1e-3, moms=(0.8,0.7))"
      ],
      "execution_count": 0,
      "outputs": [
        {
          "output_type": "display_data",
          "data": {
            "text/html": [
              "<table border=\"1\" class=\"dataframe\">\n",
              "  <thead>\n",
              "    <tr style=\"text-align: left;\">\n",
              "      <th>epoch</th>\n",
              "      <th>train_loss</th>\n",
              "      <th>valid_loss</th>\n",
              "      <th>accuracy</th>\n",
              "      <th>time</th>\n",
              "    </tr>\n",
              "  </thead>\n",
              "  <tbody>\n",
              "    <tr>\n",
              "      <td>0</td>\n",
              "      <td>4.357017</td>\n",
              "      <td>4.426204</td>\n",
              "      <td>0.237837</td>\n",
              "      <td>01:23</td>\n",
              "    </tr>\n",
              "    <tr>\n",
              "      <td>1</td>\n",
              "      <td>4.098324</td>\n",
              "      <td>4.397897</td>\n",
              "      <td>0.240432</td>\n",
              "      <td>01:23</td>\n",
              "    </tr>\n",
              "  </tbody>\n",
              "</table>"
            ],
            "text/plain": [
              "<IPython.core.display.HTML object>"
            ]
          },
          "metadata": {
            "tags": []
          }
        }
      ]
    },
    {
      "cell_type": "code",
      "metadata": {
        "id": "BRRewlQ8amSk",
        "colab_type": "code",
        "colab": {}
      },
      "source": [
        "learn.save('fine_tuned')"
      ],
      "execution_count": 0,
      "outputs": []
    },
    {
      "cell_type": "code",
      "metadata": {
        "id": "-NhQwY_oaqcN",
        "colab_type": "code",
        "colab": {}
      },
      "source": [
        "# test if model makes sense:\n",
        "TEXT = \"FALSOBORDONE is one of Sweden's foremost medieval ensembles\"\n",
        "N_WORDS = 40\n",
        "N_SENTENCES = 2"
      ],
      "execution_count": 0,
      "outputs": []
    },
    {
      "cell_type": "code",
      "metadata": {
        "id": "HwiFSOe7a9Wo",
        "colab_type": "code",
        "outputId": "443e6b8f-e469-428c-de0d-0457ea3caef8",
        "colab": {
          "base_uri": "https://localhost:8080/",
          "height": 72
        }
      },
      "source": [
        "print(\"\\n\".join(learn.predict(TEXT, N_WORDS, temperature=0.75) for _ in range(N_SENTENCES)))\n",
        "# this makes some sense"
      ],
      "execution_count": 0,
      "outputs": [
        {
          "output_type": "stream",
          "text": [
            "FALSOBORDONE is one of Sweden's foremost medieval ensembles , with a deep love for Sweden . It is the world layer of the world . in our contemporary era , it is the only place you need to be there . it was one of the\n",
            "FALSOBORDONE is one of Sweden's foremost medieval ensembles . We are working with creating the best way to feel an amazing project . we are working on producing a series of original songs from vienna to somewhere else . we have been working on a studio and\n"
          ],
          "name": "stdout"
        }
      ]
    },
    {
      "cell_type": "code",
      "metadata": {
        "id": "rVB9yMpqbEvg",
        "colab_type": "code",
        "colab": {}
      },
      "source": [
        "# save the encoder\n",
        "learn.save_encoder('fine_tuned_enc')"
      ],
      "execution_count": 0,
      "outputs": []
    },
    {
      "cell_type": "markdown",
      "metadata": {
        "id": "uQn2lVk2bJVN",
        "colab_type": "text"
      },
      "source": [
        "# Train classifier"
      ]
    },
    {
      "cell_type": "code",
      "metadata": {
        "id": "Ru6Clj3qa_mw",
        "colab_type": "code",
        "outputId": "33f8dc2a-85ac-45c7-c548-d86122838aaa",
        "colab": {
          "base_uri": "https://localhost:8080/",
          "height": 17
        }
      },
      "source": [
        "data = TextDataBunch.from_df(path = base_dir, train_df= x_train, valid_df= x_val, test_df = X_test, \n",
        "                                text_cols= \"story_tb\", label_cols= 'l_pledge', vocab=data_lm.vocab)"
      ],
      "execution_count": 0,
      "outputs": [
        {
          "output_type": "display_data",
          "data": {
            "text/html": [
              ""
            ],
            "text/plain": [
              "<IPython.core.display.HTML object>"
            ]
          },
          "metadata": {
            "tags": []
          }
        },
        {
          "output_type": "display_data",
          "data": {
            "text/html": [
              ""
            ],
            "text/plain": [
              "<IPython.core.display.HTML object>"
            ]
          },
          "metadata": {
            "tags": []
          }
        },
        {
          "output_type": "display_data",
          "data": {
            "text/html": [
              ""
            ],
            "text/plain": [
              "<IPython.core.display.HTML object>"
            ]
          },
          "metadata": {
            "tags": []
          }
        }
      ]
    },
    {
      "cell_type": "code",
      "metadata": {
        "id": "k-r6zPrcbkPr",
        "colab_type": "code",
        "colab": {}
      },
      "source": [
        "data.save('data.pkl')"
      ],
      "execution_count": 0,
      "outputs": []
    },
    {
      "cell_type": "code",
      "metadata": {
        "id": "AuSDn4P6eM9S",
        "colab_type": "code",
        "colab": {}
      },
      "source": [
        "bs = 16\n",
        "data = load_data(path = base_dir, file = \"data.pkl\", bs = bs)"
      ],
      "execution_count": 0,
      "outputs": []
    },
    {
      "cell_type": "code",
      "metadata": {
        "id": "xS_puj-NdXbe",
        "colab_type": "code",
        "outputId": "88019abd-9c46-4e35-d9d9-383bf2d8fa19",
        "colab": {
          "base_uri": "https://localhost:8080/",
          "height": 380
        }
      },
      "source": [
        "data.show_batch()"
      ],
      "execution_count": 0,
      "outputs": [
        {
          "output_type": "display_data",
          "data": {
            "text/html": [
              "<table border=\"1\" class=\"dataframe\">\n",
              "  <thead>\n",
              "    <tr style=\"text-align: right;\">\n",
              "      <th>text</th>\n",
              "      <th>target</th>\n",
              "    </tr>\n",
              "  </thead>\n",
              "  <tbody>\n",
              "    <tr>\n",
              "      <td>xxbos xxmaj fantasy xxmaj novel : xxmaj age of xxmaj death by xxmaj michael xxup j. xxunk 5th book in the xxmaj legends of the xxmaj first xxmaj empire xxmaj series by the xxmaj new xxmaj york xxmaj times , xxup usa xxmaj today , and xxmaj washington xxmaj post xxmaj bestselling xxmaj xxunk all are the best , most supportive , and all around greatest people there are .</td>\n",
              "      <td>5.076779</td>\n",
              "    </tr>\n",
              "    <tr>\n",
              "      <td>xxbos xxup us xxup open xxmaj swing xxmaj dance xxmaj championship 2017 - xxup tv xxunk are taping the 2017 xxup us xxmaj open xxmaj swing xxmaj dance xxmaj championships , xxmaj inc , competition for a one hour cable ready xxup tv show , for broadcast in 2018 . we are excited to share some exciting swing news . your passion for dance and specifically swing ( i.e. west</td>\n",
              "      <td>3.350442</td>\n",
              "    </tr>\n",
              "    <tr>\n",
              "      <td>xxbos xxmaj jaxon xxmaj stewart &amp; xxmaj the xxmaj dragon xxunk you been looking for a brand new xxmaj young xxmaj adult series that is similar to xxmaj harry xxmaj potter ? xxmaj then xxmaj jaxon xxmaj stewart is the book series for xxunk you been looking for a brand new young adult series that is similar to harry potter ? then jaxon stewart is the book series for you</td>\n",
              "      <td>1.8570695</td>\n",
              "    </tr>\n",
              "    <tr>\n",
              "      <td>xxbos bikers : xxmaj bicycle xxmaj kinetic xxmaj energy xxmaj recovery xxunk kinetic energy recovery system for bicycles , which can provide assistance to riders by harvesting energy during low - impact xxunk is the aim of this xxunk design and build a prototype kinetic energy recovery system ( kers ) for a bicycle that can provide xxunk assistance to riders , which requires no pre - charging and is</td>\n",
              "      <td>1.6940072</td>\n",
              "    </tr>\n",
              "    <tr>\n",
              "      <td>xxbos xxmaj project xxmaj hemp . xxup uk legal xxmaj hemp / xxmaj cannabis xxmaj crowdfunding xxmaj site . xxmaj crowdfunding site with a specialty in cannabis &amp; hemp . xxmaj crowdfunding for legal cannabis businesses as well as activism xxunk hemp aims to be the first crowdfunding platform in the uk to specialise solely on the cannabis marketplace , and activism scene . this will be for businesses ,</td>\n",
              "      <td>1.2464902</td>\n",
              "    </tr>\n",
              "  </tbody>\n",
              "</table>"
            ],
            "text/plain": [
              "<IPython.core.display.HTML object>"
            ]
          },
          "metadata": {
            "tags": []
          }
        }
      ]
    },
    {
      "cell_type": "code",
      "metadata": {
        "id": "QfVr5mL5dJEi",
        "colab_type": "code",
        "outputId": "da394c03-be0d-4933-b3c2-ba7bf75072fa",
        "colab": {
          "base_uri": "https://localhost:8080/",
          "height": 1000
        }
      },
      "source": [
        "learn_cl = text_classifier_learner(data, AWD_LSTM, drop_mult=0.5)\n",
        "learn_cl.load_encoder('fine_tuned_enc')"
      ],
      "execution_count": 6,
      "outputs": [
        {
          "output_type": "execute_result",
          "data": {
            "text/plain": [
              "RNNLearner(data=TextClasDataBunch;\n",
              "\n",
              "Train: LabelList (1348 items)\n",
              "x: TextList\n",
              "xxbos xxmaj gone xxmaj west xxmaj axe xxunk xxmaj west will be xxmaj seattle 's first axe throwing xxunk axe throwing to the pacific xxunk throwing is one of the fastest growing sports in north america . the idea of a commercial location that provided patrons with a safe controlled environment to enjoy the sport originated in canada but has quickly spread throughout the united states . there are axe - throwing locations in or near baltimore , philadelphia , chicago , san xxunk , detroit , austin , charlotte , denver , and brooklyn , among other xxunk i heard of this sport i quickly jumped online to find a location near me where i could try this out . living in seattle , with its rich logging history , i was shocked to find i would either need to leave the country , or drive nearly 800 miles to the closest location in the united xxunk was then i started looking into the logistics of opening a location in the seattle metro area . i 've spent my free time over the last 6 months researching the sport , potential locations , build out costs , insurance costs , and i have finally reached the point where i 'm ready to pitch this to you on xxunk , back up a second , axe xxunk short , axe throwing is very similar to darts , except the targets are much larger and you 're throwing axes instead of xxunk length of a session is dependent on the size of the group , with it taking roughly between two and two and a half hours for a group of 8 - 12 xxunk plan to allow all outside food and drink , and food delivery . depending on insurance costs and interest we are also considering byob for beer in wine . there will be communal areas for customers to sit down , eat , drink , and xxunk two largest axe throwing organizations xxunk and xxunk provide more in depth rules and regulations if you are interested in learning more : https : / / xxunk / http : / / xxunk / our goalthe main goal of our kickstarter is to xxunk interest from our local community . i believe an axe throwing business we be right at home here in seattle , but i 'd love to see some concrete interest , and the funding raised from our backers will give us a healthy starting point on top of the funding i have already secured for this xxunk thanksthank you to the following people who shared their axe throwing experiences and videos with us , allowing us to give a more compelling pitch for our vision . xxunk - https : / / www.instagram.com / xxunk / xxunk - https : / / www.instagram.com / xxunk / xxunk - https : / / www.instagram.com / xxunk /,xxbos xxunk and clever xxunk - in functions : xxmaj self xxmaj stick , powerbank , xxmaj bluetooth xxmaj shutter , xxmaj flashlight , an xxmaj umbrella . xxmaj with xxmaj notification xxmaj xxunk only smart but the only clever umbrella . with build - in functions without sacrificing your style . made up of 5 parts to fulfill your need of a self stick , a power - bank , a bluetooth remote shutter , a flashlight , and of course an umbrella . and with our app , you will be able to get all types notifications . if you are forgetting to take your xxunk with you or help you find it if you misplaced xxunk bluetooth remote xxunk wireless remote shutter for iphone , samsung , and other smart phone cameras . smartphone mount gopro mount camera xxunk stick - self - portrait extendable xxunk . perfect for a close - up , a wide panoramic , or a group xxunk - in xxunk power - bank of 2200 mah battery and output 5v / 1a . a fully charged power - bank can support smart phone fast xxunk xxunk handy led flashlight built into xxunk initial colors will be black , baby blue , apple green , xxunk , and leopard xxunk xxunk xxunk ® invisible coating allows rain to roll right off so umbrella stays 4x xxunk -- no more dripping mess ! maximum strength frame withstands winds up to 70 mph compact design perfect to stash in your purse or bag . battery : xxunk mah | input : micro usb | output : usb 2.0 | leds : 1 flashlight , 1 power / bluetooth indicator | length : 13.5 \" , xxunk \" extended | weight : < 2 lbs | diameter : 2 \" | xxunk arc : 39 \" | open / close : xxunk it working : shipping : we're offering shipments to every country in the world . shipping is free for backers in the xxunk backers , we have an estimate shipping fee and we are working to reduce it ones we have a list of xxunk note that you will be responsible for duties , fees and taxes applicable to your xxunk us : if you have questions , you can always reach us at xxunk,xxbos xxmaj help xxmaj release \" xxmaj real xxmaj feels xxmaj live xxmaj vol . xxunk from a magical night in xxmaj los xxmaj angeles - the band sounds incredible , the album is finished , but we need your help to release xxunk everyone , my name is john raymond and i play trumpet and flugelhorn . i 've got a band called real feels which includes two incredible musicians and dear friends of mine - guitarist gilad xxunk and drummer colin xxunk . we recently put out our latest album \" joy ride \" in early 2018 , and in the process of touring for the album we recorded a handful of live shows in hopes that we could eventually put a new live album together ( because i really believe this band is at its absolute best when heard live ) . well , sure enough , we got some amazing recordings and , after xxunk through everything from all the shows , i 've put together what are honestly some of my favorite musical moments that i 've ever been a part of . but , i need your help to make the album xxunk by andrea xxunk i look back over the last 4 years since the band began , it 's pretty crazy to think about all that 's happened . from the release of our first album real feels in 2016 , to the near 100 shows we 've done since , to that special night in la where \" minor silverstein \" happened , to getting to tour internationally in japan this past summer for the first time , and so much more ... every moment has been incredibly xxunk , truth be told , the reason it 's been so memorable is that we 've gotten to share all these moments with so many of you . this has really made me realize how much the process of creating and sharing music is not just about the music or the art of it all ... it 's about this connection we all share together around the music . it 's about a sense of family or community where we all experience and feel something together ... that 's what makes me know that there 's a deeper purpose and meaning in this music . and so , i 'm hoping that , if you are into this band and into the music we make - or to say it another way ... if you ’re a part of this real feels family - that you ’ll consider helping me make this thing xxunk new live album will be comprised of 6 tracks , all taken from a show we played at the blue whale in los angeles ( one of our favorite venues and cities in the world ) . i 've spoken with the folks at xxunk records about putting it out in early 2019 and they 're totally on board . now , i just have to find a way to make it happen ! specifically , this means that i need to raise money to cover the following expenses : paying gilad and colin ( i ca n't not pay the guys who made this music what it xxunk & mastering the record w / the great dave xxunk artwork and design w / jamie xxunk of xxunk xxunk for the record so that it can get reviewed / read about in as many places as xxunk new videos with the band ! : ) online promotion for the music and the new xxunk you can see , there are many different tiers in which you can support the project and get cool stuff in return ( each named after one of our favorite places that we 've played over the last few years ) . beyond getting the music for yourself via download or cd , you can get a dope real feels tee ( in black or gray ) , pdf xxunk of all our arrangements / tunes , a skype lesson with me , a real feels cd bundle that includes all 4 of our albums and more . you can even request a song for us to cover and we 'll send you a personal recording of our arrangement on it ! any way you choose to go , i 'm excited to be able to share all this other cool stuff with you all besides the music.as i 'm sure you know , the fundraising goal for the album is an \" all - or - nothing \" venture , so any amount that you can give to support the project will make a huge difference . again , from the bottom of my heart … thank you all so much for all the love and good vibes you ’ve given me and this band over the past few years . i ca n’t wait to share this music with you all and thank you in advance for your xxunk,xxbos xxup intuitive xxmaj mechanical xxmaj engineering . xxmaj world 1st visual xxunk , xxmaj clear & xxmaj concise handbook about xxmaj mechanical xxmaj engineering . xxmaj graphically designed for xxmaj students , xxmaj product xxmaj developers & xxmaj project xxmaj managers . 29 / 6 / 19 : first copies arrived ! stretch goals : matt laminated cover instead of just matte paper , and additional team management feature in the gantt excel file ! see the 2nd update for more details and xxunk rendered photo , recreated in real - life ! this material is fantastic , it is so soft on the touch and the matt paper coating makes the color vibrant and clear - i 'd never imagined it would be this xxunk everyone ! my name is antonio xxunk , a 27 years old mechanical engineer with 3 years of experience in the field ( you may find more details on linkedin ) . the xxunk have always noticed how it is not easy for people with different cultural backgrounds to effectively communicate together . i wanted to facilitate xxunk , so i started taking concise notes to explain mechanical engineering topics in a simple way . i also started studying visual design so i could make better notes . this process lasted for 6 years , 3 of which in real - life job xxunk i want to helpi want to empower everyone in the world with the basic knowledge of mechanical engineering topics , and i want to do this with the help of clear , appealing visual design . that 's why i condensed this practical , easy - to - grasp mechanical engineering knowledge in a concise e - book . this short handbook ( 51 pages ) will be of most use to three main categories : with clean graphics and easy - to - grasp explanations , this book is a solid reference to look up to . by reading it before the in - depth university study , you will immediately grasp the underlying concept . also , you will understand what and how the things you learn will be useful to you in a future job . the last chapter also contains a brief guide to the most common work positions in the mechanical engineering field , so you can get a better idea of what real - life engineers do . as a product development engineer myself , i find it useful to have all the most important information to keep in mind during a product development process - and so will you ! from material properties to manufacturing methods , get handy information on the most common choices you will have to face during your xxunk effectively manage a team with mechanical engineers , one needs to have a general knowledge of the topic - what better way of having it than a clear and concise book ? also , relative time and costs for main applications are reported here , so to have some reference values . a peek in the content ... take a look at the structured index in the infographic below ! you will be presented the main mechanical engineering topics in a way that xxunk the phases of a product development process - starting from the materials ' choice , you will see how these are studied and processed into xxunk items , finally passing through the product design and validation . additionally , to readily access the most important information for each topic , i have created a so - called \" tab \" section which summarizes the chapter 's most important concept in a single page . these \" tab \" pages have a dark blue background , compared to the standard page 's white one - so that you are immediately focused on the content . find a comparison below : a standard chapter page , the one about materials . the most relevant information about the most common material classes ( metals , plastics , and ceramics ) are given in just a single , concise xxunk standard chapter page , the one about joining methods . the most relevant & practical information about this topic is given in just a single , concise xxunk the start of every chapter with a relevant quote ! it pretty much summarizes the entire chapter 's content , but that would too much concise i think … be sure to read the chapter , it will be quick & easy ! rewards & schedule i am excited to share this easy - to - understand knowledge juice with you , and i look forward to helping people from all over the world to have the best time understanding mechanical engineering in the easiest possible way ! back me up and i 'll properly reward you on three main levels : earliest e - book copy ( pdf file ) : the cheapest , yet includes all the precious content ! i will send it worldwide in pdf format via an amazon coupon code ( 100 % discount ) or if you prefer , via mail . also : the book is written in a landscape layout so that you get the most when visualizing it on screen . save the environment and visualize the beautiful e - book on your digital screen ! earliest e - book copy ( pdf file ) + gantt management file ( xxunk file ) : in addition to the very first e - book copy , you shall get an intuitive : excel gantt file to organize / keep track of your projects in the easiest possible way ! this is an exceptional file of my creation that i use to track projects - i have tried many online gantt chart , but none had the simplicity and xxunk i needed in my everyday work . here is an example of what you get : quick look into this file : set the project name and the starting project year . then you just input the initial date for each project phase and the related milestone ; finally , you set an end date or a duration - both in days or weeks - that 's it ! everything else will be automatically filled , and there you have it - a quick , simple , intuitive gantt file ! ps . click on the image for full xxunk e - book copy ( pdf file ) + gantt management file ( xxunk file ) + exclusive printed handbook : i will not make physical copies of my e - book , but as a kickstarter exclusive , i will be making a premium full - color handbook copy , printed on high - quality 130 g matte paper , metallic spiral - joined . here is an image of what it would look like , although keep in mind this could not be representative of the reality - i do not have printed any hq copies yet as they are quite expensive to print xxunk left - side page is free for you to take notes , so you can use it as your personal notebook . update and evolve it as your knowledge xxunk copies are very expensive to be printed with such premium characteristics , i have limited their number to 20 total . this way , i can set an achievable kickstarter target of 800 € as a starting point ( i will make just around 3 % profits ) . then , if the public response is very positive and the campaign will reach the goal quickly , i will increase the number of copies : ) xxunk course , only valid for the limited edition handbook copy ( weight approx . 500 g ) . shipping will be done via my local country service ( xxunk xxunk ) . i would have preferred to ship traceable xxunk only , but this option is crazy expensive , so in addition , i offer a non - traceable shipping option for you to xxunk > registered shipping option : parcel is guaranteed to be traceable along all its route for these countries . here is the link for the tracking on my local carrier service . for other countries , tracking will happen until your country then it is up to your local service if tracking will continue . pay attention to monitor your shipping , or it may be sent back to me ! shipping time : not specified and guaranteed by the carrier ( i know ... ) , but employees said 2 weeks is the most common shipping time all over the xxunk > priority shipping option : parcel is not traceable - only shipping proof will be given ( released from the postal service ) . shipping time : on the shipping service website you will find all the details ( you 'll need to translate the page , sorry ! ) , but basically , 85 % of the shipments will take 8 ( working ) days to arrive in eu countries and 15 - 20 days to the rest of the world . where to ? kickstarter will add the cost of shipping based on where you live . when ? please note that scheduled month ( september ) refers to the shipping - depending on where you live , you may need to wait some more time . you need to take into account shipping time ! note : i will most likely ship by july , but you know , better safe than sorry ! custom duties : in some countries , customs duties may be applied to shipments . i have no way of predicting if they ’ll apply to your shipment , nor i can avoid it . anyway , some countries may not apply customs to items of such a small declared value .,xxbos xxmaj black xxmaj rabbit - xxunk third art book in the xxmaj black xxmaj rabbit xxunk folks , welcome to my project . i 'm pleased to announce the launch of my third black rabbit art book project here on kickstarter . the world i 'm building has developed and grown , and i 've enlisted the help of my writing friend toby xxunk . i ca n't wait to show you what we 've created . so with my moody low - light portraits and scenes , and with toby 's fantastic short story , we present to you ... xxunk day i speak to him , i meet somebody new . some days he knows me , some he does not . one day he is a tyrant , and the next he has the serenity of a monk ... \" the black rabbit is a wave of radiation that tears the world apart . the gravity on one side of the earth becomes unstable , and the ground starts to float into the air . xxunk living on the stable side become ill , and are forced to travel to the unstable side in order to recover - on the side where the earth is falling apart , they are given the chance to fight for their xxunk must also confront an even greater cosmic power , on the arrival of the ghost of the black rabbit . \" i have been watching the black rabbit . hundreds of spheres rising up and floating east . it is as though the earth is a cliff face and they are falling under the influence of an impossible gravity . \" the book is a hard back with heavy silk paper , a silky smooth matt finish cover , a large collection of my drawings and paintings , and a short science fiction xxunk black rabbit paintings including 5 never before seen xxunk pages of xxunk pages of concept xxunk ’s a closer look at the additional rewards ... there are no additional costs for shipping , on any of the xxunk really hope you like this body of work , it has been an absolute pleasure to create , and i would love to send a copy of the book to xxunk support black rabbit - xxunk . please back my xxunk xthe previous art books ... if you would also like one of the previous black rabbit books , please increase your pledge by £ 27 per book . alternatively you can purchase the previous books on my etsy page at ... https : / / www.etsy.com / shop / xxunk\n",
              "y: FloatList\n",
              "0.47712126,2.9273703,4.060811,3.3494449,3.3060484\n",
              "Path: /content/gdrive/My Drive/fastai-v3/kick;\n",
              "\n",
              "Valid: LabelList (337 items)\n",
              "x: TextList\n",
              "xxbos xxunk : xxmaj play stress away - xxmaj your xxmaj xxunk xxunk feedback to your health within seconds . xxmaj learn \" what you can do \" from your virtual coach and improve your fitness xxunk you ever get sick and you xxunk know why xxunk xxunk xxunk , not listening to the signs of your own body , permanently under high stress at work and in our free time makes you sick . \" its not stress that kills us , it is our reaction to it . “ hans xxunk xxunk your body xxunk xxunk we created the first high level bio - feedback device in the world for your daily life that xxunk within seconds what happens actually in your xxunk is high quality and high tech for less xxunk with xxunk engineers , top athletes , xxunk and xxunk we created a tool for people who want to keep well and fit and even become stronger . xxunk is always available - a coach for the xxunk virtual coach gives you xxunk what to do and offers mental and physical exercises . xxunk tests your xxunk gamified stress tests , mental and physical exercises to improve your fitness with game and xxunk xxunk you get a stronger immune system see how it works with the integrated head - up - display and the profound xxunk a part of our mission \" play stress away \" . play what people are saying xxunk gamification creates unique products that turn mental training into a game to help users relax , reduce stress , increase their focus and energy levels \" \" they use cutting - edge technologies such as wearables and methods such as gamification to give people a completely new way to approach the topics of stress prevention and mental techniques . \" the ' xxunk ' game controller comes as a modern piece of equipment for users who want to manage their stress level without having to do much else aside from play some simple games . xxunk which can help with reducing stress , providing relaxation as well as laughter , fun and gameplay \" das start - up xxunk einen xxunk und xxunk entwickelt , mit xxunk kinder xxunk , die xxunk des xxunk xxunk zu xxunk und xxunk xxunk ihre xxunk xxunk können . \" xxunk - a little ball with a big xxunk trains your body awareness and helps you to progress xxunk systemthe xxunk is a mobile game controller and xxunk device . when you hold the xxunk in your hand , the integrated sensors provide you with feedback on your personal stress level in a matter of seconds . these sensors measure your pulse , skin xxunk and skin xxunk current stress level is shown through color feedback . blue means that you ’re totally relaxed ; green stands for relaxed ; yellow shows that you ’re xxunk – while red means that your stress levels are at their limit and you should take a time out for a relaxation session as soon as xxunk - xxunk device & game xxunk unique xxunk sleeve , which consists of high quality silicone , can be ordered in different colors . feel the difference with or without a sleeve for special tactile sense xxunk with sleeve xxunk system includes : xxunk , a friendly xxunk device that measures your stress level while also being a full functional game xxunk , varied game - apps including mental training methods by using your bio - data ( skin xxunk , pulse , temperature ) for xxunk and xxunk , virtual coach that supports you with tips and tricks during the xxunk and afterwards via the xxunk xxunk app , daily relax scores help to keep you motivated . besides statistics and your game apps it also includes easy mental training applications and tutorial xxunk more information see our xxunk have developed different games , e.g. retro , arcade and sports games . the objective is to improve your physical wellbeing for stress , enhance your self - xxunk and help you increase your relaxation and concentration through a higher mental xxunk control the xxunk with the xxunk through movement interactions , play buttons and your current stress level . the recorded vital signs such as your pulse , skin xxunk and temperature are incorporated in your personal game xxunk - xxunk - xxunk xxunk interval training in a fun game , for enhanced xxunk and xxunk and concentrate to pinpoint your target focus . increase your relaxation and concentration xxunk your personal breath and the golf ball rolls toward the hole . only when you learn to relax properly you can become a pro xxunk the world against aliens by using your heart xxunk your way through the jungle and temple to put your relaxation ability to the xxunk incredible form puzzle to increase your creativity xxunk current games are compatible with android , ios , xxunk and windows . please stay posted , we will continue developing new games . xxunk games will also be available . our goal is to give you the ball in your own hands for your personal healthcare management . we guarantee you that the challenges will always be fun and motivating . ; xxunk more information see our xxunk more teaser videos our youtube xxunk app & xxunk virtual coach gives you tips and personalized feedback on your training progress . this helps you to stay on the ball and make constant xxunk personal coach the virtual xxunk gives you personal feedback and tips during the game , in real time . this means that you always know what to do to master the current game xxunk to the xxunk ( head - up display ) , you also receive feedback on your current stress xxunk head - up display shows your current pulse and stress level in real time in the form of a rev counter . xxunk also help you to interpret your stress xxunk app - keep on the xxunk our xxunk app you get all statistics from the xxunk , xxunk and xxunk with a simple tap . based on your personal values and results you will get an overall relax score which helps you to keep xxunk from the xxunk xxunk on your personal results you will also get recommendations from your xxunk to achieve lasting results in stress xxunk and tricks from your personal xxunk - easy mental training applications for xxunk xxunk are easy to use mental training programs , which you can easily integrate into your daily xxunk is an easy breathing exercise application . during your exercise the xxunk supports you with vibration feedback and thanks to the head - up - display you get a direct feedback about your stress level xxunk xxunk are part of the xxunk xxunk - xxunk and xxunk are videos that help you improve your progress in the xxunk . they although teach you simple mental training methods like breathing exercises or simply help you to relax during a break with a mental travel . the tutorials are part of the xxunk xxunk - to video xxunk the xxunk app you also get your game statistics and you are able to start and download the xxunk - game statistics xxunk contains sophisticated sensors that are able to measure your stress level . if you take the xxunk in your hand , your stress level will be measured every second , and you get a real time feedback via color xxunk you press and hold both buttons shortly , you will start a 7 second xxunk and you will get the average value as feedback . your stress level is calculated via an algorithm using your skin xxunk ( 50 % ) , skin temperature ( 25 % ) and heart rate ( xxunk xxunk sensor - two sensors on the play xxunk temperature sensor - at the back of the xxunk to measure the temperature in your hand heart rate sensor - two sensors on the play xxunk the xxunk is testing against a reference table , if you create an online account your xxunk will be learning from and with xxunk often technology just simply looks like another piece of technology . with xxunk , we wanted to design something that gives you a friendly feedback and creates positive thoughts just when you look at it . :-) nothing is that much linked to our xxunk to play and fun like a ball , because it is the first thing we start playing with as a baby . what 's xxunk is not just a pretty face . it 's built to last . its serious mechanical structure protects 4 boards , 10 sensors , over 200 electronic components and 12 housing parts . in order to fit so much technology into such a small space , we really had to get creative with things . the resulting design is beautiful inside and out , we xxunk more information see our xxunk is xxunk xxunk your career the motor that keeps you xxunk training with the xxunk will greatly enhance your stress tolerance and performance . - > successful & xxunk you a xxunk , juggling a variety of different xxunk the xxunk you will enjoy your breaks twice as much , feel more settled and have more energy . - > relaxed & more xxunk students achieve great results . what about xxunk the playful training you will concentrate better and you will be less nervous at xxunk and competitions . - > effective & mentally xxunk computer xxunk - kid , but xxunk at xxunk child - friendly games and controlled game phases are the perfect mixture for your kids . with xxunk , kids learn to relax and concentrate while playing . - > focused & achieving potential controlled gaming to enhance their ability to concentrate how we got xxunk the past 2 years , we 've done a lot of things : designing , prototyping , coding , testing , and improving our hard- and software many xxunk drawings first functional prototype the evolution of the xxunk . it was a long way from our first prototype to our current , full functional prototype marcel is presenting the latest prototype of the xxunk and explaining its xxunk more information see our xxunk more videos our youtube channel . where we are xxunk have 30 full functional prototypes of the xxunk , which we even use for stress management xxunk already developed 6 xxunk , which we are finalizing at the xxunk mini - backend is up and xxunk finished one xxunk ( xxunk ) , for the second application we have a finished xxunk development of the xxunk app is on - xxunk main parts of our sdk are xxunk xxunk tool manufacturing and finalizing plastics xxunk tool manufacturing for the xxunk zero manufacturing regarding electronic , housing and xxunk xxunk app xxunk development e.g. tutorials , statistics xxunk and xxunk xxunk / 2018 - finish xxunk , xxunk , charge xxunk / 2018 - finish xxunk app , series xxunk / 2018 - xxunk with xxunk basic idea behind xxunk is to bring more sense in my xxunk can use the xxunk anonymous and offline . that 's important to us . if you create an online account , you have access to your data from everywhere and they are backed . our future goal is that our system and people are learning from the crowd . we enjoy tinkering with and building xxunk of other products we like . xxunk will let you have that experience , our goal is to provide a sdk for developers . we would love to hear your thoughts on what you might want to build with xxunk , how you could directly interact with the hardware and the data it xxunk xxunk the xxunk team , we combine the expertise of elite sports coaches with strategic it management and years of experience in game development . our university partners , such as the vienna university of applied sciences and the university of vienna , bring their scientific know - how to bear . with a good deal of creativity and effort , we have achieved something completely new to the xxunk more information see our website.the xxunk do n’t most people stay on the ball ? ” this is the question andreas xxunk ( ceo of xxunk ) asked himself when he observed that – despite the active involvement of the participants in his training sessions – the sessions themselves rarely led to a reduction in stress . in the absence of a personal coach , most of the participants simply xxunk motivation . why not make the classic anti - stress ball intelligent and turn it into a games controller ? listen to the whole story . awards and nominations xxunk gift xxunk xxunk is also a mindful gift for your loved ones , which can bring much relaxation and fun in their lives . we will provide you with a customizable gift card , which you can download , edit and put under your christmas tree . that 's all xxunk xxunk on facebook , youtube , instagram , twitter and our website . and lastly , thank you ; we ca n't wait for you to use what we 're building . supporter and partners * supported by xxunk impulse xl of the austrian federal ministry of science , research and economy , administered by xxunk,xxbos xxmaj ocean xxmaj alien xxunk want to film , record , and live stream 24 / 7 the lives and development of octopus in order to learn everything we can about xxunk , my name is john and for the past 2 years i have been eating up as much information as i can find on anything that has to do with octopus . as much as i have soaked up i have realized that there is still much more we have to learn about these amazing animals . my goal is to set up large 24 / 7 observation project where i can monitor , record , and stream live the lives of these animals in order to better understand them . a project of this size requires the assistance of someone who knows and understands xxunk marine life and who could help me set up and maintain the tanks . also , i will need to have a website to run the whole thing off of . then there is the actual equipment . costs add up quick and its simply just not feasible for me to chunk out all that capital from the jump . in the end i want to have something that i can share with everyone . i believe that we have a lot to learn from these creatures on our own planet that are nothing less than alien . however , this is something i 'm going to need all the help i can . anything that you can spare or help with will be greatly appreciated and put to good use . thank you for your time and consideration . donate or not always keep a health thirst for knowledge . xxunk r smith,xxbos xxmaj the xxmaj xxunk t - xxunk xxmaj xxunk need you to help us get t - shirts xxunk xxunk are band from xxunk , xxunk . after many requests for merch we have finally decided that it 's a good idea ! the only thing is that we ca n't afford to pay for the printing costs . this is where you come in ! every dollar helps . $ 20 + pledge will get you a t - xxunk + pledge will get you a t - shirt and a super limited demo xxunk you 're a big enough legend to pledge $ 20 + , leave us a message on here ( or our facebook page ) as to what size shirt you would like , just so we can order the right amount !,xxbos xxunk - xxmaj finally great fitting plus size xxunk you recognize yourself ? xxmaj uncomfortable , xxunk and bad features at your everyday xxunk you recognize yourself ? uncomfortable , xxunk and bad features on your everyday xxunk vision is to develop everyday clothes that are adapted to fit the larger xxunk 10 years of experience and expertise in clothing for larger people , we see a shortage in what is delivered to the end customer today . the industry chooses to look away from large - scale people and create size models that become smaller and smaller . while most of us find it difficult to find clothes of a larger size . we have gathered all the stories that our customers have told us , and created a collection that should correspond to what 's xxunk the launch of xxunk voices xxunk be xxunk have listened to over 100 people who have sizes between xxunk xxunk . we have collected their thoughts and manufactured these 3 products for our first launch . stretch t - shirt we want you to feel comfortable . the t - shirt collection contains a basic model with a single - round neck , shorter and xxunk sleeves than today 's standard measurements available on the market . we have seen that the demand for shorter sleeves and garment length is higher than ever . the t - shirt model has a longer back than the front to minimize the risk of creating a gap between t - shirt and trousers . ( measured in xxunk xxunk the stories and wishes we have been told , it has been one thing in common . a jacket that you can wear every day , under all conditions . it must be warm , light , have breathability and a great comfort . it took us two years of designing and testing to get the ultimate result . this is our xxunk jacket - your every day buddy . ( measured in xxunk jacket your voice is paramount . we want to know what you want to wear . get in touch with us , participate and influence our future collections ! our most important elements are to create everyday clothes that are well - developed for a larger body . you have the answers ! contact us at xxunk with love,xxbos xxmaj help me fund my business , xxunk started making these bracelets to reduce my xxunk while sitting at home but i want to sell them at a local town xxunk was sitting at home at my grandma 's house one day and got bored so i decided to xxunk through her craft closet and try a few different things . well knitting did n't work and i still fail to this day and i tried making pillows but those never went anywhere so it was a few years later i was browsing the web and found stuff made of xxunk . instantly i was hooked and started learning . after a while i put it down so i could focus on school but have recently picked it back up after some encouragement from a nice man and his wife whom i 'd met at a local town fair . i 'd really like to get a spot near them next year and show my wares but with school and the job market xxunk being fairly thin , i do n't have the money to purchase materials and get a spot at the fair . so i 'm asking you , the kind , awesome , smart , and beautiful [ handsome if you prefer that ] people of kickstarter for help . at this moment i am able to offer half - persian 3-in-1 which is the weave shown in the picture , european xxunk , xxunk xxunk xxunk , and xxunk xxunk , but am always looking to expand what i know .\n",
              "y: FloatList\n",
              "4.569725,1.0413927,3.0289478,2.8131917,1.9590414\n",
              "Path: /content/gdrive/My Drive/fastai-v3/kick;\n",
              "\n",
              "Test: LabelList (422 items)\n",
              "x: TextList\n",
              "xxbos xxmaj southern xxmaj sisters xxmaj xxunk xxunk passion has always been cooking , i want to share some of our xxmaj southern favorites with a kicked up twist wrapped in love and bacon ! southern sisters is about my three little girls and all the grandmothers that taught their young ones how to make jam or fry a xxunk ' egg ! it 's sitting on the front xxunk listening to the stories of long ago with a glass of sweet tea , passing down those recipes that i want to share with you from my kicked up food truck ! so .. the plan is to fix up and remodel my vintage little camper to the health department code and safety standards and convert her into a fully functioning food truck ! including , but not limited to , equipment , paint , materials and supplies . i will also need to have the funds for insurance , licenses , permits , and of course a coffee maker !,xxbos xxmaj xxunk - in - the - xxmaj clouds : xxunk in the digital xxunk xxunk to xxunk ancient religious themes in real - time xxup 3d , created by avant - garde indie studio xxmaj tale of xxmaj xxunk and congratulations to all our backers for making this xxunk you ’ve missed it , you can still support the project here . we ’ll be working on this for a xxunk … we are xxunk harvey and xxunk xxunk . we ’re a wife and husband team working out of xxunk , belgium . we ’ve been making videogames together — as tale of tales — for the past 12 years . this new project , however , is a little bit xxunk xxunk has always been the arts . and with xxunk - in - the - clouds we want to return to some of our original inspirations for working with interactive media — as expressed , for instance , in the xxunk art xxunk think of xxunk - in - the - clouds as an ever expanding collection of virtual xxunk depicting scenes created for xxunk . the individual pieces will be available in a variety of digital media ( downloads , web , apps , video , etc ) . or they can be explored together in virtual reality ( vr ) in the xxunk xxunk . the subject matter for the xxunk is inspired by the medieval art that we find ourselves surrounded by in our home town of xxunk in xxunk of being xxunk , we ca n’t help being intensely moved by some of the religious art made during the gothic and renaissance period . these experiences ca n’t convert us to xxunk but they do make us think about universal themes as kindness , self - sacrifice , patience , empathy , love , and so on . we feel they make us better people . these experiences are intense and often accompanied by tears . and they last ! they stay with us , become part of us , tremendously improve our lives on this xxunk looking to transfer the intense experiences we sometimes have in museums to xxunk and the comfort of our living xxunk love visiting museums and churches in search of these experiences . but it ’s not always convenient to do so . and since there ’s all this wonderful technology now , it really should n’t be necessary anymore . we should all have works of art in our pockets or on our laptops , for when the mood strikes , or when we need a moment of calm and focus . on top of convenience , computer graphics running in xxunk are not confined to 2d static images anymore . now we can create scenes that are three - dimensional and alive ( and still fit in your pocket and can be shared xxunk individual xxunk in the virtual xxunk consists of a box that houses a life - size virtually sculpted body . often the body of a saint , or the virgin mary or jesus christ himself . the way that they are depicted always refers to some ancient tale . but do n’t worry , we ’ll make sure to explain the context of each piece , in case you ’re not familiar with this particular part of the story.the xxunk are alive . air flows , light shifts , insects xxunk around , wind affects clothes , xxunk move when breathing , and so on . accompanied by subtle , immersive sound effects . in many scenes an event will slowly unfold , from a beginning to an end . this should help you take the time needed for the contemplative effect . these are not casual experiences ! they are a form of meditation that require a certain state of mind that may take some effort or concentration to achieve . but it ’s so very much worth it ! such experiences can be life enhancers , sensation xxunk . they open our eyes and help us embrace and enjoy existence as it presents xxunk ? why xxunk have wanted to work with ancient religious themes for many years . but it ’s only now that we have figured out how to shape this desire . we think that , with your support , we can now bring something of real value into this xxunk the 20 years we 've been creating , projects and ideas with religious references continuously xxunk - in - the - clouds is intended to be our xxunk . we consider it to be a long term project that we want to continue to work on , perhaps for the rest of our lives . it is the ultimate art piece we want to create . beyond this we have no desires . i believe we have now achieved the experience and xxunk that can enable us to create a work of the xxunk we envision . there is no guarantee that we will succeed . but it is certain that we can not even start without your help ! would you like to be involved in one of the xxunk , ambitious , innovative and xxunk art projects of the century ? then pick your xxunk hosts : xxunk harvey & xxunk xxunk , creators of xxunk - in - the - clouds , with your xxunk will be making this entire project and all the individual pieces by ourselves . between the two of us , we have all the skills and experience needed to pull this off . we are looking forward to the long periods of intense and xxunk work to create these intricate pieces without the xxunk and stress that conventional team work xxunk started collaborating in 1999 — on a server called xxunk of all places . as xxunk ! we created hundreds of websites for numerous clients and several xxunk pieces that still find an audience xxunk 2002 we switched to making videogames . we ’ve published 8 games : the endless forest , the xxunk , the path , xxunk , xxunk , xxunk xxunk , xxunk xxunk and sunset . hopefully you ’ve heard of some of those . if you have n’t make sure you pick an award tier that includes them so you can start exploring our wonderful virtual worlds xxunk want to release all the pieces that come out of this project to the public for free . because we feel we should avoid commercial pressure when creating art of this xxunk . so we really need your support to make this work . backing xxunk - in - the - clouds does not just enable us to create this ambitious work of art . but it is also a gift to humanity as a whole . yes , we do believe that art can change the world ! do n’t xxunk are cumulative : each reward includes all the rewards above xxunk « c h a s t e » support the project and you will receive all private updates we send to kickstarter backers in perpetuity . that way you will be kept xxunk on what 's going xxunk « g r a c i o u s » on top of the private kickstarter updates , you will gain free access to our subscription - based development log where we share our most intimate thoughts , plans and processes concerning the creation of xxunk - in - the - clouds and any other projects we are working on or hoping to work on one day . you also get to experience the xxunk created with this kickstarter one month before the general public xxunk « v i r t u o s » by reading the kickstarter updates and the development log you will know exactly what 's going on . but we will also notify you when an actual piece of xxunk - in - the - clouds is ready to be explored , one month before it is available to the general audience . to prepare for the experience , you also get the full version of our game the xxunk ( for pc , mac , linux & xxunk « p i o u s » during the production , we will write about our progress , ideas and feelings , either closely related to xxunk - in - the - clouds or more general . some of this may be published in the development log . but at the end of the project , or when we feel we have arrived at a nice mile stone , we will bundle all these essays in a digital book . a bit like we have done for our game xxunk xxunk . on top of the book you also get the xxunk of our 1999 - 2006 piece the xxunk museum to explore our first collaborative excursion into religious themes ( on pc or xxunk « d e v o u t » if you want a bit more than just reading about our production and you do n't mind getting your hands dirty , we can send you early builds of the projects in progress . this will give you more insight in our process , satisfy your curiosity and provide you with the opportunity to send us feedback on the build that we can take into account to improve the work . we will also thank you on twitter so everyone knows how xxunk you are . and thanks to the generosity of their world - renowned composers , you also get the soundtracks to our games the path by xxunk & kris force , xxunk xxunk by walter xxunk and sunset by austin xxunk « o v e r z e a l o u s » next to all the rewards above , you will get download links and steam keys where available to all of over games : the endless forest ( windows only ) , the xxunk ( windows , mac , linux & android ) , the path ( windows & mac ) , xxunk ( windows , mac & linux ) , xxunk ( android ) , xxunk xxunk ( windows , mac & linux ) , xxunk xxunk ( windows , mac , linux & android ) and sunset ( windows , mac & linux ) . careful : this one is for 200 early birds xxunk « z e a l o u s » same as above but your name will also appear in the credits of the xxunk « i m m a c u l a t e » next to all of the games we have released , and all the other rewards above , you get exclusive download links to a treasure chest of experiments and prototypes that we dug out of our archives and bundled for the occasion of our 10 year anniversary as a company . please find the details here . this bundle is not for sale anymore . this is the only way to get it ! we will also send you an actual non - virtual postcard to thank you for your xxunk « s a i n t l y » this is where things get serious . on top of all the trinkets above , we will honor your support of the building of xxunk - in - the - clouds exactly how this has been done throughout the ages : by putting your name on the eternal xxunk of the building . everyone who enters this xxunk hall will see how xxunk you xxunk « h o l y » we love living in xxunk , capital of the medieval county of xxunk , cradle of the northern renaissance and a fairy - tale like place to explore . and we live right next to the center of it all , just outside the former city xxunk . we invite you to come stare at the gothic xxunk of saint xxunk from our studio window in the attic of our home , a slender four story city house from the 19th century . next we will take you on a tour of the city and lead you around the interior of our beloved xxunk that has inspired us so much throughout the xxunk « c e l e s t i a l » in the xxunk days , kings and queens were buried in xxunk . many xxunk to this very day still have tomb stones instead of floor tiles . we will bury you in xxunk - in - the - clouds ! but since this is a virtual xxunk there 's no need for you to die first . we will simply make a beautiful tomb stone with a stylized rendition of your appearance and put it on the floor . an honor fit for a xxunk king or xxunk « a n g e l i c » a xxunk would be nothing without beautiful statues of saints . since we often do n't know exactly what these saints looked like , artists can take some xxunk in creating their likeness . so we hope that you would want to have your features xxunk as a holy man or woman . we can discuss any preference for the exact saint you might want to be depicted as . there 's many to choose xxunk « d i v i n e » xxunk - in - the - clouds will become the home for hopefully many art pieces over time . for each of these pieces a new chapel will be added to the virtual building . much like in the old xxunk , we will offer the opportunity to patrons to have a chapel of their own , dedicated to the saint of their preference , and decorated in a way that pleases them . the \" divine \" reward of the xxunk - in - the - clouds will be the first such chapel . and this is also the only time when this feature will be available at such a low cost . your very own chapel - in - the - xxunk « t r i n i t y » the xxunk - in - the - clouds will be xxunk after you , as one of the three sacred xxunk that form a holy trinity to watch over this most ambitious artistic endeavor . so if your name would be william , and the two others would be called robin and alice , xxunk - in - the - clouds will be xxunk to \" st william , st robin and st alice in the clouds \" . has quite a ring to it , would n't you say ? since you get the whole xxunk there would not be much point in making a chapel or a statue for you . but you will get everything else of course , we were just trying to grab some attention when we said \" none of the above \" . have our xxunk , xxunk xxunk - in - the - clouds is a huge project . much like the old xxunk , we will be building it bit by bit , starting with the choir , all the way in the east ( top of the map above ) . through this crowdfunding campaign we want to lay the foundations of the virtual xxunk and create two xxunk : one featuring eve with the snake from paradise and the other a holy virgin nursing baby xxunk , step by step we will expand and decorate the xxunk and add more xxunk - in - the - clouds website : xxunk - in - the - xxunk - in - the - clouds twitter : xxunk - in - the - clouds reference tumblr : xxunk from xxunk . xxunk 's xxunk xxunk in f minor , arranged by xxunk . bach , performed by and licensed from the bach xxunk music by bach and byrd performed by james xxunk and the xxunk xxunk , cc licensed via free music xxunk things people say about us,xxbos xxmaj eating on a xxmaj dime - a xxmaj collection of xxmaj unseen xxunk create a collection of the xxmaj worlds lesser known xxunk from the xxmaj jungle of xxmaj niger to the xxmaj sands of xxmaj xxunk aim of this project is to fund a trip to some of the xxunk countries in the world to document how so many can eat flavour - fully with such limited resources and the creative xxunk thrown together by some of the most inventive and forgotten people of the world .,xxbos xxunk xxmaj photographer and xxunk is a xxmaj leeds based photographer and xxunk who , through her doodle designs hopes to inspire people to travel the xxunk years from now you will be more disappointed by the things you did n’t do than by the ones you did do . so throw off the xxunk , xxunk away from the safe harbor . catch the trade winds in you xxunk . explore . dream . discover . - mark xxunk my name is alex xxunk , and i ’ve always been a bit of a dreamer . my fascination for photographer has made me want to capture every moment , i want a record of all the beautiful places i ’ve been privileged enough to see , all the unique moments that i have witnessed . i have a thirst to see everything , do everything , know everything . i want to feel the warmth of the sun on my face . i want to hear a lion roar . i want to stand on the xxunk , and watch the sun slip over the horizon . i want to drive over the xxunk salt flats . i want to hear the xxunk of an owl . i want to see a lightning bolt strike . i want to walk the wall . i want to watch the desert sands shift . i want to lean off the side of a xxunk , and run my fingers through the ocean as i xxunk into the wind . i want a xxunk to rain down on me while i look up at the heavens . i want to sleep under a midnight sun . i want to stand with the statues and stare out to sea for an eternity . i want to be lost in a jungle . i want to stand alone and listen to the sound of silence . i want to run with the bulls , see a xxunk explode , watch lights dance in the night sky . i want to walk in the forbidden city . i want to smell the sea air , and xxunk the calm before the storm . i want to see the world . i want to feel alive . one day i decided to add some doodle designs to my photographs . i want to inspire people to feel the same way i do . to feel the xxunk of life and the beauty of the world we live in . my goal is to motivate at least just one person to explore the world with open eyes . what your generous donation will go xxunk - photography equipment as this is an expensive passion ! - subscription to adobe editing software for my xxunk - petrol money to travel to beautiful locations to photograph all of my current designs can be seen at xxunk / people / xxunk . to xxunk your thirst to travel heres my favourite design with a few of my favourite photographs xxunk in : xxunk meets xxunk rock,xxbos xxmaj xxunk : xxmaj fitness xxmaj tracker and xxmaj xxunk xxunk your heart shine and watch it work ! xxmaj xxunk tracks improvements , times intervals and translates heart rate into xxunk xxunk heart rate is an extremely valuable indicator during physical exercise , but reading it off a watch reduces focus or is only possible in between intervals or xxunk xxunk feels like having a sixth sense for your heart . it makes you aware of your heart rate and every single one of your xxunk . gain more control over your body and work out more xxunk exposure photography of two xxunk is xxunk xxunk chest strap provides a continuous , xxunk and intuitive xxunk by translating your heart rate into colors , which are displayed with high power xxunk color xxunk smoothly with your heart rate : for example with an increasing heart rate from blue to red over all the colors in between and back to blue again when you xxunk after a xxunk uses xxunk enhances workouts of many different kinds of athletes . wear xxunk when you 're running , xxunk , practicing xxunk or performing other physical activity . feel your surroundings pulse with your heart and see the bright leds shine through your shirt when you 're working out in front of a xxunk connects fitness classes : get individual workout intensity feedback of all participants at a glance , coach them with more precision and make them motivate each xxunk heart rate after intense xxunk xxunk device is compatible with the bluetooth heart rate service , so you can keep track of your improvements with your favorite workout tracker on your smartphone or xxunk xxunk xxunk the color pattern for a high resolution in your target heart rate zone and save profiles for all your workouts and xxunk intensity xxunk running xxunk orders of colors generate alternative color xxunk profile with alternative color xxunk xxunk vibration motor keeps your sets and intervals on time ! set it up to notify you at certain heart rates , after a pause or in fixed intervals . it operates xxunk after you set it up with your xxunk coaching xxunk xxunk operates for six hours with pulses of maximum intensity . adjust the leds ' maximum brightness to save energy and its minimum brightness to change the amount of heartbeat feedback . chose a strong heartbeat feedback when you 're on your own and select a constant brightness for classes . when you 're running in the dark , set the minimum brightness to 30 % so you 're more visible in the city and can see where to place your steps in the forest , but still feel every single one of your xxunk the heartbeat xxunk controlled xxunk xxunk as a bluetooth rgb light between your workouts . conveniently switch your xxunk on and off with your smartphone and keep xxunk fully charged at the same xxunk xxunk for xxunk astonishing effect attracts lots of curious athletes in the gym and on the track now that the patents are pending and we 're finally allowed to wear our prototypes outside of our xxunk pre - production boards weigh xxunk g . the chest strap weighs xxunk g . the case adds another 8 g . this means xxunk is as light as other heart rate chest straps ! the final version is twice as bright as the prototypes we used for shooting our photos and videos ! oh , and by the way : even though it 's hard to capture xxunk 's light effect on camera , all the photos and videos in this campaign have only been cropped and were not edited in any xxunk design ( without case ) - uploaded 10th of xxunk xxunk circuit board manufacturer needs seven to eight weeks . programming , testing and finishing the devices takes two to three xxunk takes one xxunk means you will have your xxunk device in march to april ! previous versions : proof of concept - fully functional prototype - xxunk xxunk devices will be shipped with a chest strap , a compact xxunk to micro usb adapter and some adhesive tape so you can stick the adapter to a wall , table or xxunk & hardware development xxunk xxunk development xxunk xxunk & video alexa xxunk moon veil - ivory\n",
              "y: EmptyLabelList\n",
              ",,,,\n",
              "Path: /content/gdrive/My Drive/fastai-v3/kick, model=SequentialRNN(\n",
              "  (0): MultiBatchEncoder(\n",
              "    (module): AWD_LSTM(\n",
              "      (encoder): Embedding(21488, 400, padding_idx=1)\n",
              "      (encoder_dp): EmbeddingDropout(\n",
              "        (emb): Embedding(21488, 400, padding_idx=1)\n",
              "      )\n",
              "      (rnns): ModuleList(\n",
              "        (0): WeightDropout(\n",
              "          (module): LSTM(400, 1152, batch_first=True)\n",
              "        )\n",
              "        (1): WeightDropout(\n",
              "          (module): LSTM(1152, 1152, batch_first=True)\n",
              "        )\n",
              "        (2): WeightDropout(\n",
              "          (module): LSTM(1152, 400, batch_first=True)\n",
              "        )\n",
              "      )\n",
              "      (input_dp): RNNDropout()\n",
              "      (hidden_dps): ModuleList(\n",
              "        (0): RNNDropout()\n",
              "        (1): RNNDropout()\n",
              "        (2): RNNDropout()\n",
              "      )\n",
              "    )\n",
              "  )\n",
              "  (1): PoolingLinearClassifier(\n",
              "    (layers): Sequential(\n",
              "      (0): BatchNorm1d(1200, eps=1e-05, momentum=0.1, affine=True, track_running_stats=True)\n",
              "      (1): Dropout(p=0.2, inplace=False)\n",
              "      (2): Linear(in_features=1200, out_features=50, bias=True)\n",
              "      (3): ReLU(inplace=True)\n",
              "      (4): BatchNorm1d(50, eps=1e-05, momentum=0.1, affine=True, track_running_stats=True)\n",
              "      (5): Dropout(p=0.1, inplace=False)\n",
              "      (6): Linear(in_features=50, out_features=1, bias=True)\n",
              "    )\n",
              "  )\n",
              "), opt_func=functools.partial(<class 'torch.optim.adam.Adam'>, betas=(0.9, 0.99)), loss_func=FlattenedLoss of MSELoss(), metrics=[], true_wd=True, bn_wd=True, wd=0.01, train_bn=True, path=PosixPath('/content/gdrive/My Drive/fastai-v3/kick'), model_dir='models', callback_fns=[functools.partial(<class 'fastai.basic_train.Recorder'>, add_time=True, silent=False)], callbacks=[RNNTrainer\n",
              "learn: RNNLearner(data=TextClasDataBunch;\n",
              "\n",
              "Train: LabelList (1348 items)\n",
              "x: TextList\n",
              "xxbos xxmaj gone xxmaj west xxmaj axe xxunk xxmaj west will be xxmaj seattle 's first axe throwing xxunk axe throwing to the pacific xxunk throwing is one of the fastest growing sports in north america . the idea of a commercial location that provided patrons with a safe controlled environment to enjoy the sport originated in canada but has quickly spread throughout the united states . there are axe - throwing locations in or near baltimore , philadelphia , chicago , san xxunk , detroit , austin , charlotte , denver , and brooklyn , among other xxunk i heard of this sport i quickly jumped online to find a location near me where i could try this out . living in seattle , with its rich logging history , i was shocked to find i would either need to leave the country , or drive nearly 800 miles to the closest location in the united xxunk was then i started looking into the logistics of opening a location in the seattle metro area . i 've spent my free time over the last 6 months researching the sport , potential locations , build out costs , insurance costs , and i have finally reached the point where i 'm ready to pitch this to you on xxunk , back up a second , axe xxunk short , axe throwing is very similar to darts , except the targets are much larger and you 're throwing axes instead of xxunk length of a session is dependent on the size of the group , with it taking roughly between two and two and a half hours for a group of 8 - 12 xxunk plan to allow all outside food and drink , and food delivery . depending on insurance costs and interest we are also considering byob for beer in wine . there will be communal areas for customers to sit down , eat , drink , and xxunk two largest axe throwing organizations xxunk and xxunk provide more in depth rules and regulations if you are interested in learning more : https : / / xxunk / http : / / xxunk / our goalthe main goal of our kickstarter is to xxunk interest from our local community . i believe an axe throwing business we be right at home here in seattle , but i 'd love to see some concrete interest , and the funding raised from our backers will give us a healthy starting point on top of the funding i have already secured for this xxunk thanksthank you to the following people who shared their axe throwing experiences and videos with us , allowing us to give a more compelling pitch for our vision . xxunk - https : / / www.instagram.com / xxunk / xxunk - https : / / www.instagram.com / xxunk / xxunk - https : / / www.instagram.com / xxunk /,xxbos xxunk and clever xxunk - in functions : xxmaj self xxmaj stick , powerbank , xxmaj bluetooth xxmaj shutter , xxmaj flashlight , an xxmaj umbrella . xxmaj with xxmaj notification xxmaj xxunk only smart but the only clever umbrella . with build - in functions without sacrificing your style . made up of 5 parts to fulfill your need of a self stick , a power - bank , a bluetooth remote shutter , a flashlight , and of course an umbrella . and with our app , you will be able to get all types notifications . if you are forgetting to take your xxunk with you or help you find it if you misplaced xxunk bluetooth remote xxunk wireless remote shutter for iphone , samsung , and other smart phone cameras . smartphone mount gopro mount camera xxunk stick - self - portrait extendable xxunk . perfect for a close - up , a wide panoramic , or a group xxunk - in xxunk power - bank of 2200 mah battery and output 5v / 1a . a fully charged power - bank can support smart phone fast xxunk xxunk handy led flashlight built into xxunk initial colors will be black , baby blue , apple green , xxunk , and leopard xxunk xxunk xxunk ® invisible coating allows rain to roll right off so umbrella stays 4x xxunk -- no more dripping mess ! maximum strength frame withstands winds up to 70 mph compact design perfect to stash in your purse or bag . battery : xxunk mah | input : micro usb | output : usb 2.0 | leds : 1 flashlight , 1 power / bluetooth indicator | length : 13.5 \" , xxunk \" extended | weight : < 2 lbs | diameter : 2 \" | xxunk arc : 39 \" | open / close : xxunk it working : shipping : we're offering shipments to every country in the world . shipping is free for backers in the xxunk backers , we have an estimate shipping fee and we are working to reduce it ones we have a list of xxunk note that you will be responsible for duties , fees and taxes applicable to your xxunk us : if you have questions , you can always reach us at xxunk,xxbos xxmaj help xxmaj release \" xxmaj real xxmaj feels xxmaj live xxmaj vol . xxunk from a magical night in xxmaj los xxmaj angeles - the band sounds incredible , the album is finished , but we need your help to release xxunk everyone , my name is john raymond and i play trumpet and flugelhorn . i 've got a band called real feels which includes two incredible musicians and dear friends of mine - guitarist gilad xxunk and drummer colin xxunk . we recently put out our latest album \" joy ride \" in early 2018 , and in the process of touring for the album we recorded a handful of live shows in hopes that we could eventually put a new live album together ( because i really believe this band is at its absolute best when heard live ) . well , sure enough , we got some amazing recordings and , after xxunk through everything from all the shows , i 've put together what are honestly some of my favorite musical moments that i 've ever been a part of . but , i need your help to make the album xxunk by andrea xxunk i look back over the last 4 years since the band began , it 's pretty crazy to think about all that 's happened . from the release of our first album real feels in 2016 , to the near 100 shows we 've done since , to that special night in la where \" minor silverstein \" happened , to getting to tour internationally in japan this past summer for the first time , and so much more ... every moment has been incredibly xxunk , truth be told , the reason it 's been so memorable is that we 've gotten to share all these moments with so many of you . this has really made me realize how much the process of creating and sharing music is not just about the music or the art of it all ... it 's about this connection we all share together around the music . it 's about a sense of family or community where we all experience and feel something together ... that 's what makes me know that there 's a deeper purpose and meaning in this music . and so , i 'm hoping that , if you are into this band and into the music we make - or to say it another way ... if you ’re a part of this real feels family - that you ’ll consider helping me make this thing xxunk new live album will be comprised of 6 tracks , all taken from a show we played at the blue whale in los angeles ( one of our favorite venues and cities in the world ) . i 've spoken with the folks at xxunk records about putting it out in early 2019 and they 're totally on board . now , i just have to find a way to make it happen ! specifically , this means that i need to raise money to cover the following expenses : paying gilad and colin ( i ca n't not pay the guys who made this music what it xxunk & mastering the record w / the great dave xxunk artwork and design w / jamie xxunk of xxunk xxunk for the record so that it can get reviewed / read about in as many places as xxunk new videos with the band ! : ) online promotion for the music and the new xxunk you can see , there are many different tiers in which you can support the project and get cool stuff in return ( each named after one of our favorite places that we 've played over the last few years ) . beyond getting the music for yourself via download or cd , you can get a dope real feels tee ( in black or gray ) , pdf xxunk of all our arrangements / tunes , a skype lesson with me , a real feels cd bundle that includes all 4 of our albums and more . you can even request a song for us to cover and we 'll send you a personal recording of our arrangement on it ! any way you choose to go , i 'm excited to be able to share all this other cool stuff with you all besides the music.as i 'm sure you know , the fundraising goal for the album is an \" all - or - nothing \" venture , so any amount that you can give to support the project will make a huge difference . again , from the bottom of my heart … thank you all so much for all the love and good vibes you ’ve given me and this band over the past few years . i ca n’t wait to share this music with you all and thank you in advance for your xxunk,xxbos xxup intuitive xxmaj mechanical xxmaj engineering . xxmaj world 1st visual xxunk , xxmaj clear & xxmaj concise handbook about xxmaj mechanical xxmaj engineering . xxmaj graphically designed for xxmaj students , xxmaj product xxmaj developers & xxmaj project xxmaj managers . 29 / 6 / 19 : first copies arrived ! stretch goals : matt laminated cover instead of just matte paper , and additional team management feature in the gantt excel file ! see the 2nd update for more details and xxunk rendered photo , recreated in real - life ! this material is fantastic , it is so soft on the touch and the matt paper coating makes the color vibrant and clear - i 'd never imagined it would be this xxunk everyone ! my name is antonio xxunk , a 27 years old mechanical engineer with 3 years of experience in the field ( you may find more details on linkedin ) . the xxunk have always noticed how it is not easy for people with different cultural backgrounds to effectively communicate together . i wanted to facilitate xxunk , so i started taking concise notes to explain mechanical engineering topics in a simple way . i also started studying visual design so i could make better notes . this process lasted for 6 years , 3 of which in real - life job xxunk i want to helpi want to empower everyone in the world with the basic knowledge of mechanical engineering topics , and i want to do this with the help of clear , appealing visual design . that 's why i condensed this practical , easy - to - grasp mechanical engineering knowledge in a concise e - book . this short handbook ( 51 pages ) will be of most use to three main categories : with clean graphics and easy - to - grasp explanations , this book is a solid reference to look up to . by reading it before the in - depth university study , you will immediately grasp the underlying concept . also , you will understand what and how the things you learn will be useful to you in a future job . the last chapter also contains a brief guide to the most common work positions in the mechanical engineering field , so you can get a better idea of what real - life engineers do . as a product development engineer myself , i find it useful to have all the most important information to keep in mind during a product development process - and so will you ! from material properties to manufacturing methods , get handy information on the most common choices you will have to face during your xxunk effectively manage a team with mechanical engineers , one needs to have a general knowledge of the topic - what better way of having it than a clear and concise book ? also , relative time and costs for main applications are reported here , so to have some reference values . a peek in the content ... take a look at the structured index in the infographic below ! you will be presented the main mechanical engineering topics in a way that xxunk the phases of a product development process - starting from the materials ' choice , you will see how these are studied and processed into xxunk items , finally passing through the product design and validation . additionally , to readily access the most important information for each topic , i have created a so - called \" tab \" section which summarizes the chapter 's most important concept in a single page . these \" tab \" pages have a dark blue background , compared to the standard page 's white one - so that you are immediately focused on the content . find a comparison below : a standard chapter page , the one about materials . the most relevant information about the most common material classes ( metals , plastics , and ceramics ) are given in just a single , concise xxunk standard chapter page , the one about joining methods . the most relevant & practical information about this topic is given in just a single , concise xxunk the start of every chapter with a relevant quote ! it pretty much summarizes the entire chapter 's content , but that would too much concise i think … be sure to read the chapter , it will be quick & easy ! rewards & schedule i am excited to share this easy - to - understand knowledge juice with you , and i look forward to helping people from all over the world to have the best time understanding mechanical engineering in the easiest possible way ! back me up and i 'll properly reward you on three main levels : earliest e - book copy ( pdf file ) : the cheapest , yet includes all the precious content ! i will send it worldwide in pdf format via an amazon coupon code ( 100 % discount ) or if you prefer , via mail . also : the book is written in a landscape layout so that you get the most when visualizing it on screen . save the environment and visualize the beautiful e - book on your digital screen ! earliest e - book copy ( pdf file ) + gantt management file ( xxunk file ) : in addition to the very first e - book copy , you shall get an intuitive : excel gantt file to organize / keep track of your projects in the easiest possible way ! this is an exceptional file of my creation that i use to track projects - i have tried many online gantt chart , but none had the simplicity and xxunk i needed in my everyday work . here is an example of what you get : quick look into this file : set the project name and the starting project year . then you just input the initial date for each project phase and the related milestone ; finally , you set an end date or a duration - both in days or weeks - that 's it ! everything else will be automatically filled , and there you have it - a quick , simple , intuitive gantt file ! ps . click on the image for full xxunk e - book copy ( pdf file ) + gantt management file ( xxunk file ) + exclusive printed handbook : i will not make physical copies of my e - book , but as a kickstarter exclusive , i will be making a premium full - color handbook copy , printed on high - quality 130 g matte paper , metallic spiral - joined . here is an image of what it would look like , although keep in mind this could not be representative of the reality - i do not have printed any hq copies yet as they are quite expensive to print xxunk left - side page is free for you to take notes , so you can use it as your personal notebook . update and evolve it as your knowledge xxunk copies are very expensive to be printed with such premium characteristics , i have limited their number to 20 total . this way , i can set an achievable kickstarter target of 800 € as a starting point ( i will make just around 3 % profits ) . then , if the public response is very positive and the campaign will reach the goal quickly , i will increase the number of copies : ) xxunk course , only valid for the limited edition handbook copy ( weight approx . 500 g ) . shipping will be done via my local country service ( xxunk xxunk ) . i would have preferred to ship traceable xxunk only , but this option is crazy expensive , so in addition , i offer a non - traceable shipping option for you to xxunk > registered shipping option : parcel is guaranteed to be traceable along all its route for these countries . here is the link for the tracking on my local carrier service . for other countries , tracking will happen until your country then it is up to your local service if tracking will continue . pay attention to monitor your shipping , or it may be sent back to me ! shipping time : not specified and guaranteed by the carrier ( i know ... ) , but employees said 2 weeks is the most common shipping time all over the xxunk > priority shipping option : parcel is not traceable - only shipping proof will be given ( released from the postal service ) . shipping time : on the shipping service website you will find all the details ( you 'll need to translate the page , sorry ! ) , but basically , 85 % of the shipments will take 8 ( working ) days to arrive in eu countries and 15 - 20 days to the rest of the world . where to ? kickstarter will add the cost of shipping based on where you live . when ? please note that scheduled month ( september ) refers to the shipping - depending on where you live , you may need to wait some more time . you need to take into account shipping time ! note : i will most likely ship by july , but you know , better safe than sorry ! custom duties : in some countries , customs duties may be applied to shipments . i have no way of predicting if they ’ll apply to your shipment , nor i can avoid it . anyway , some countries may not apply customs to items of such a small declared value .,xxbos xxmaj black xxmaj rabbit - xxunk third art book in the xxmaj black xxmaj rabbit xxunk folks , welcome to my project . i 'm pleased to announce the launch of my third black rabbit art book project here on kickstarter . the world i 'm building has developed and grown , and i 've enlisted the help of my writing friend toby xxunk . i ca n't wait to show you what we 've created . so with my moody low - light portraits and scenes , and with toby 's fantastic short story , we present to you ... xxunk day i speak to him , i meet somebody new . some days he knows me , some he does not . one day he is a tyrant , and the next he has the serenity of a monk ... \" the black rabbit is a wave of radiation that tears the world apart . the gravity on one side of the earth becomes unstable , and the ground starts to float into the air . xxunk living on the stable side become ill , and are forced to travel to the unstable side in order to recover - on the side where the earth is falling apart , they are given the chance to fight for their xxunk must also confront an even greater cosmic power , on the arrival of the ghost of the black rabbit . \" i have been watching the black rabbit . hundreds of spheres rising up and floating east . it is as though the earth is a cliff face and they are falling under the influence of an impossible gravity . \" the book is a hard back with heavy silk paper , a silky smooth matt finish cover , a large collection of my drawings and paintings , and a short science fiction xxunk black rabbit paintings including 5 never before seen xxunk pages of xxunk pages of concept xxunk ’s a closer look at the additional rewards ... there are no additional costs for shipping , on any of the xxunk really hope you like this body of work , it has been an absolute pleasure to create , and i would love to send a copy of the book to xxunk support black rabbit - xxunk . please back my xxunk xthe previous art books ... if you would also like one of the previous black rabbit books , please increase your pledge by £ 27 per book . alternatively you can purchase the previous books on my etsy page at ... https : / / www.etsy.com / shop / xxunk\n",
              "y: FloatList\n",
              "0.47712126,2.9273703,4.060811,3.3494449,3.3060484\n",
              "Path: /content/gdrive/My Drive/fastai-v3/kick;\n",
              "\n",
              "Valid: LabelList (337 items)\n",
              "x: TextList\n",
              "xxbos xxunk : xxmaj play stress away - xxmaj your xxmaj xxunk xxunk feedback to your health within seconds . xxmaj learn \" what you can do \" from your virtual coach and improve your fitness xxunk you ever get sick and you xxunk know why xxunk xxunk xxunk , not listening to the signs of your own body , permanently under high stress at work and in our free time makes you sick . \" its not stress that kills us , it is our reaction to it . “ hans xxunk xxunk your body xxunk xxunk we created the first high level bio - feedback device in the world for your daily life that xxunk within seconds what happens actually in your xxunk is high quality and high tech for less xxunk with xxunk engineers , top athletes , xxunk and xxunk we created a tool for people who want to keep well and fit and even become stronger . xxunk is always available - a coach for the xxunk virtual coach gives you xxunk what to do and offers mental and physical exercises . xxunk tests your xxunk gamified stress tests , mental and physical exercises to improve your fitness with game and xxunk xxunk you get a stronger immune system see how it works with the integrated head - up - display and the profound xxunk a part of our mission \" play stress away \" . play what people are saying xxunk gamification creates unique products that turn mental training into a game to help users relax , reduce stress , increase their focus and energy levels \" \" they use cutting - edge technologies such as wearables and methods such as gamification to give people a completely new way to approach the topics of stress prevention and mental techniques . \" the ' xxunk ' game controller comes as a modern piece of equipment for users who want to manage their stress level without having to do much else aside from play some simple games . xxunk which can help with reducing stress , providing relaxation as well as laughter , fun and gameplay \" das start - up xxunk einen xxunk und xxunk entwickelt , mit xxunk kinder xxunk , die xxunk des xxunk xxunk zu xxunk und xxunk xxunk ihre xxunk xxunk können . \" xxunk - a little ball with a big xxunk trains your body awareness and helps you to progress xxunk systemthe xxunk is a mobile game controller and xxunk device . when you hold the xxunk in your hand , the integrated sensors provide you with feedback on your personal stress level in a matter of seconds . these sensors measure your pulse , skin xxunk and skin xxunk current stress level is shown through color feedback . blue means that you ’re totally relaxed ; green stands for relaxed ; yellow shows that you ’re xxunk – while red means that your stress levels are at their limit and you should take a time out for a relaxation session as soon as xxunk - xxunk device & game xxunk unique xxunk sleeve , which consists of high quality silicone , can be ordered in different colors . feel the difference with or without a sleeve for special tactile sense xxunk with sleeve xxunk system includes : xxunk , a friendly xxunk device that measures your stress level while also being a full functional game xxunk , varied game - apps including mental training methods by using your bio - data ( skin xxunk , pulse , temperature ) for xxunk and xxunk , virtual coach that supports you with tips and tricks during the xxunk and afterwards via the xxunk xxunk app , daily relax scores help to keep you motivated . besides statistics and your game apps it also includes easy mental training applications and tutorial xxunk more information see our xxunk have developed different games , e.g. retro , arcade and sports games . the objective is to improve your physical wellbeing for stress , enhance your self - xxunk and help you increase your relaxation and concentration through a higher mental xxunk control the xxunk with the xxunk through movement interactions , play buttons and your current stress level . the recorded vital signs such as your pulse , skin xxunk and temperature are incorporated in your personal game xxunk - xxunk - xxunk xxunk interval training in a fun game , for enhanced xxunk and xxunk and concentrate to pinpoint your target focus . increase your relaxation and concentration xxunk your personal breath and the golf ball rolls toward the hole . only when you learn to relax properly you can become a pro xxunk the world against aliens by using your heart xxunk your way through the jungle and temple to put your relaxation ability to the xxunk incredible form puzzle to increase your creativity xxunk current games are compatible with android , ios , xxunk and windows . please stay posted , we will continue developing new games . xxunk games will also be available . our goal is to give you the ball in your own hands for your personal healthcare management . we guarantee you that the challenges will always be fun and motivating . ; xxunk more information see our xxunk more teaser videos our youtube xxunk app & xxunk virtual coach gives you tips and personalized feedback on your training progress . this helps you to stay on the ball and make constant xxunk personal coach the virtual xxunk gives you personal feedback and tips during the game , in real time . this means that you always know what to do to master the current game xxunk to the xxunk ( head - up display ) , you also receive feedback on your current stress xxunk head - up display shows your current pulse and stress level in real time in the form of a rev counter . xxunk also help you to interpret your stress xxunk app - keep on the xxunk our xxunk app you get all statistics from the xxunk , xxunk and xxunk with a simple tap . based on your personal values and results you will get an overall relax score which helps you to keep xxunk from the xxunk xxunk on your personal results you will also get recommendations from your xxunk to achieve lasting results in stress xxunk and tricks from your personal xxunk - easy mental training applications for xxunk xxunk are easy to use mental training programs , which you can easily integrate into your daily xxunk is an easy breathing exercise application . during your exercise the xxunk supports you with vibration feedback and thanks to the head - up - display you get a direct feedback about your stress level xxunk xxunk are part of the xxunk xxunk - xxunk and xxunk are videos that help you improve your progress in the xxunk . they although teach you simple mental training methods like breathing exercises or simply help you to relax during a break with a mental travel . the tutorials are part of the xxunk xxunk - to video xxunk the xxunk app you also get your game statistics and you are able to start and download the xxunk - game statistics xxunk contains sophisticated sensors that are able to measure your stress level . if you take the xxunk in your hand , your stress level will be measured every second , and you get a real time feedback via color xxunk you press and hold both buttons shortly , you will start a 7 second xxunk and you will get the average value as feedback . your stress level is calculated via an algorithm using your skin xxunk ( 50 % ) , skin temperature ( 25 % ) and heart rate ( xxunk xxunk sensor - two sensors on the play xxunk temperature sensor - at the back of the xxunk to measure the temperature in your hand heart rate sensor - two sensors on the play xxunk the xxunk is testing against a reference table , if you create an online account your xxunk will be learning from and with xxunk often technology just simply looks like another piece of technology . with xxunk , we wanted to design something that gives you a friendly feedback and creates positive thoughts just when you look at it . :-) nothing is that much linked to our xxunk to play and fun like a ball , because it is the first thing we start playing with as a baby . what 's xxunk is not just a pretty face . it 's built to last . its serious mechanical structure protects 4 boards , 10 sensors , over 200 electronic components and 12 housing parts . in order to fit so much technology into such a small space , we really had to get creative with things . the resulting design is beautiful inside and out , we xxunk more information see our xxunk is xxunk xxunk your career the motor that keeps you xxunk training with the xxunk will greatly enhance your stress tolerance and performance . - > successful & xxunk you a xxunk , juggling a variety of different xxunk the xxunk you will enjoy your breaks twice as much , feel more settled and have more energy . - > relaxed & more xxunk students achieve great results . what about xxunk the playful training you will concentrate better and you will be less nervous at xxunk and competitions . - > effective & mentally xxunk computer xxunk - kid , but xxunk at xxunk child - friendly games and controlled game phases are the perfect mixture for your kids . with xxunk , kids learn to relax and concentrate while playing . - > focused & achieving potential controlled gaming to enhance their ability to concentrate how we got xxunk the past 2 years , we 've done a lot of things : designing , prototyping , coding , testing , and improving our hard- and software many xxunk drawings first functional prototype the evolution of the xxunk . it was a long way from our first prototype to our current , full functional prototype marcel is presenting the latest prototype of the xxunk and explaining its xxunk more information see our xxunk more videos our youtube channel . where we are xxunk have 30 full functional prototypes of the xxunk , which we even use for stress management xxunk already developed 6 xxunk , which we are finalizing at the xxunk mini - backend is up and xxunk finished one xxunk ( xxunk ) , for the second application we have a finished xxunk development of the xxunk app is on - xxunk main parts of our sdk are xxunk xxunk tool manufacturing and finalizing plastics xxunk tool manufacturing for the xxunk zero manufacturing regarding electronic , housing and xxunk xxunk app xxunk development e.g. tutorials , statistics xxunk and xxunk xxunk / 2018 - finish xxunk , xxunk , charge xxunk / 2018 - finish xxunk app , series xxunk / 2018 - xxunk with xxunk basic idea behind xxunk is to bring more sense in my xxunk can use the xxunk anonymous and offline . that 's important to us . if you create an online account , you have access to your data from everywhere and they are backed . our future goal is that our system and people are learning from the crowd . we enjoy tinkering with and building xxunk of other products we like . xxunk will let you have that experience , our goal is to provide a sdk for developers . we would love to hear your thoughts on what you might want to build with xxunk , how you could directly interact with the hardware and the data it xxunk xxunk the xxunk team , we combine the expertise of elite sports coaches with strategic it management and years of experience in game development . our university partners , such as the vienna university of applied sciences and the university of vienna , bring their scientific know - how to bear . with a good deal of creativity and effort , we have achieved something completely new to the xxunk more information see our website.the xxunk do n’t most people stay on the ball ? ” this is the question andreas xxunk ( ceo of xxunk ) asked himself when he observed that – despite the active involvement of the participants in his training sessions – the sessions themselves rarely led to a reduction in stress . in the absence of a personal coach , most of the participants simply xxunk motivation . why not make the classic anti - stress ball intelligent and turn it into a games controller ? listen to the whole story . awards and nominations xxunk gift xxunk xxunk is also a mindful gift for your loved ones , which can bring much relaxation and fun in their lives . we will provide you with a customizable gift card , which you can download , edit and put under your christmas tree . that 's all xxunk xxunk on facebook , youtube , instagram , twitter and our website . and lastly , thank you ; we ca n't wait for you to use what we 're building . supporter and partners * supported by xxunk impulse xl of the austrian federal ministry of science , research and economy , administered by xxunk,xxbos xxmaj ocean xxmaj alien xxunk want to film , record , and live stream 24 / 7 the lives and development of octopus in order to learn everything we can about xxunk , my name is john and for the past 2 years i have been eating up as much information as i can find on anything that has to do with octopus . as much as i have soaked up i have realized that there is still much more we have to learn about these amazing animals . my goal is to set up large 24 / 7 observation project where i can monitor , record , and stream live the lives of these animals in order to better understand them . a project of this size requires the assistance of someone who knows and understands xxunk marine life and who could help me set up and maintain the tanks . also , i will need to have a website to run the whole thing off of . then there is the actual equipment . costs add up quick and its simply just not feasible for me to chunk out all that capital from the jump . in the end i want to have something that i can share with everyone . i believe that we have a lot to learn from these creatures on our own planet that are nothing less than alien . however , this is something i 'm going to need all the help i can . anything that you can spare or help with will be greatly appreciated and put to good use . thank you for your time and consideration . donate or not always keep a health thirst for knowledge . xxunk r smith,xxbos xxmaj the xxmaj xxunk t - xxunk xxmaj xxunk need you to help us get t - shirts xxunk xxunk are band from xxunk , xxunk . after many requests for merch we have finally decided that it 's a good idea ! the only thing is that we ca n't afford to pay for the printing costs . this is where you come in ! every dollar helps . $ 20 + pledge will get you a t - xxunk + pledge will get you a t - shirt and a super limited demo xxunk you 're a big enough legend to pledge $ 20 + , leave us a message on here ( or our facebook page ) as to what size shirt you would like , just so we can order the right amount !,xxbos xxunk - xxmaj finally great fitting plus size xxunk you recognize yourself ? xxmaj uncomfortable , xxunk and bad features at your everyday xxunk you recognize yourself ? uncomfortable , xxunk and bad features on your everyday xxunk vision is to develop everyday clothes that are adapted to fit the larger xxunk 10 years of experience and expertise in clothing for larger people , we see a shortage in what is delivered to the end customer today . the industry chooses to look away from large - scale people and create size models that become smaller and smaller . while most of us find it difficult to find clothes of a larger size . we have gathered all the stories that our customers have told us , and created a collection that should correspond to what 's xxunk the launch of xxunk voices xxunk be xxunk have listened to over 100 people who have sizes between xxunk xxunk . we have collected their thoughts and manufactured these 3 products for our first launch . stretch t - shirt we want you to feel comfortable . the t - shirt collection contains a basic model with a single - round neck , shorter and xxunk sleeves than today 's standard measurements available on the market . we have seen that the demand for shorter sleeves and garment length is higher than ever . the t - shirt model has a longer back than the front to minimize the risk of creating a gap between t - shirt and trousers . ( measured in xxunk xxunk the stories and wishes we have been told , it has been one thing in common . a jacket that you can wear every day , under all conditions . it must be warm , light , have breathability and a great comfort . it took us two years of designing and testing to get the ultimate result . this is our xxunk jacket - your every day buddy . ( measured in xxunk jacket your voice is paramount . we want to know what you want to wear . get in touch with us , participate and influence our future collections ! our most important elements are to create everyday clothes that are well - developed for a larger body . you have the answers ! contact us at xxunk with love,xxbos xxmaj help me fund my business , xxunk started making these bracelets to reduce my xxunk while sitting at home but i want to sell them at a local town xxunk was sitting at home at my grandma 's house one day and got bored so i decided to xxunk through her craft closet and try a few different things . well knitting did n't work and i still fail to this day and i tried making pillows but those never went anywhere so it was a few years later i was browsing the web and found stuff made of xxunk . instantly i was hooked and started learning . after a while i put it down so i could focus on school but have recently picked it back up after some encouragement from a nice man and his wife whom i 'd met at a local town fair . i 'd really like to get a spot near them next year and show my wares but with school and the job market xxunk being fairly thin , i do n't have the money to purchase materials and get a spot at the fair . so i 'm asking you , the kind , awesome , smart , and beautiful [ handsome if you prefer that ] people of kickstarter for help . at this moment i am able to offer half - persian 3-in-1 which is the weave shown in the picture , european xxunk , xxunk xxunk xxunk , and xxunk xxunk , but am always looking to expand what i know .\n",
              "y: FloatList\n",
              "4.569725,1.0413927,3.0289478,2.8131917,1.9590414\n",
              "Path: /content/gdrive/My Drive/fastai-v3/kick;\n",
              "\n",
              "Test: LabelList (422 items)\n",
              "x: TextList\n",
              "xxbos xxmaj southern xxmaj sisters xxmaj xxunk xxunk passion has always been cooking , i want to share some of our xxmaj southern favorites with a kicked up twist wrapped in love and bacon ! southern sisters is about my three little girls and all the grandmothers that taught their young ones how to make jam or fry a xxunk ' egg ! it 's sitting on the front xxunk listening to the stories of long ago with a glass of sweet tea , passing down those recipes that i want to share with you from my kicked up food truck ! so .. the plan is to fix up and remodel my vintage little camper to the health department code and safety standards and convert her into a fully functioning food truck ! including , but not limited to , equipment , paint , materials and supplies . i will also need to have the funds for insurance , licenses , permits , and of course a coffee maker !,xxbos xxmaj xxunk - in - the - xxmaj clouds : xxunk in the digital xxunk xxunk to xxunk ancient religious themes in real - time xxup 3d , created by avant - garde indie studio xxmaj tale of xxmaj xxunk and congratulations to all our backers for making this xxunk you ’ve missed it , you can still support the project here . we ’ll be working on this for a xxunk … we are xxunk harvey and xxunk xxunk . we ’re a wife and husband team working out of xxunk , belgium . we ’ve been making videogames together — as tale of tales — for the past 12 years . this new project , however , is a little bit xxunk xxunk has always been the arts . and with xxunk - in - the - clouds we want to return to some of our original inspirations for working with interactive media — as expressed , for instance , in the xxunk art xxunk think of xxunk - in - the - clouds as an ever expanding collection of virtual xxunk depicting scenes created for xxunk . the individual pieces will be available in a variety of digital media ( downloads , web , apps , video , etc ) . or they can be explored together in virtual reality ( vr ) in the xxunk xxunk . the subject matter for the xxunk is inspired by the medieval art that we find ourselves surrounded by in our home town of xxunk in xxunk of being xxunk , we ca n’t help being intensely moved by some of the religious art made during the gothic and renaissance period . these experiences ca n’t convert us to xxunk but they do make us think about universal themes as kindness , self - sacrifice , patience , empathy , love , and so on . we feel they make us better people . these experiences are intense and often accompanied by tears . and they last ! they stay with us , become part of us , tremendously improve our lives on this xxunk looking to transfer the intense experiences we sometimes have in museums to xxunk and the comfort of our living xxunk love visiting museums and churches in search of these experiences . but it ’s not always convenient to do so . and since there ’s all this wonderful technology now , it really should n’t be necessary anymore . we should all have works of art in our pockets or on our laptops , for when the mood strikes , or when we need a moment of calm and focus . on top of convenience , computer graphics running in xxunk are not confined to 2d static images anymore . now we can create scenes that are three - dimensional and alive ( and still fit in your pocket and can be shared xxunk individual xxunk in the virtual xxunk consists of a box that houses a life - size virtually sculpted body . often the body of a saint , or the virgin mary or jesus christ himself . the way that they are depicted always refers to some ancient tale . but do n’t worry , we ’ll make sure to explain the context of each piece , in case you ’re not familiar with this particular part of the story.the xxunk are alive . air flows , light shifts , insects xxunk around , wind affects clothes , xxunk move when breathing , and so on . accompanied by subtle , immersive sound effects . in many scenes an event will slowly unfold , from a beginning to an end . this should help you take the time needed for the contemplative effect . these are not casual experiences ! they are a form of meditation that require a certain state of mind that may take some effort or concentration to achieve . but it ’s so very much worth it ! such experiences can be life enhancers , sensation xxunk . they open our eyes and help us embrace and enjoy existence as it presents xxunk ? why xxunk have wanted to work with ancient religious themes for many years . but it ’s only now that we have figured out how to shape this desire . we think that , with your support , we can now bring something of real value into this xxunk the 20 years we 've been creating , projects and ideas with religious references continuously xxunk - in - the - clouds is intended to be our xxunk . we consider it to be a long term project that we want to continue to work on , perhaps for the rest of our lives . it is the ultimate art piece we want to create . beyond this we have no desires . i believe we have now achieved the experience and xxunk that can enable us to create a work of the xxunk we envision . there is no guarantee that we will succeed . but it is certain that we can not even start without your help ! would you like to be involved in one of the xxunk , ambitious , innovative and xxunk art projects of the century ? then pick your xxunk hosts : xxunk harvey & xxunk xxunk , creators of xxunk - in - the - clouds , with your xxunk will be making this entire project and all the individual pieces by ourselves . between the two of us , we have all the skills and experience needed to pull this off . we are looking forward to the long periods of intense and xxunk work to create these intricate pieces without the xxunk and stress that conventional team work xxunk started collaborating in 1999 — on a server called xxunk of all places . as xxunk ! we created hundreds of websites for numerous clients and several xxunk pieces that still find an audience xxunk 2002 we switched to making videogames . we ’ve published 8 games : the endless forest , the xxunk , the path , xxunk , xxunk , xxunk xxunk , xxunk xxunk and sunset . hopefully you ’ve heard of some of those . if you have n’t make sure you pick an award tier that includes them so you can start exploring our wonderful virtual worlds xxunk want to release all the pieces that come out of this project to the public for free . because we feel we should avoid commercial pressure when creating art of this xxunk . so we really need your support to make this work . backing xxunk - in - the - clouds does not just enable us to create this ambitious work of art . but it is also a gift to humanity as a whole . yes , we do believe that art can change the world ! do n’t xxunk are cumulative : each reward includes all the rewards above xxunk « c h a s t e » support the project and you will receive all private updates we send to kickstarter backers in perpetuity . that way you will be kept xxunk on what 's going xxunk « g r a c i o u s » on top of the private kickstarter updates , you will gain free access to our subscription - based development log where we share our most intimate thoughts , plans and processes concerning the creation of xxunk - in - the - clouds and any other projects we are working on or hoping to work on one day . you also get to experience the xxunk created with this kickstarter one month before the general public xxunk « v i r t u o s » by reading the kickstarter updates and the development log you will know exactly what 's going on . but we will also notify you when an actual piece of xxunk - in - the - clouds is ready to be explored , one month before it is available to the general audience . to prepare for the experience , you also get the full version of our game the xxunk ( for pc , mac , linux & xxunk « p i o u s » during the production , we will write about our progress , ideas and feelings , either closely related to xxunk - in - the - clouds or more general . some of this may be published in the development log . but at the end of the project , or when we feel we have arrived at a nice mile stone , we will bundle all these essays in a digital book . a bit like we have done for our game xxunk xxunk . on top of the book you also get the xxunk of our 1999 - 2006 piece the xxunk museum to explore our first collaborative excursion into religious themes ( on pc or xxunk « d e v o u t » if you want a bit more than just reading about our production and you do n't mind getting your hands dirty , we can send you early builds of the projects in progress . this will give you more insight in our process , satisfy your curiosity and provide you with the opportunity to send us feedback on the build that we can take into account to improve the work . we will also thank you on twitter so everyone knows how xxunk you are . and thanks to the generosity of their world - renowned composers , you also get the soundtracks to our games the path by xxunk & kris force , xxunk xxunk by walter xxunk and sunset by austin xxunk « o v e r z e a l o u s » next to all the rewards above , you will get download links and steam keys where available to all of over games : the endless forest ( windows only ) , the xxunk ( windows , mac , linux & android ) , the path ( windows & mac ) , xxunk ( windows , mac & linux ) , xxunk ( android ) , xxunk xxunk ( windows , mac & linux ) , xxunk xxunk ( windows , mac , linux & android ) and sunset ( windows , mac & linux ) . careful : this one is for 200 early birds xxunk « z e a l o u s » same as above but your name will also appear in the credits of the xxunk « i m m a c u l a t e » next to all of the games we have released , and all the other rewards above , you get exclusive download links to a treasure chest of experiments and prototypes that we dug out of our archives and bundled for the occasion of our 10 year anniversary as a company . please find the details here . this bundle is not for sale anymore . this is the only way to get it ! we will also send you an actual non - virtual postcard to thank you for your xxunk « s a i n t l y » this is where things get serious . on top of all the trinkets above , we will honor your support of the building of xxunk - in - the - clouds exactly how this has been done throughout the ages : by putting your name on the eternal xxunk of the building . everyone who enters this xxunk hall will see how xxunk you xxunk « h o l y » we love living in xxunk , capital of the medieval county of xxunk , cradle of the northern renaissance and a fairy - tale like place to explore . and we live right next to the center of it all , just outside the former city xxunk . we invite you to come stare at the gothic xxunk of saint xxunk from our studio window in the attic of our home , a slender four story city house from the 19th century . next we will take you on a tour of the city and lead you around the interior of our beloved xxunk that has inspired us so much throughout the xxunk « c e l e s t i a l » in the xxunk days , kings and queens were buried in xxunk . many xxunk to this very day still have tomb stones instead of floor tiles . we will bury you in xxunk - in - the - clouds ! but since this is a virtual xxunk there 's no need for you to die first . we will simply make a beautiful tomb stone with a stylized rendition of your appearance and put it on the floor . an honor fit for a xxunk king or xxunk « a n g e l i c » a xxunk would be nothing without beautiful statues of saints . since we often do n't know exactly what these saints looked like , artists can take some xxunk in creating their likeness . so we hope that you would want to have your features xxunk as a holy man or woman . we can discuss any preference for the exact saint you might want to be depicted as . there 's many to choose xxunk « d i v i n e » xxunk - in - the - clouds will become the home for hopefully many art pieces over time . for each of these pieces a new chapel will be added to the virtual building . much like in the old xxunk , we will offer the opportunity to patrons to have a chapel of their own , dedicated to the saint of their preference , and decorated in a way that pleases them . the \" divine \" reward of the xxunk - in - the - clouds will be the first such chapel . and this is also the only time when this feature will be available at such a low cost . your very own chapel - in - the - xxunk « t r i n i t y » the xxunk - in - the - clouds will be xxunk after you , as one of the three sacred xxunk that form a holy trinity to watch over this most ambitious artistic endeavor . so if your name would be william , and the two others would be called robin and alice , xxunk - in - the - clouds will be xxunk to \" st william , st robin and st alice in the clouds \" . has quite a ring to it , would n't you say ? since you get the whole xxunk there would not be much point in making a chapel or a statue for you . but you will get everything else of course , we were just trying to grab some attention when we said \" none of the above \" . have our xxunk , xxunk xxunk - in - the - clouds is a huge project . much like the old xxunk , we will be building it bit by bit , starting with the choir , all the way in the east ( top of the map above ) . through this crowdfunding campaign we want to lay the foundations of the virtual xxunk and create two xxunk : one featuring eve with the snake from paradise and the other a holy virgin nursing baby xxunk , step by step we will expand and decorate the xxunk and add more xxunk - in - the - clouds website : xxunk - in - the - xxunk - in - the - clouds twitter : xxunk - in - the - clouds reference tumblr : xxunk from xxunk . xxunk 's xxunk xxunk in f minor , arranged by xxunk . bach , performed by and licensed from the bach xxunk music by bach and byrd performed by james xxunk and the xxunk xxunk , cc licensed via free music xxunk things people say about us,xxbos xxmaj eating on a xxmaj dime - a xxmaj collection of xxmaj unseen xxunk create a collection of the xxmaj worlds lesser known xxunk from the xxmaj jungle of xxmaj niger to the xxmaj sands of xxmaj xxunk aim of this project is to fund a trip to some of the xxunk countries in the world to document how so many can eat flavour - fully with such limited resources and the creative xxunk thrown together by some of the most inventive and forgotten people of the world .,xxbos xxunk xxmaj photographer and xxunk is a xxmaj leeds based photographer and xxunk who , through her doodle designs hopes to inspire people to travel the xxunk years from now you will be more disappointed by the things you did n’t do than by the ones you did do . so throw off the xxunk , xxunk away from the safe harbor . catch the trade winds in you xxunk . explore . dream . discover . - mark xxunk my name is alex xxunk , and i ’ve always been a bit of a dreamer . my fascination for photographer has made me want to capture every moment , i want a record of all the beautiful places i ’ve been privileged enough to see , all the unique moments that i have witnessed . i have a thirst to see everything , do everything , know everything . i want to feel the warmth of the sun on my face . i want to hear a lion roar . i want to stand on the xxunk , and watch the sun slip over the horizon . i want to drive over the xxunk salt flats . i want to hear the xxunk of an owl . i want to see a lightning bolt strike . i want to walk the wall . i want to watch the desert sands shift . i want to lean off the side of a xxunk , and run my fingers through the ocean as i xxunk into the wind . i want a xxunk to rain down on me while i look up at the heavens . i want to sleep under a midnight sun . i want to stand with the statues and stare out to sea for an eternity . i want to be lost in a jungle . i want to stand alone and listen to the sound of silence . i want to run with the bulls , see a xxunk explode , watch lights dance in the night sky . i want to walk in the forbidden city . i want to smell the sea air , and xxunk the calm before the storm . i want to see the world . i want to feel alive . one day i decided to add some doodle designs to my photographs . i want to inspire people to feel the same way i do . to feel the xxunk of life and the beauty of the world we live in . my goal is to motivate at least just one person to explore the world with open eyes . what your generous donation will go xxunk - photography equipment as this is an expensive passion ! - subscription to adobe editing software for my xxunk - petrol money to travel to beautiful locations to photograph all of my current designs can be seen at xxunk / people / xxunk . to xxunk your thirst to travel heres my favourite design with a few of my favourite photographs xxunk in : xxunk meets xxunk rock,xxbos xxmaj xxunk : xxmaj fitness xxmaj tracker and xxmaj xxunk xxunk your heart shine and watch it work ! xxmaj xxunk tracks improvements , times intervals and translates heart rate into xxunk xxunk heart rate is an extremely valuable indicator during physical exercise , but reading it off a watch reduces focus or is only possible in between intervals or xxunk xxunk feels like having a sixth sense for your heart . it makes you aware of your heart rate and every single one of your xxunk . gain more control over your body and work out more xxunk exposure photography of two xxunk is xxunk xxunk chest strap provides a continuous , xxunk and intuitive xxunk by translating your heart rate into colors , which are displayed with high power xxunk color xxunk smoothly with your heart rate : for example with an increasing heart rate from blue to red over all the colors in between and back to blue again when you xxunk after a xxunk uses xxunk enhances workouts of many different kinds of athletes . wear xxunk when you 're running , xxunk , practicing xxunk or performing other physical activity . feel your surroundings pulse with your heart and see the bright leds shine through your shirt when you 're working out in front of a xxunk connects fitness classes : get individual workout intensity feedback of all participants at a glance , coach them with more precision and make them motivate each xxunk heart rate after intense xxunk xxunk device is compatible with the bluetooth heart rate service , so you can keep track of your improvements with your favorite workout tracker on your smartphone or xxunk xxunk xxunk the color pattern for a high resolution in your target heart rate zone and save profiles for all your workouts and xxunk intensity xxunk running xxunk orders of colors generate alternative color xxunk profile with alternative color xxunk xxunk vibration motor keeps your sets and intervals on time ! set it up to notify you at certain heart rates , after a pause or in fixed intervals . it operates xxunk after you set it up with your xxunk coaching xxunk xxunk operates for six hours with pulses of maximum intensity . adjust the leds ' maximum brightness to save energy and its minimum brightness to change the amount of heartbeat feedback . chose a strong heartbeat feedback when you 're on your own and select a constant brightness for classes . when you 're running in the dark , set the minimum brightness to 30 % so you 're more visible in the city and can see where to place your steps in the forest , but still feel every single one of your xxunk the heartbeat xxunk controlled xxunk xxunk as a bluetooth rgb light between your workouts . conveniently switch your xxunk on and off with your smartphone and keep xxunk fully charged at the same xxunk xxunk for xxunk astonishing effect attracts lots of curious athletes in the gym and on the track now that the patents are pending and we 're finally allowed to wear our prototypes outside of our xxunk pre - production boards weigh xxunk g . the chest strap weighs xxunk g . the case adds another 8 g . this means xxunk is as light as other heart rate chest straps ! the final version is twice as bright as the prototypes we used for shooting our photos and videos ! oh , and by the way : even though it 's hard to capture xxunk 's light effect on camera , all the photos and videos in this campaign have only been cropped and were not edited in any xxunk design ( without case ) - uploaded 10th of xxunk xxunk circuit board manufacturer needs seven to eight weeks . programming , testing and finishing the devices takes two to three xxunk takes one xxunk means you will have your xxunk device in march to april ! previous versions : proof of concept - fully functional prototype - xxunk xxunk devices will be shipped with a chest strap , a compact xxunk to micro usb adapter and some adhesive tape so you can stick the adapter to a wall , table or xxunk & hardware development xxunk xxunk development xxunk xxunk & video alexa xxunk moon veil - ivory\n",
              "y: EmptyLabelList\n",
              ",,,,\n",
              "Path: /content/gdrive/My Drive/fastai-v3/kick, model=SequentialRNN(\n",
              "  (0): MultiBatchEncoder(\n",
              "    (module): AWD_LSTM(\n",
              "      (encoder): Embedding(21488, 400, padding_idx=1)\n",
              "      (encoder_dp): EmbeddingDropout(\n",
              "        (emb): Embedding(21488, 400, padding_idx=1)\n",
              "      )\n",
              "      (rnns): ModuleList(\n",
              "        (0): WeightDropout(\n",
              "          (module): LSTM(400, 1152, batch_first=True)\n",
              "        )\n",
              "        (1): WeightDropout(\n",
              "          (module): LSTM(1152, 1152, batch_first=True)\n",
              "        )\n",
              "        (2): WeightDropout(\n",
              "          (module): LSTM(1152, 400, batch_first=True)\n",
              "        )\n",
              "      )\n",
              "      (input_dp): RNNDropout()\n",
              "      (hidden_dps): ModuleList(\n",
              "        (0): RNNDropout()\n",
              "        (1): RNNDropout()\n",
              "        (2): RNNDropout()\n",
              "      )\n",
              "    )\n",
              "  )\n",
              "  (1): PoolingLinearClassifier(\n",
              "    (layers): Sequential(\n",
              "      (0): BatchNorm1d(1200, eps=1e-05, momentum=0.1, affine=True, track_running_stats=True)\n",
              "      (1): Dropout(p=0.2, inplace=False)\n",
              "      (2): Linear(in_features=1200, out_features=50, bias=True)\n",
              "      (3): ReLU(inplace=True)\n",
              "      (4): BatchNorm1d(50, eps=1e-05, momentum=0.1, affine=True, track_running_stats=True)\n",
              "      (5): Dropout(p=0.1, inplace=False)\n",
              "      (6): Linear(in_features=50, out_features=1, bias=True)\n",
              "    )\n",
              "  )\n",
              "), opt_func=functools.partial(<class 'torch.optim.adam.Adam'>, betas=(0.9, 0.99)), loss_func=FlattenedLoss of MSELoss(), metrics=[], true_wd=True, bn_wd=True, wd=0.01, train_bn=True, path=PosixPath('/content/gdrive/My Drive/fastai-v3/kick'), model_dir='models', callback_fns=[functools.partial(<class 'fastai.basic_train.Recorder'>, add_time=True, silent=False)], callbacks=[...], layer_groups=[Sequential(\n",
              "  (0): Embedding(21488, 400, padding_idx=1)\n",
              "  (1): EmbeddingDropout(\n",
              "    (emb): Embedding(21488, 400, padding_idx=1)\n",
              "  )\n",
              "), Sequential(\n",
              "  (0): WeightDropout(\n",
              "    (module): LSTM(400, 1152, batch_first=True)\n",
              "  )\n",
              "  (1): RNNDropout()\n",
              "), Sequential(\n",
              "  (0): WeightDropout(\n",
              "    (module): LSTM(1152, 1152, batch_first=True)\n",
              "  )\n",
              "  (1): RNNDropout()\n",
              "), Sequential(\n",
              "  (0): WeightDropout(\n",
              "    (module): LSTM(1152, 400, batch_first=True)\n",
              "  )\n",
              "  (1): RNNDropout()\n",
              "), Sequential(\n",
              "  (0): PoolingLinearClassifier(\n",
              "    (layers): Sequential(\n",
              "      (0): BatchNorm1d(1200, eps=1e-05, momentum=0.1, affine=True, track_running_stats=True)\n",
              "      (1): Dropout(p=0.2, inplace=False)\n",
              "      (2): Linear(in_features=1200, out_features=50, bias=True)\n",
              "      (3): ReLU(inplace=True)\n",
              "      (4): BatchNorm1d(50, eps=1e-05, momentum=0.1, affine=True, track_running_stats=True)\n",
              "      (5): Dropout(p=0.1, inplace=False)\n",
              "      (6): Linear(in_features=50, out_features=1, bias=True)\n",
              "    )\n",
              "  )\n",
              ")], add_time=True, silent=False)\n",
              "alpha: 2.0\n",
              "beta: 1.0], layer_groups=[Sequential(\n",
              "  (0): Embedding(21488, 400, padding_idx=1)\n",
              "  (1): EmbeddingDropout(\n",
              "    (emb): Embedding(21488, 400, padding_idx=1)\n",
              "  )\n",
              "), Sequential(\n",
              "  (0): WeightDropout(\n",
              "    (module): LSTM(400, 1152, batch_first=True)\n",
              "  )\n",
              "  (1): RNNDropout()\n",
              "), Sequential(\n",
              "  (0): WeightDropout(\n",
              "    (module): LSTM(1152, 1152, batch_first=True)\n",
              "  )\n",
              "  (1): RNNDropout()\n",
              "), Sequential(\n",
              "  (0): WeightDropout(\n",
              "    (module): LSTM(1152, 400, batch_first=True)\n",
              "  )\n",
              "  (1): RNNDropout()\n",
              "), Sequential(\n",
              "  (0): PoolingLinearClassifier(\n",
              "    (layers): Sequential(\n",
              "      (0): BatchNorm1d(1200, eps=1e-05, momentum=0.1, affine=True, track_running_stats=True)\n",
              "      (1): Dropout(p=0.2, inplace=False)\n",
              "      (2): Linear(in_features=1200, out_features=50, bias=True)\n",
              "      (3): ReLU(inplace=True)\n",
              "      (4): BatchNorm1d(50, eps=1e-05, momentum=0.1, affine=True, track_running_stats=True)\n",
              "      (5): Dropout(p=0.1, inplace=False)\n",
              "      (6): Linear(in_features=50, out_features=1, bias=True)\n",
              "    )\n",
              "  )\n",
              ")], add_time=True, silent=False)"
            ]
          },
          "metadata": {
            "tags": []
          },
          "execution_count": 6
        }
      ]
    },
    {
      "cell_type": "code",
      "metadata": {
        "id": "HSyMfUahdf7M",
        "colab_type": "code",
        "outputId": "3a7da5cb-a6d9-44cb-b2e0-00c7e44d8e49",
        "colab": {
          "base_uri": "https://localhost:8080/",
          "height": 144
        }
      },
      "source": [
        "learn_cl.lr_find()"
      ],
      "execution_count": 7,
      "outputs": [
        {
          "output_type": "display_data",
          "data": {
            "text/html": [
              "\n",
              "    <div>\n",
              "        <style>\n",
              "            /* Turns off some styling */\n",
              "            progress {\n",
              "                /* gets rid of default border in Firefox and Opera. */\n",
              "                border: none;\n",
              "                /* Needs to be in here for Safari polyfill so background images work as expected. */\n",
              "                background-size: auto;\n",
              "            }\n",
              "            .progress-bar-interrupted, .progress-bar-interrupted::-webkit-progress-bar {\n",
              "                background: #F44336;\n",
              "            }\n",
              "        </style>\n",
              "      <progress value='1' class='' max='2' style='width:300px; height:20px; vertical-align: middle;'></progress>\n",
              "      50.00% [1/2 02:49<02:49]\n",
              "    </div>\n",
              "    \n",
              "<table border=\"1\" class=\"dataframe\">\n",
              "  <thead>\n",
              "    <tr style=\"text-align: left;\">\n",
              "      <th>epoch</th>\n",
              "      <th>train_loss</th>\n",
              "      <th>valid_loss</th>\n",
              "      <th>time</th>\n",
              "    </tr>\n",
              "  </thead>\n",
              "  <tbody>\n",
              "    <tr>\n",
              "      <td>0</td>\n",
              "      <td>8.312231</td>\n",
              "      <td>#na#</td>\n",
              "      <td>02:49</td>\n",
              "    </tr>\n",
              "  </tbody>\n",
              "</table><p>\n",
              "\n",
              "    <div>\n",
              "        <style>\n",
              "            /* Turns off some styling */\n",
              "            progress {\n",
              "                /* gets rid of default border in Firefox and Opera. */\n",
              "                border: none;\n",
              "                /* Needs to be in here for Safari polyfill so background images work as expected. */\n",
              "                background-size: auto;\n",
              "            }\n",
              "            .progress-bar-interrupted, .progress-bar-interrupted::-webkit-progress-bar {\n",
              "                background: #F44336;\n",
              "            }\n",
              "        </style>\n",
              "      <progress value='9' class='' max='84' style='width:300px; height:20px; vertical-align: middle;'></progress>\n",
              "      10.71% [9/84 00:23<03:15 16.5042]\n",
              "    </div>\n",
              "    "
            ],
            "text/plain": [
              "<IPython.core.display.HTML object>"
            ]
          },
          "metadata": {
            "tags": []
          }
        },
        {
          "output_type": "stream",
          "text": [
            "LR Finder is complete, type {learner_name}.recorder.plot() to see the graph.\n"
          ],
          "name": "stdout"
        }
      ]
    },
    {
      "cell_type": "code",
      "metadata": {
        "id": "3oZexLqvdoxA",
        "colab_type": "code",
        "colab": {
          "base_uri": "https://localhost:8080/",
          "height": 279
        },
        "outputId": "944bc729-3ee3-4802-cd8a-10f24b26dbfb"
      },
      "source": [
        "learn_cl.recorder.plot()"
      ],
      "execution_count": 9,
      "outputs": [
        {
          "output_type": "display_data",
          "data": {
            "image/png": "[encoded data removed]",
            "text/plain": [
              "<Figure size 432x288 with 1 Axes>"
            ]
          },
          "metadata": {
            "tags": [],
            "needs_background": "light"
          }
        }
      ]
    },
    {
      "cell_type": "code",
      "metadata": {
        "id": "ErzGQ26Pf6vv",
        "colab_type": "code",
        "colab": {
          "base_uri": "https://localhost:8080/",
          "height": 81
        },
        "outputId": "ed1c114a-7a47-4ae6-f25d-6fee464a87e5"
      },
      "source": [
        "learn_cl.fit_one_cycle(1, 2e-2, moms=(0.8,0.7))"
      ],
      "execution_count": 10,
      "outputs": [
        {
          "output_type": "display_data",
          "data": {
            "text/html": [
              "<table border=\"1\" class=\"dataframe\">\n",
              "  <thead>\n",
              "    <tr style=\"text-align: left;\">\n",
              "      <th>epoch</th>\n",
              "      <th>train_loss</th>\n",
              "      <th>valid_loss</th>\n",
              "      <th>time</th>\n",
              "    </tr>\n",
              "  </thead>\n",
              "  <tbody>\n",
              "    <tr>\n",
              "      <td>0</td>\n",
              "      <td>3.360734</td>\n",
              "      <td>1.721754</td>\n",
              "      <td>02:51</td>\n",
              "    </tr>\n",
              "  </tbody>\n",
              "</table>"
            ],
            "text/plain": [
              "<IPython.core.display.HTML object>"
            ]
          },
          "metadata": {
            "tags": []
          }
        }
      ]
    },
    {
      "cell_type": "code",
      "metadata": {
        "id": "l_AO80ZPgDsw",
        "colab_type": "code",
        "colab": {}
      },
      "source": [
        "learn_cl.save('first')"
      ],
      "execution_count": 0,
      "outputs": []
    },
    {
      "cell_type": "code",
      "metadata": {
        "id": "vzM9-0-agycq",
        "colab_type": "code",
        "colab": {
          "base_uri": "https://localhost:8080/",
          "height": 81
        },
        "outputId": "5acc4414-2e3a-43d4-e5e3-4e93d1b03c03"
      },
      "source": [
        "learn_cl.freeze_to(-2)\n",
        "learn_cl.fit_one_cycle(1, slice(1e-2/(2.6**4),1e-2), moms=(0.8,0.7))"
      ],
      "execution_count": 12,
      "outputs": [
        {
          "output_type": "display_data",
          "data": {
            "text/html": [
              "<table border=\"1\" class=\"dataframe\">\n",
              "  <thead>\n",
              "    <tr style=\"text-align: left;\">\n",
              "      <th>epoch</th>\n",
              "      <th>train_loss</th>\n",
              "      <th>valid_loss</th>\n",
              "      <th>time</th>\n",
              "    </tr>\n",
              "  </thead>\n",
              "  <tbody>\n",
              "    <tr>\n",
              "      <td>0</td>\n",
              "      <td>1.907608</td>\n",
              "      <td>1.654298</td>\n",
              "      <td>03:05</td>\n",
              "    </tr>\n",
              "  </tbody>\n",
              "</table>"
            ],
            "text/plain": [
              "<IPython.core.display.HTML object>"
            ]
          },
          "metadata": {
            "tags": []
          }
        }
      ]
    },
    {
      "cell_type": "code",
      "metadata": {
        "id": "KAbJnYYPg28t",
        "colab_type": "code",
        "colab": {}
      },
      "source": [
        "learn_cl.save('second')"
      ],
      "execution_count": 0,
      "outputs": []
    },
    {
      "cell_type": "code",
      "metadata": {
        "id": "5QxRdMHHhvfw",
        "colab_type": "code",
        "colab": {
          "base_uri": "https://localhost:8080/",
          "height": 81
        },
        "outputId": "71e34126-464b-41df-a2b0-0a9af4297504"
      },
      "source": [
        "learn_cl.freeze_to(-3)\n",
        "learn_cl.fit_one_cycle(1, slice(5e-3/(2.6**4),5e-3), moms=(0.8,0.7))"
      ],
      "execution_count": 16,
      "outputs": [
        {
          "output_type": "display_data",
          "data": {
            "text/html": [
              "<table border=\"1\" class=\"dataframe\">\n",
              "  <thead>\n",
              "    <tr style=\"text-align: left;\">\n",
              "      <th>epoch</th>\n",
              "      <th>train_loss</th>\n",
              "      <th>valid_loss</th>\n",
              "      <th>time</th>\n",
              "    </tr>\n",
              "  </thead>\n",
              "  <tbody>\n",
              "    <tr>\n",
              "      <td>0</td>\n",
              "      <td>1.582841</td>\n",
              "      <td>1.336562</td>\n",
              "      <td>02:44</td>\n",
              "    </tr>\n",
              "  </tbody>\n",
              "</table>"
            ],
            "text/plain": [
              "<IPython.core.display.HTML object>"
            ]
          },
          "metadata": {
            "tags": []
          }
        }
      ]
    },
    {
      "cell_type": "code",
      "metadata": {
        "id": "2247_yD7h0hq",
        "colab_type": "code",
        "colab": {}
      },
      "source": [
        "learn_cl.save('third')"
      ],
      "execution_count": 0,
      "outputs": []
    },
    {
      "cell_type": "code",
      "metadata": {
        "id": "MMHvdkhiiuho",
        "colab_type": "code",
        "colab": {
          "base_uri": "https://localhost:8080/",
          "height": 112
        },
        "outputId": "bc612812-ec9f-43ec-e06c-d8afd20a7e0e"
      },
      "source": [
        "learn_cl.unfreeze()\n",
        "learn_cl.fit_one_cycle(2, slice(1e-3/(2.6**4),1e-3), moms=(0.8,0.7))"
      ],
      "execution_count": 18,
      "outputs": [
        {
          "output_type": "display_data",
          "data": {
            "text/html": [
              "<table border=\"1\" class=\"dataframe\">\n",
              "  <thead>\n",
              "    <tr style=\"text-align: left;\">\n",
              "      <th>epoch</th>\n",
              "      <th>train_loss</th>\n",
              "      <th>valid_loss</th>\n",
              "      <th>time</th>\n",
              "    </tr>\n",
              "  </thead>\n",
              "  <tbody>\n",
              "    <tr>\n",
              "      <td>0</td>\n",
              "      <td>1.250114</td>\n",
              "      <td>1.173103</td>\n",
              "      <td>03:15</td>\n",
              "    </tr>\n",
              "    <tr>\n",
              "      <td>1</td>\n",
              "      <td>1.174074</td>\n",
              "      <td>1.191620</td>\n",
              "      <td>03:02</td>\n",
              "    </tr>\n",
              "  </tbody>\n",
              "</table>"
            ],
            "text/plain": [
              "<IPython.core.display.HTML object>"
            ]
          },
          "metadata": {
            "tags": []
          }
        }
      ]
    },
    {
      "cell_type": "code",
      "metadata": {
        "id": "hQDv57qOizk6",
        "colab_type": "code",
        "colab": {
          "base_uri": "https://localhost:8080/",
          "height": 34
        },
        "outputId": "f76ae586-9fbb-445e-8d43-6198f415dc6e"
      },
      "source": [
        "learn_cl.predict(\"I really loved that movie, it was awesome!\")\n",
        "# yeah a one liner will not get much pledged."
      ],
      "execution_count": 19,
      "outputs": [
        {
          "output_type": "execute_result",
          "data": {
            "text/plain": [
              "(FloatItem [0.88768], tensor([0.8877]), tensor([0.8877]))"
            ]
          },
          "metadata": {
            "tags": []
          },
          "execution_count": 19
        }
      ]
    },
    {
      "cell_type": "code",
      "metadata": {
        "id": "RQ3Ceru7kUcn",
        "colab_type": "code",
        "colab": {}
      },
      "source": [
        ""
      ],
      "execution_count": 0,
      "outputs": []
    }
  ]
}