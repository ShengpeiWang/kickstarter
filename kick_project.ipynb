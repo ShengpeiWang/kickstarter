{
 "cells": [
  {
   "cell_type": "code",
   "execution_count": 105,
   "metadata": {},
   "outputs": [],
   "source": [
    "# data wraggling functions \n",
    "import pandas as pd\n",
    "import numpy as np\n",
    "from langdetect import detect\n",
    "import time\n",
    "\n",
    "# EDA\n",
    "import matplotlib.pyplot as plt\n",
    "plt.style.use('seaborn-ticks')\n",
    "from matplotlib.pyplot import figure\n",
    "import seaborn as sns\n",
    "\n",
    "# NLP preprocessing functions\n",
    "import re\n",
    "from nltk.corpus import stopwords\n",
    "from nltk.tokenize import word_tokenize\n",
    "from nltk.stem import WordNetLemmatizer\n",
    "wnl = WordNetLemmatizer()\n",
    "\n",
    "# train test split\n",
    "from sklearn.model_selection import train_test_split\n",
    "\n",
    "# feature engineering\n",
    "from sklearn.feature_extraction.text import TfidfVectorizer\n",
    "from sklearn.preprocessing import OneHotEncoder\n",
    "onehot = OneHotEncoder()\n",
    "from scipy.sparse import hstack\n",
    "\n",
    "# modeling functions\n",
    "from sklearn.metrics import r2_score, mean_squared_error\n",
    "from sklearn.gaussian_process import GaussianProcessRegressor\n",
    "from sklearn.linear_model import ElasticNet, Lasso # sparse models\n",
    "from sklearn.svm import LinearSVR\n",
    "from sklearn.linear_model import Ridge # regularization properties\n",
    "from sklearn.kernel_ridge import KernelRidge #\n",
    "\n",
    "# model testing\n",
    "from sklearn.model_selection import cross_validate\n",
    "from sklearn.model_selection import learning_curve\n",
    "\n",
    "import pickle"
   ]
  },
  {
   "cell_type": "markdown",
   "metadata": {},
   "source": [
    "## Load in the merged data"
   ]
  },
  {
   "cell_type": "code",
   "execution_count": 55,
   "metadata": {},
   "outputs": [
    {
     "data": {
      "text/plain": [
       "(2206, 27)"
      ]
     },
     "execution_count": 55,
     "metadata": {},
     "output_type": "execute_result"
    }
   ],
   "source": [
    "project_data_from_sql = pickle.load(open(\"pickle/project_data_complete.pkl\", \"rb\"))\n",
    "project_data_from_sql.shape"
   ]
  },
  {
   "cell_type": "markdown",
   "metadata": {},
   "source": [
    "## Filter out non-english entries and ones without a story"
   ]
  },
  {
   "cell_type": "code",
   "execution_count": 3,
   "metadata": {},
   "outputs": [],
   "source": [
    "# make function to handle exceptions:\n",
    "def trydetect(s):\n",
    "    try:\n",
    "        r = detect(s)\n",
    "    except:\n",
    "        r = \"NA\"\n",
    "    return r"
   ]
  },
  {
   "cell_type": "code",
   "execution_count": 70,
   "metadata": {},
   "outputs": [],
   "source": [
    "# detect the language of the blurb\n",
    "project_data_from_sql['language'] = project_data_from_sql.apply(lambda x: trydetect(x['blurb']), axis=1)\n",
    "# decide if a proposals really has a story section, some had them in pictures thus not in my data\n",
    "project_data_from_sql['keep_story'] = project_data_from_sql.apply(lambda x: \n",
    "                                                                  len(x['story']) > len(x['blurb']), axis=1)"
   ]
  },
  {
   "cell_type": "code",
   "execution_count": 72,
   "metadata": {},
   "outputs": [
    {
     "data": {
      "text/plain": [
       "(2108, 30)"
      ]
     },
     "execution_count": 72,
     "metadata": {},
     "output_type": "execute_result"
    }
   ],
   "source": [
    "# filter out non-english entries and entries without much stories\n",
    "data_project = project_data_from_sql[(project_data_from_sql.keep_story == 1) & \n",
    "                                     (project_data_from_sql.language == \"en\")].reset_index()\n",
    "data_project.shape"
   ]
  },
  {
   "cell_type": "markdown",
   "metadata": {},
   "source": [
    "## Add text length features for title and blurb"
   ]
  },
  {
   "cell_type": "code",
   "execution_count": 73,
   "metadata": {},
   "outputs": [],
   "source": [
    "# word count and length in title and blurb\n",
    "data_project['title_words'] = data_project['project_name'].str.split().str.len()\n",
    "data_project['title_l'] = data_project['project_name'].str.len()\n",
    "data_project['blurb_words'] = data_project['blurb'].str.split().str.len()\n",
    "data_project['blurb_l'] = data_project['blurb'].str.len()"
   ]
  },
  {
   "cell_type": "markdown",
   "metadata": {},
   "source": [
    "## Preprocess text information"
   ]
  },
  {
   "cell_type": "code",
   "execution_count": 8,
   "metadata": {},
   "outputs": [],
   "source": [
    "# define function to lemmatize long-form text\n",
    "def lemmatizer(sentence):\n",
    "    token_words = word_tokenize(sentence)\n",
    "    lem_sentence=[]\n",
    "    for word in token_words:\n",
    "        lemma = wnl.lemmatize(word)\n",
    "        lem_sentence.append(lemma)\n",
    "        lem_sentence.append(\" \")\n",
    "    return \"\".join(lem_sentence)\n",
    "\n",
    "# make preprocessing pipeline:\n",
    "pattern = re.compile(r'\\b(' + r'|'.join(stopwords.words('english')) + r')\\b\\s*')\n",
    "\n",
    "def preproc(text):\n",
    "    l = re.sub(r'http\\S+',' ', text) # remove links\n",
    "    n = re.sub(r'[0-9]+', ' ', l) # remove numbers\n",
    "    s = re.sub(r'[^\\w]',' ', n)  # remove symbols\n",
    "    w = pattern.sub('', s) # remove stopwords\n",
    "    p = lemmatizer(w) # lemmatize all words\n",
    "    return p"
   ]
  },
  {
   "cell_type": "code",
   "execution_count": 74,
   "metadata": {},
   "outputs": [],
   "source": [
    "# combine the apply the preprocessing pipeline to all available data\n",
    "data_project['story_tb'] = data_project[\"project_name\"].map(str) + data_project[\"blurb\"].map(str) +data_project[\"story\"].map(str)\n",
    "data_project['story_p'] = data_project.apply(lambda x: preproc(x['story_tb']), axis=1)\n",
    "# add total text length\n",
    "data_project['total_words'] = data_project['story_p'].str.split().str.len()"
   ]
  },
  {
   "cell_type": "markdown",
   "metadata": {},
   "source": [
    "## EDA on response variables"
   ]
  },
  {
   "cell_type": "code",
   "execution_count": 75,
   "metadata": {},
   "outputs": [
    {
     "data": {
      "text/plain": [
       "0.5412713472485768"
      ]
     },
     "execution_count": 75,
     "metadata": {},
     "output_type": "execute_result"
    }
   ],
   "source": [
    "# check the balance between projects that succeed vs fail\n",
    "data_project['state_b'] = data_project.apply(lambda x: x['state'] == 'successful', axis=1)\n",
    "data_project['state_b'].sum()/len(data_project['state_b'])\n",
    "# the data is quite balanced"
   ]
  },
  {
   "cell_type": "code",
   "execution_count": 76,
   "metadata": {},
   "outputs": [],
   "source": [
    "# add log-transformed version of some variables that are highly skewed\n",
    "\n",
    "data_project['l_goal'] = np.log10(data_project['goal_usd'] + 1)\n",
    "data_project['l_pledge'] = np.log10(data_project['pledge_usd'] + 1)\n",
    "data_project['l_percent'] = np.log10(data_project['percent']*100+1)\n",
    "data_project['l_backers'] = np.log10(data_project['backers']+ 1)"
   ]
  },
  {
   "cell_type": "code",
   "execution_count": 20,
   "metadata": {},
   "outputs": [
    {
     "data": {
      "text/plain": [
       "<function matplotlib.pyplot.show(*args, **kw)>"
      ]
     },
     "execution_count": 20,
     "metadata": {},
     "output_type": "execute_result"
    },
    {
     "data": {
      "image/png": "[encoded data removed]",
      "text/plain": [
       "<Figure size 720x216 with 3 Axes>"
      ]
     },
     "metadata": {},
     "output_type": "display_data"
    }
   ],
   "source": [
    "# look at the distribution of goal and pledg amounts\n",
    "plt.figure(figsize=(10,3))\n",
    "\n",
    "plt.subplot(1, 3, 1)\n",
    "np.log10(data_project['l_goal'] + 1).hist(bins = 30)\n",
    "plt.title('goal amount log10')\n",
    "\n",
    "plt.subplot(1, 3, 2)\n",
    "np.log10(data_project['l_pledge'] + 1).hist(bins = 30)\n",
    "plt.title('pledge amount log10')\n",
    "\n",
    "plt.subplot(1, 3, 3)\n",
    "plt.scatter(data_project['l_goal'], data_project['l_pledge'], s = 2)\n",
    "plt.title('pledge vs goal')\n",
    "\n",
    "plt.show\n",
    "# both variables are fairly normally distributed after log transformation\n",
    "# there are three distinct groups of projects: no pledge, some pledge, success"
   ]
  },
  {
   "cell_type": "code",
   "execution_count": 21,
   "metadata": {},
   "outputs": [
    {
     "data": {
      "image/png": "[encoded data removed]",
      "text/plain": [
       "<Figure size 576x216 with 2 Axes>"
      ]
     },
     "metadata": {},
     "output_type": "display_data"
    }
   ],
   "source": [
    "plt.figure(figsize=(8,3))\n",
    "\n",
    "plt.subplot(1, 2, 1)\n",
    "np.log10(data_project['percent']*100+1).hist(bins = 50)\n",
    "plt.title('distribution of percent goal reached')\n",
    "\n",
    "plt.subplot(1, 2, 2)\n",
    "plt.hist(data_project['percent']*100, bins = [0, 1, 100, 120, 30000])\n",
    "plt.xscale('log')\n",
    "plt.title('disctribution of binned percent')\n",
    "\n",
    "plt.show()\n",
    "# again large numbers of projects raise almost no money or about what they ask for\n",
    "# in light of this and the previous figure, \n",
    "# I will engineer categories that contain projects that:\n",
    "# raise almost none, some, 100%, and better than expected"
   ]
  },
  {
   "cell_type": "code",
   "execution_count": 77,
   "metadata": {},
   "outputs": [
    {
     "data": {
      "image/png": "[encoded data removed]",
      "text/plain": [
       "<Figure size 360x288 with 1 Axes>"
      ]
     },
     "metadata": {},
     "output_type": "display_data"
    }
   ],
   "source": [
    "# based on the figures, engineered categories that contain projects that:\n",
    "# raise almost none, some, 100%, and better than expected\n",
    "max_bin = max(data_project['percent']*100)+1\n",
    "data_project['performance'] = pd.cut(data_project['percent']*100,\n",
    "                                 bins = [0, 1, 100, 120, max_bin], \n",
    "                                 labels = [\"fail\", \"some\", \"goal\", \"great\"],\n",
    "                                 right = False)\n",
    "data_project['performance_n'] = pd.cut(data_project['percent']*100,\n",
    "                                 bins = [0, 1, 100, 120, max_bin], \n",
    "                                 labels = [0,1,2,3],\n",
    "                                 right = False)\n",
    "# plot the distribution of the engineered feature:\n",
    "data_project[['index','performance']].groupby('performance').count().plot.bar(legend = False, \n",
    "                                                                              figsize = (5,4), \n",
    "                                                                              rot=0,\n",
    "                                                                             color = 'dodgerblue')\n",
    "plt.xlabel(\"Performance\")\n",
    "plt.show()\n",
    "# the categores are pretty even"
   ]
  },
  {
   "cell_type": "markdown",
   "metadata": {},
   "source": [
    "## EDA on predictor variables"
   ]
  },
  {
   "cell_type": "code",
   "execution_count": 24,
   "metadata": {},
   "outputs": [
    {
     "data": {
      "text/html": [
       "<div>\n",
       "<style scoped>\n",
       "    .dataframe tbody tr th:only-of-type {\n",
       "        vertical-align: middle;\n",
       "    }\n",
       "\n",
       "    .dataframe tbody tr th {\n",
       "        vertical-align: top;\n",
       "    }\n",
       "\n",
       "    .dataframe thead th {\n",
       "        text-align: right;\n",
       "    }\n",
       "</style>\n",
       "<table border=\"1\" class=\"dataframe\">\n",
       "  <thead>\n",
       "    <tr style=\"text-align: right;\">\n",
       "      <th></th>\n",
       "      <th>index</th>\n",
       "      <th>project_id</th>\n",
       "      <th>project_id</th>\n",
       "      <th>goal</th>\n",
       "      <th>pledge</th>\n",
       "      <th>deadline</th>\n",
       "      <th>create</th>\n",
       "      <th>launch</th>\n",
       "      <th>staff_pick</th>\n",
       "      <th>backers</th>\n",
       "      <th>...</th>\n",
       "      <th>title_words</th>\n",
       "      <th>title_l</th>\n",
       "      <th>blurb_words</th>\n",
       "      <th>blurb_l</th>\n",
       "      <th>total_words</th>\n",
       "      <th>state_b</th>\n",
       "      <th>l_goal</th>\n",
       "      <th>l_pledge</th>\n",
       "      <th>l_percent</th>\n",
       "      <th>l_backers</th>\n",
       "    </tr>\n",
       "    <tr>\n",
       "      <th>performance</th>\n",
       "      <th></th>\n",
       "      <th></th>\n",
       "      <th></th>\n",
       "      <th></th>\n",
       "      <th></th>\n",
       "      <th></th>\n",
       "      <th></th>\n",
       "      <th></th>\n",
       "      <th></th>\n",
       "      <th></th>\n",
       "      <th></th>\n",
       "      <th></th>\n",
       "      <th></th>\n",
       "      <th></th>\n",
       "      <th></th>\n",
       "      <th></th>\n",
       "      <th></th>\n",
       "      <th></th>\n",
       "      <th></th>\n",
       "      <th></th>\n",
       "      <th></th>\n",
       "    </tr>\n",
       "  </thead>\n",
       "  <tbody>\n",
       "    <tr>\n",
       "      <th>fail</th>\n",
       "      <td>1177.235656</td>\n",
       "      <td>1.050628e+09</td>\n",
       "      <td>1.050628e+09</td>\n",
       "      <td>272111.389344</td>\n",
       "      <td>50.423258</td>\n",
       "      <td>1.467783e+09</td>\n",
       "      <td>1.461738e+09</td>\n",
       "      <td>1.464615e+09</td>\n",
       "      <td>0.002049</td>\n",
       "      <td>1.528689</td>\n",
       "      <td>...</td>\n",
       "      <td>4.997951</td>\n",
       "      <td>31.057377</td>\n",
       "      <td>18.885246</td>\n",
       "      <td>111.303279</td>\n",
       "      <td>211.323770</td>\n",
       "      <td>0.0</td>\n",
       "      <td>4.079994</td>\n",
       "      <td>0.739659</td>\n",
       "      <td>0.048871</td>\n",
       "      <td>0.303922</td>\n",
       "    </tr>\n",
       "    <tr>\n",
       "      <th>some</th>\n",
       "      <td>1178.108559</td>\n",
       "      <td>1.057407e+09</td>\n",
       "      <td>1.057407e+09</td>\n",
       "      <td>39671.601253</td>\n",
       "      <td>4306.663862</td>\n",
       "      <td>1.470342e+09</td>\n",
       "      <td>1.463211e+09</td>\n",
       "      <td>1.467347e+09</td>\n",
       "      <td>0.062630</td>\n",
       "      <td>27.450939</td>\n",
       "      <td>...</td>\n",
       "      <td>5.845511</td>\n",
       "      <td>35.743215</td>\n",
       "      <td>18.876827</td>\n",
       "      <td>112.457203</td>\n",
       "      <td>312.463466</td>\n",
       "      <td>0.0</td>\n",
       "      <td>3.787484</td>\n",
       "      <td>2.733764</td>\n",
       "      <td>1.021832</td>\n",
       "      <td>1.115506</td>\n",
       "    </tr>\n",
       "    <tr>\n",
       "      <th>goal</th>\n",
       "      <td>1037.562030</td>\n",
       "      <td>1.057030e+09</td>\n",
       "      <td>1.057030e+09</td>\n",
       "      <td>12849.736842</td>\n",
       "      <td>13761.047387</td>\n",
       "      <td>1.469310e+09</td>\n",
       "      <td>1.462616e+09</td>\n",
       "      <td>1.466537e+09</td>\n",
       "      <td>0.172932</td>\n",
       "      <td>105.686090</td>\n",
       "      <td>...</td>\n",
       "      <td>5.746241</td>\n",
       "      <td>34.575188</td>\n",
       "      <td>18.665414</td>\n",
       "      <td>110.481203</td>\n",
       "      <td>369.526316</td>\n",
       "      <td>1.0</td>\n",
       "      <td>3.628372</td>\n",
       "      <td>3.655300</td>\n",
       "      <td>2.031010</td>\n",
       "      <td>1.774201</td>\n",
       "    </tr>\n",
       "    <tr>\n",
       "      <th>great</th>\n",
       "      <td>1035.769357</td>\n",
       "      <td>1.101554e+09</td>\n",
       "      <td>1.101554e+09</td>\n",
       "      <td>10750.578254</td>\n",
       "      <td>44684.329786</td>\n",
       "      <td>1.495154e+09</td>\n",
       "      <td>1.488438e+09</td>\n",
       "      <td>1.492599e+09</td>\n",
       "      <td>0.168040</td>\n",
       "      <td>307.581549</td>\n",
       "      <td>...</td>\n",
       "      <td>6.431631</td>\n",
       "      <td>38.948929</td>\n",
       "      <td>17.881384</td>\n",
       "      <td>107.591433</td>\n",
       "      <td>439.574959</td>\n",
       "      <td>1.0</td>\n",
       "      <td>3.286172</td>\n",
       "      <td>3.731723</td>\n",
       "      <td>2.450921</td>\n",
       "      <td>2.025629</td>\n",
       "    </tr>\n",
       "  </tbody>\n",
       "</table>\n",
       "<p>4 rows × 30 columns</p>\n",
       "</div>"
      ],
      "text/plain": [
       "                   index    project_id    project_id           goal  \\\n",
       "performance                                                           \n",
       "fail         1177.235656  1.050628e+09  1.050628e+09  272111.389344   \n",
       "some         1178.108559  1.057407e+09  1.057407e+09   39671.601253   \n",
       "goal         1037.562030  1.057030e+09  1.057030e+09   12849.736842   \n",
       "great        1035.769357  1.101554e+09  1.101554e+09   10750.578254   \n",
       "\n",
       "                   pledge      deadline        create        launch  \\\n",
       "performance                                                           \n",
       "fail            50.423258  1.467783e+09  1.461738e+09  1.464615e+09   \n",
       "some          4306.663862  1.470342e+09  1.463211e+09  1.467347e+09   \n",
       "goal         13761.047387  1.469310e+09  1.462616e+09  1.466537e+09   \n",
       "great        44684.329786  1.495154e+09  1.488438e+09  1.492599e+09   \n",
       "\n",
       "             staff_pick     backers  ...  title_words    title_l  blurb_words  \\\n",
       "performance                          ...                                        \n",
       "fail           0.002049    1.528689  ...     4.997951  31.057377    18.885246   \n",
       "some           0.062630   27.450939  ...     5.845511  35.743215    18.876827   \n",
       "goal           0.172932  105.686090  ...     5.746241  34.575188    18.665414   \n",
       "great          0.168040  307.581549  ...     6.431631  38.948929    17.881384   \n",
       "\n",
       "                blurb_l  total_words  state_b    l_goal  l_pledge  l_percent  \\\n",
       "performance                                                                    \n",
       "fail         111.303279   211.323770      0.0  4.079994  0.739659   0.048871   \n",
       "some         112.457203   312.463466      0.0  3.787484  2.733764   1.021832   \n",
       "goal         110.481203   369.526316      1.0  3.628372  3.655300   2.031010   \n",
       "great        107.591433   439.574959      1.0  3.286172  3.731723   2.450921   \n",
       "\n",
       "             l_backers  \n",
       "performance             \n",
       "fail          0.303922  \n",
       "some          1.115506  \n",
       "goal          1.774201  \n",
       "great         2.025629  \n",
       "\n",
       "[4 rows x 30 columns]"
      ]
     },
     "execution_count": 24,
     "metadata": {},
     "output_type": "execute_result"
    }
   ],
   "source": [
    "data_project.groupby('performance').mean()\n",
    "# longer title and total length are important\n",
    "# blurb length is not"
   ]
  },
  {
   "cell_type": "code",
   "execution_count": 25,
   "metadata": {},
   "outputs": [
    {
     "data": {
      "image/png": "[encoded data removed]",
      "text/plain": [
       "<Figure size 432x288 with 2 Axes>"
      ]
     },
     "metadata": {},
     "output_type": "display_data"
    }
   ],
   "source": [
    "# check the correlations among the length features:\n",
    "corr = data_project[['title_l', 'title_words','blurb_l', 'blurb_words', 'total_words', \"l_pledge\"]].corr()\n",
    "ax = sns.heatmap(corr, annot = True)\n",
    "# really high correlation within categories, especially total words and total_l\n",
    "# thus will only use total_words and title_length"
   ]
  },
  {
   "cell_type": "code",
   "execution_count": 39,
   "metadata": {},
   "outputs": [
    {
     "data": {
      "text/plain": [
       "<function matplotlib.pyplot.show(*args, **kw)>"
      ]
     },
     "execution_count": 39,
     "metadata": {},
     "output_type": "execute_result"
    },
    {
     "data": {
      "image/png": "[encoded data removed]",
      "text/plain": [
       "<Figure size 576x288 with 2 Axes>"
      ]
     },
     "metadata": {},
     "output_type": "display_data"
    }
   ],
   "source": [
    "# plot the effects of categories on both goal and pledge amounts\n",
    "category_list = data_project[['name_parent','l_pledge']].\\\n",
    "  groupby(['name_parent']).median().sort_values('l_pledge').index\n",
    "\n",
    "cat_type = pd.CategoricalDtype(categories=category_list, ordered=True)\n",
    "\n",
    "data_category_pledge = data_project[['name_parent','l_goal','l_pledge']].astype({'name_parent': cat_type})\n",
    "#data_category_pledge['cat'] = data_category_pledge['name_parent'].astype(cat_type)\n",
    "\n",
    "plt.style.use('grayscale')\n",
    "plt.rcParams['axes.facecolor'] = 'white'\n",
    "plt.rcParams['figure.facecolor'] = 'white'\n",
    "data_category_pledge.boxplot(column = ['l_goal', 'l_pledge'],\n",
    "                             by = 'name_parent',\n",
    "                             grid = False,\n",
    "                             return_type = 'dict',\n",
    "                             vert=False,\n",
    "                             boxprops= dict(linewidth=1.0, color='black'),\n",
    "                             figsize=(8,4))\n",
    "plt.tick_params(axis='x', colors='black')\n",
    "plt.show\n",
    "\n",
    "# variation in both goal and pledge amounts across categories"
   ]
  },
  {
   "cell_type": "markdown",
   "metadata": {},
   "source": [
    "# Train-test-validation split"
   ]
  },
  {
   "cell_type": "code",
   "execution_count": 91,
   "metadata": {},
   "outputs": [],
   "source": [
    "data_project_c = data_project.sample(frac=1, random_state = 89).reset_index(drop=True)\n",
    "data_y = data_project_c[['performance', 'performance_n', 'state_b', 'l_pledge']]\n",
    "data_x = data_project_c[['name_parent', 'goal_usd', 'story_p', 'title_l', 'total_words']]\n",
    "# name_parent is the name of the main category\n",
    "\n",
    "X_train, X_test, Y_train, Y_test = train_test_split(data_x, data_y, test_size = 0.20, random_state = 61, stratify = data_x[['name_parent']])\n",
    "\n",
    "x_train, x_val, y_train, y_val = train_test_split(X_train, Y_train, test_size = 0.20, random_state = 59, stratify = X_train[['name_parent']])"
   ]
  },
  {
   "cell_type": "markdown",
   "metadata": {},
   "source": [
    "## Tf-idf"
   ]
  },
  {
   "cell_type": "code",
   "execution_count": 92,
   "metadata": {},
   "outputs": [
    {
     "data": {
      "text/plain": [
       "(1348, 38509)"
      ]
     },
     "execution_count": 92,
     "metadata": {},
     "output_type": "execute_result"
    }
   ],
   "source": [
    "tfidf = TfidfVectorizer()\n",
    "# note the default normalizes the output matrix\n",
    "tfidf_m = tfidf.fit_transform(x_train['story_p'])\n",
    "tfidf_val = tfidf.transform(x_val['story_p'])\n",
    "\n",
    "tfidf_m.shape"
   ]
  },
  {
   "cell_type": "markdown",
   "metadata": {},
   "source": [
    "## Combine all project information"
   ]
  },
  {
   "cell_type": "code",
   "execution_count": 93,
   "metadata": {},
   "outputs": [],
   "source": [
    "# add category information\n",
    "encoder = onehot.fit_transform(x_train[['name_parent']])\n",
    "encoded_val = onehot.transform(x_val[['name_parent']])\n",
    "\n",
    "# combine different feature data\n",
    "x_train_info = x_train[['goal_usd', 'title_l', 'total_words']]\n",
    "x_train_sparse = hstack([tfidf_m, encoder]).toarray()\n",
    "x_train_full = np.concatenate((x_train_info, x_train_sparse), axis= 1)\n",
    "\n",
    "x_val_info = x_val[['goal_usd', 'title_l', 'total_words']]\n",
    "x_val_sparse = hstack([tfidf_val, encoded_val]).toarray()\n",
    "x_val_full = np.concatenate((x_val_info, x_val_sparse), axis= 1)"
   ]
  },
  {
   "cell_type": "markdown",
   "metadata": {},
   "source": [
    "# Test different models"
   ]
  },
  {
   "cell_type": "code",
   "execution_count": 86,
   "metadata": {},
   "outputs": [],
   "source": [
    "# make function to display r2 and mse easily:\n",
    "def display_score(y_true, y_predict):\n",
    "    print(\"r2:\",round(r2_score(y_true,y_predict), 3),\n",
    "          \"mse:\",round(mean_squared_error(y_true,y_predict), 3))"
   ]
  },
  {
   "cell_type": "code",
   "execution_count": null,
   "metadata": {},
   "outputs": [],
   "source": [
    "# this is my baseline model\n",
    "r_gcr = GaussianProcessRegressor()\n",
    "r_gcr.fit(x_train_full, y_train['l_pledge'])\n",
    "r_gcr_predict = r_gcr.predict(x_val_full)\n",
    "display_score(y_val['l_pledge'], r_gcr_predict)\n",
    "# Gaussian Process does worse than random"
   ]
  },
  {
   "cell_type": "code",
   "execution_count": 108,
   "metadata": {},
   "outputs": [
    {
     "name": "stdout",
     "output_type": "stream",
     "text": [
      "0.217 1.573\n"
     ]
    }
   ],
   "source": [
    "r_ls = Lasso()\n",
    "r_ls.fit(x_train_full, y_train['l_pledge'])\n",
    "r_ls_predict = r_ls.predict(x_val_full)\n",
    "display_score(y_val['l_pledge'], r_ls_predict) \n",
    "# performs ok"
   ]
  },
  {
   "cell_type": "code",
   "execution_count": 109,
   "metadata": {},
   "outputs": [
    {
     "name": "stdout",
     "output_type": "stream",
     "text": [
      "0.219 1.568\n"
     ]
    }
   ],
   "source": [
    "# elastic net model for sparse model with regularization\n",
    "r_en = ElasticNet()\n",
    "r_en.fit(x_train_full, y_train['l_pledge'])\n",
    "r_en_predict = r_en.predict(x_val_full)\n",
    "display_score(y_val['l_pledge'], r_en_predict) \n",
    "# performs similarly to lasso"
   ]
  },
  {
   "cell_type": "code",
   "execution_count": null,
   "metadata": {},
   "outputs": [],
   "source": [
    "r_svr = LinearSVR()\n",
    "r_svr.fit(x_train_full, y_train['l_pledge'])\n",
    "r_svr_predict = r_svr.predict(x_val_full)\n",
    "display_score(y_val['l_pledge'], r_svr_predict) \n",
    "# failed to converge"
   ]
  },
  {
   "cell_type": "code",
   "execution_count": 94,
   "metadata": {},
   "outputs": [
    {
     "name": "stdout",
     "output_type": "stream",
     "text": [
      "r2: 0.373 mse: 1.271\n"
     ]
    },
    {
     "name": "stderr",
     "output_type": "stream",
     "text": [
      "/home/sheng/anaconda3/envs/insight/lib/python3.8/site-packages/sklearn/linear_model/_ridge.py:187: LinAlgWarning: Ill-conditioned matrix (rcond=1.17728e-17): result may not be accurate.\n",
      "  dual_coef = linalg.solve(K, y, sym_pos=True,\n"
     ]
    }
   ],
   "source": [
    "# ridge model\n",
    "ridge = Ridge()\n",
    "ridge.fit(x_train_full, y_train['l_pledge'])\n",
    "ridge_predict = ridge.predict(x_val_full)\n",
    "display_score(y_val['l_pledge'], ridge_predict) \n",
    "# performs okay:"
   ]
  },
  {
   "cell_type": "code",
   "execution_count": 97,
   "metadata": {},
   "outputs": [
    {
     "name": "stderr",
     "output_type": "stream",
     "text": [
      "/home/sheng/anaconda3/envs/insight/lib/python3.8/site-packages/sklearn/linear_model/_ridge.py:187: LinAlgWarning: Ill-conditioned matrix (rcond=1.90971e-17): result may not be accurate.\n",
      "  dual_coef = linalg.solve(K, y, sym_pos=True,\n"
     ]
    },
    {
     "name": "stdout",
     "output_type": "stream",
     "text": [
      "r2: 0.363 mse: 1.29\n"
     ]
    }
   ],
   "source": [
    "r_kridge = KernelRidge()\n",
    "r_kridge.fit(x_train_full, y_train['l_pledge'])\n",
    "r_kridge_predict = r_kridge.predict(x_val_full)\n",
    "display_score(y_val['l_pledge'], r_kridge_predict) \n",
    "# performs similarly to ridge, maybe a little bit worse"
   ]
  },
  {
   "cell_type": "markdown",
   "metadata": {},
   "source": [
    "## Dive more into the ridge model:"
   ]
  },
  {
   "cell_type": "markdown",
   "metadata": {},
   "source": [
    "## feature selection"
   ]
  },
  {
   "cell_type": "code",
   "execution_count": 39,
   "metadata": {},
   "outputs": [
    {
     "name": "stdout",
     "output_type": "stream",
     "text": [
      "r2: 0.205 mse: 1.562\n"
     ]
    }
   ],
   "source": [
    "from sklearn.pipeline import Pipeline\n",
    "from sklearn.feature_selection import SelectKBest\n",
    "from sklearn.feature_selection import chi2\n",
    "\n",
    "# make pipeline\n",
    "pipe_fs = Pipeline([('fs', SelectKBest(chi2, k = 2000)), ('ridge', Ridge())])\n",
    "\n",
    "# train model\n",
    "pipe_fs.fit(x_train_full, y_train['l_pledge'].astype('int'))\n",
    "\n",
    "# test model performance\n",
    "pipe_fs_predict = pipe_fs.predict(x_val_full)\n",
    "display_score(y_val['l_pledge'], pipe_fs_predict) \n",
    "\n",
    "# feature selection doesn't do a good job selecting the useful features"
   ]
  },
  {
   "cell_type": "markdown",
   "metadata": {},
   "source": [
    "## Reduce feature number throgh tf-idf"
   ]
  },
  {
   "cell_type": "code",
   "execution_count": 98,
   "metadata": {},
   "outputs": [
    {
     "name": "stdout",
     "output_type": "stream",
     "text": [
      "r2: 0.369 mse: 1.277\n"
     ]
    }
   ],
   "source": [
    "tfidf_r = TfidfVectorizer(max_features = 1500)\n",
    "# note the default normalizes the output matrix\n",
    "tfidf_m_r = tfidf_r.fit_transform(x_train['story_p'])\n",
    "tfidf_val_r = tfidf_r.transform(x_val['story_p'])\n",
    "\n",
    "x_train_info = x_train[['title_l', 'total_words']]\n",
    "x_train_sparse_r = hstack([tfidf_m_r, encoder]).toarray()\n",
    "x_train_full_r = np.concatenate((x_train_sparse_r, x_train_info), axis= 1)\n",
    "\n",
    "x_val_info = x_val[['title_l', 'total_words']]\n",
    "x_val_sparse_r = hstack([tfidf_val_r, encoded_val]).toarray()\n",
    "x_val_full_r = np.concatenate((x_val_sparse_r, x_val_info), axis= 1)\n",
    "\n",
    "ridge_r = Ridge()\n",
    "ridge_r.fit(x_train_full_r, y_train['l_pledge'])\n",
    "ridge_r_predict = ridge_r.predict(x_val_full_r)\n",
    "display_score(y_val['l_pledge'], ridge_r_predict) "
   ]
  },
  {
   "cell_type": "markdown",
   "metadata": {},
   "source": [
    "## Tuning the regularization term"
   ]
  },
  {
   "cell_type": "code",
   "execution_count": 100,
   "metadata": {},
   "outputs": [
    {
     "name": "stdout",
     "output_type": "stream",
     "text": [
      "r2: 0.361 mse: 1.294\n"
     ]
    }
   ],
   "source": [
    "ridge_a = Ridge(alpha = 0.8)\n",
    "ridge_a.fit(x_train_full_r, y_train['l_pledge'])\n",
    "ridge_a_predict = ridge_a.predict(x_val_full_r)\n",
    "display_score(y_val['l_pledge'], ridge_a_predict) \n",
    "# reducing alpha value does not improve model performance\n",
    "# r2: 0.349 mse: 1.308"
   ]
  },
  {
   "cell_type": "markdown",
   "metadata": {},
   "source": [
    "## Try bagging"
   ]
  },
  {
   "cell_type": "code",
   "execution_count": 91,
   "metadata": {},
   "outputs": [
    {
     "name": "stdout",
     "output_type": "stream",
     "text": [
      "0.4485397312060436 1.1482115164341817\n"
     ]
    }
   ],
   "source": [
    "from sklearn.ensemble import BaggingRegressor\n",
    "regr = BaggingRegressor(base_estimator = Ridge(), n_estimators=10).fit(x_train_full_r, y_train['l_pledge'])\n",
    "regr_predict = regr.predict(x_val_full_r)\n",
    "print(r2_score(y_val['l_pledge'], regr_predict ), mean_squared_error(y_val['l_pledge'], regr_predict ))\n",
    "# bagging did not improve model performance: 0.3675219898705723 1.2599573398166986"
   ]
  },
  {
   "cell_type": "markdown",
   "metadata": {},
   "source": [
    "## Try modeling whether a project fails completely and pledge together"
   ]
  },
  {
   "cell_type": "code",
   "execution_count": 115,
   "metadata": {},
   "outputs": [
    {
     "name": "stderr",
     "output_type": "stream",
     "text": [
      "/home/sheng/anaconda3/envs/insight/lib/python3.8/site-packages/sklearn/linear_model/_ridge.py:187: LinAlgWarning: Ill-conditioned matrix (rcond=6.09669e-18): result may not be accurate.\n",
      "  dual_coef = linalg.solve(K, y, sym_pos=True,\n"
     ]
    }
   ],
   "source": [
    "rm_ridge = Ridge()\n",
    "rm_ridge.fit(x_train_full_r, y_train[['state_b','l_pledge']])\n",
    "rm_ridge_predict = rm_ridge.predict(x_val_full_r)\n",
    "print(r2_score(y_val[['state_b', 'l_pledge']], rm_ridge_predict ), \n",
    "      mean_squared_error(y_val[['state_b', 'l_pledge']], rm_ridge_predict ))"
   ]
  },
  {
   "cell_type": "markdown",
   "metadata": {},
   "source": [
    "## Try adding LDA categories"
   ]
  },
  {
   "cell_type": "code",
   "execution_count": 54,
   "metadata": {},
   "outputs": [
    {
     "data": {
      "text/plain": [
       "473     [mijn, cijfer, inzicht, mijn, cijfer, inzicht,...\n",
       "307     [thinkin, real, hard, original, song, recordin...\n",
       "2046    [reboot, annual, arts, festivalour, annual, pe...\n",
       "1086    [aedran, apparel, aedran, apparel, brand, spec...\n",
       "16      [seaside, eddy, getting, wheel, road, ellis, t...\n",
       "1279    [funding, boomboxx, releasewe, releasing, boom...\n",
       "388     [chef, corner, magazine, print, issue, publish...\n",
       "1625    [catbeard, pirate, book, five, poopdecks, pawp...\n",
       "1639    [maternity, shorts, active, womenlook, great, ...\n",
       "1971    [rate, rate, reviewsocial, network, rate, peop...\n",
       "Name: story_p, dtype: object"
      ]
     },
     "execution_count": 54,
     "metadata": {},
     "output_type": "execute_result"
    }
   ],
   "source": [
    "import gensim\n",
    "def preprocess(text):\n",
    "    result = []\n",
    "    for token in gensim.utils.simple_preprocess(text):\n",
    "        if len(token) > 3:\n",
    "            result.append(token)\n",
    "    return result\n",
    "processed_docs = x_train['story_p'].map(preprocess)\n",
    "processed_docs[:10]"
   ]
  },
  {
   "cell_type": "code",
   "execution_count": 63,
   "metadata": {},
   "outputs": [],
   "source": [
    "from gensim.corpora.dictionary import Dictionary\n",
    "from gensim.models import LdaMulticore\n",
    "\n",
    "dictionary = gensim.corpora.Dictionary(processed_docs)\n",
    "\n",
    "# Create a corpus from a list of texts\n",
    "lda_corpus = [dictionary.doc2bow(doc) for doc in processed_docs]\n",
    "\n",
    "# Train the model on the corpus.\n",
    "lda_model = LdaMulticore(lda_corpus, num_topics=20, id2word=dictionary, passes=2, workers=2)"
   ]
  },
  {
   "cell_type": "code",
   "execution_count": null,
   "metadata": {},
   "outputs": [],
   "source": [
    "for idx, topic in lda_model.print_topics(-1):\n",
    "    print('Topic: {} \\nWords: {}'.format(idx, topic))\n",
    "# no clear topics, I think the category information is more informative"
   ]
  },
  {
   "cell_type": "markdown",
   "metadata": {},
   "source": [
    "## Try using bigrams"
   ]
  },
  {
   "cell_type": "code",
   "execution_count": 76,
   "metadata": {},
   "outputs": [
    {
     "name": "stdout",
     "output_type": "stream",
     "text": [
      "r2: 0.256 mse: 1.46\n"
     ]
    }
   ],
   "source": [
    "tfidf_b = TfidfVectorizer(max_features = 1500, ngram_range = (2,2))\n",
    "# note the default normalizes the output matrix\n",
    "tfidf_m_b = tfidf_b.fit_transform(x_train['story_p'])\n",
    "tfidf_val_b = tfidf_b.transform(x_val['story_p'])\n",
    "\n",
    "x_train_info = x_train[['title_l', 'total_words']]\n",
    "x_train_sparse_br = hstack([tfidf_m_b, encoder]).toarray()\n",
    "x_train_full_br = np.concatenate((x_train_sparse_br, x_train_info), axis= 1)\n",
    "\n",
    "x_val_info = x_val[['title_l', 'total_words']]\n",
    "x_val_sparse_br = hstack([tfidf_val_b, encoded_val]).toarray()\n",
    "x_val_full_br = np.concatenate((x_val_sparse_br, x_val_info), axis= 1)\n",
    "\n",
    "ridge_br = Ridge()\n",
    "ridge_br.fit(x_train_full_br, y_train['l_pledge'])\n",
    "ridge_br_predict = ridge_br.predict(x_val_full_br)\n",
    "display_score(y_val['l_pledge'], ridge_br_predict) \n",
    "# using bigram reduces model performance:"
   ]
  },
  {
   "cell_type": "markdown",
   "metadata": {},
   "source": [
    "# Test model performance using the test set"
   ]
  },
  {
   "cell_type": "code",
   "execution_count": 107,
   "metadata": {},
   "outputs": [
    {
     "name": "stdout",
     "output_type": "stream",
     "text": [
      "r2: 0.39 mse: 1.292\n"
     ]
    }
   ],
   "source": [
    "# use the train test datasets\n",
    "\n",
    "tfidf_tt = TfidfVectorizer(max_features = 1500)\n",
    "# note the default normalizes the output matrix\n",
    "tfidf_train = tfidf_r.fit_transform(X_train['story_p'])\n",
    "tfidf_test = tfidf_r.transform(X_test['story_p'])\n",
    "\n",
    "encoder_train = onehot.fit_transform(X_train[['name_parent']])\n",
    "encoded_test = onehot.transform(X_test[['name_parent']])\n",
    "\n",
    "X_train_info = X_train[['title_l', 'total_words']]\n",
    "X_train_sparse = hstack([tfidf_train, encoder_train]).toarray()\n",
    "X_train_full = np.concatenate((X_train_sparse, X_train_info), axis= 1)\n",
    "\n",
    "X_test_info = X_test[['title_l', 'total_words']]\n",
    "X_test_sparse = hstack([tfidf_test, encoded_test]).toarray()\n",
    "X_test_full = np.concatenate((X_test_sparse, X_test_info), axis= 1)\n",
    "\n",
    "ridge_tt = Ridge()\n",
    "ridge_tt.fit(X_train_full, Y_train['l_pledge'])\n",
    "ridge_tt_predict = ridge_tt.predict(X_test_full)\n",
    "display_score(Y_test['l_pledge'], ridge_tt_predict) \n",
    "# performs well"
   ]
  },
  {
   "cell_type": "code",
   "execution_count": 109,
   "metadata": {},
   "outputs": [
    {
     "data": {
      "text/plain": [
       "[<matplotlib.lines.Line2D at 0x7f7a6c482730>]"
      ]
     },
     "execution_count": 109,
     "metadata": {},
     "output_type": "execute_result"
    },
    {
     "data": {
      "image/png": "[encoded data removed]",
      "text/plain": [
       "<Figure size 360x352.8 with 1 Axes>"
      ]
     },
     "metadata": {},
     "output_type": "display_data"
    }
   ],
   "source": [
    "figure(figsize=(5,4.9))\n",
    "plt.scatter(ridge_tt_predict, Y_test['l_pledge'], color = 'darkslategrey')\n",
    "plt.plot( [0,5.5],[0,5.5], color = (1,0.471,0.184), linestyle = '--', linewidth=3)"
   ]
  },
  {
   "cell_type": "code",
   "execution_count": 111,
   "metadata": {},
   "outputs": [
    {
     "data": {
      "image/png": "[encoded data removed]",
      "text/plain": [
       "<Figure size 432x288 with 1 Axes>"
      ]
     },
     "metadata": {},
     "output_type": "display_data"
    }
   ],
   "source": [
    "# learning curve for the final test\n",
    "train_sizes, train_scores, test_scores = \\\n",
    "    learning_curve(ridge_tt, X_test_full, Y_test['l_pledge'])\n",
    "\n",
    "plt.figure()\n",
    "\n",
    "plt.plot(train_sizes, test_scores.mean(1), 'o-', color=\"r\",\n",
    "         label=\"test\")\n",
    "plt.plot(train_sizes, train_scores.mean(1), 'o-', color=\"b\",\n",
    "         label=\"train\")\n",
    "plt.xlabel(\"Train size\")\n",
    "plt.ylabel(\"Score\")\n",
    "plt.title('Learning curve')\n",
    "plt.legend(loc=\"best\")\n",
    "\n",
    "plt.show()\n",
    "\n",
    "# more data would be improve model performance"
   ]
  },
  {
   "cell_type": "markdown",
   "metadata": {},
   "source": [
    "# Production model"
   ]
  },
  {
   "cell_type": "code",
   "execution_count": 112,
   "metadata": {},
   "outputs": [
    {
     "data": {
      "text/plain": [
       "Ridge(alpha=1.0, copy_X=True, fit_intercept=True, max_iter=None,\n",
       "      normalize=False, random_state=None, solver='auto', tol=0.001)"
      ]
     },
     "execution_count": 112,
     "metadata": {},
     "output_type": "execute_result"
    }
   ],
   "source": [
    "# train on full dataset\n",
    "tfidf_f = TfidfVectorizer(max_features = 1500)\n",
    "tfidf_final = tfidf_f.fit_transform(data_x['story_p'])\n",
    "\n",
    "encoder_final = onehot.fit_transform(data_x[['name_parent']])\n",
    "\n",
    "X_info = data_x[['title_l', 'total_words']]\n",
    "X_sparse = hstack([tfidf_final, encoder_final]).toarray()\n",
    "X_full = np.concatenate((X_sparse, X_info), axis= 1)\n",
    "\n",
    "ridge_final = Ridge()\n",
    "ridge_final.fit(X_full, data_y['l_pledge'])"
   ]
  },
  {
   "cell_type": "code",
   "execution_count": 113,
   "metadata": {},
   "outputs": [],
   "source": [
    "# Get the feature importance of the words:\n",
    "result_features = pd.DataFrame({'feature' : tfidf_f.get_feature_names(), 'importance': ridge_final.coef_[:1500]})\n",
    "sorted_features = result_features.sort_values(axis = 'index', by = ['importance'])\n",
    "resutls_bad_words = sorted_features.head(50)\n",
    "resutls_good_words = result_features.sort_values(axis = 'index', by = ['importance'], ascending = False).head(50)"
   ]
  },
  {
   "cell_type": "code",
   "execution_count": 122,
   "metadata": {
    "scrolled": true
   },
   "outputs": [
    {
     "data": {
      "text/plain": [
       "<function matplotlib.pyplot.show(*args, **kw)>"
      ]
     },
     "execution_count": 122,
     "metadata": {},
     "output_type": "execute_result"
    },
    {
     "data": {
      "image/png": "[encoded data removed]",
      "text/plain": [
       "<Figure size 432x288 with 1 Axes>"
      ]
     },
     "metadata": {},
     "output_type": "display_data"
    }
   ],
   "source": [
    "n_show = 5\n",
    "\n",
    "plt.rcParams['xtick.labelsize'] = 30\n",
    "plt.rcParams['ytick.labelsize'] = 30\n",
    "plt.rcParams['font.family'] = 'sans-serif'\n",
    "plt.rcParams['font.sans-serif'] = 'Verdana'\n",
    "plt.barh(range(n_show), sorted_features.iloc[-n_show:]['importance'], \n",
    "         color = \"dodgerblue\", edgecolor = \"black\", linewidth = 1.2)\n",
    "plt.yticks(range(n_show), sorted_features.iloc[-n_show:]['feature'])\n",
    "plt.tick_params(color = \"white\")\n",
    "for spine in plt.gca().spines.values():\n",
    "    spine.set_visible(False)\n",
    "plt.show"
   ]
  },
  {
   "cell_type": "code",
   "execution_count": 124,
   "metadata": {},
   "outputs": [
    {
     "data": {
      "text/plain": [
       "<function matplotlib.pyplot.show(*args, **kw)>"
      ]
     },
     "execution_count": 124,
     "metadata": {},
     "output_type": "execute_result"
    },
    {
     "data": {
      "image/png": "[encoded data removed]",
      "text/plain": [
       "<Figure size 432x288 with 1 Axes>"
      ]
     },
     "metadata": {},
     "output_type": "display_data"
    }
   ],
   "source": [
    "plt.barh(range(n_show), sorted_features.iloc[:n_show]['importance'], \n",
    "         color = \"coral\", edgecolor = \"black\", linewidth = 1.2)\n",
    "plt.yticks(range(n_show), sorted_features.iloc[:n_show]['feature'])\n",
    "plt.tick_params(color = \"white\")\n",
    "for spine in plt.gca().spines.values():\n",
    "    spine.set_visible(False)\n",
    "plt.show"
   ]
  },
  {
   "cell_type": "markdown",
   "metadata": {},
   "source": [
    "# save things for the app:"
   ]
  },
  {
   "cell_type": "code",
   "execution_count": 117,
   "metadata": {},
   "outputs": [],
   "source": [
    "with open(\"pickle/appv3models.pkl\", \"wb\") as f:\n",
    "    pickle.dump([ridge_final, tfidf_f, onehot, resutls_good_words, resutls_bad_words, result_features], f)"
   ]
  }
 ],
 "metadata": {
  "kernelspec": {
   "display_name": "Python 3",
   "language": "python",
   "name": "python3"
  },
  "language_info": {
   "codemirror_mode": {
    "name": "ipython",
    "version": 3
   },
   "file_extension": ".py",
   "mimetype": "text/x-python",
   "name": "python",
   "nbconvert_exporter": "python",
   "pygments_lexer": "ipython3",
   "version": "3.8.1"
  }
 },
 "nbformat": 4,
 "nbformat_minor": 4
}
