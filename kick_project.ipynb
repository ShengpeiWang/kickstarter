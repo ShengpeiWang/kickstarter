{
 "cells": [
  {
   "cell_type": "code",
   "execution_count": 1,
   "metadata": {},
   "outputs": [],
   "source": [
    "# data wraggling functions \n",
    "import pandas as pd\n",
    "import numpy as np\n",
    "from langdetect import detect\n",
    "import time\n",
    "\n",
    "# EDA\n",
    "import matplotlib.pyplot as plt\n",
    "plt.style.use('seaborn-ticks')\n",
    "import seaborn as sns\n",
    "\n",
    "# NLP functions\n",
    "import re\n",
    "from nltk.corpus import stopwords\n",
    "from nltk.tokenize import word_tokenize\n",
    "from nltk.stem import WordNetLemmatizer\n",
    "wnl = WordNetLemmatizer()\n",
    "\n",
    "import pickle"
   ]
  },
  {
   "cell_type": "markdown",
   "metadata": {},
   "source": [
    "## load in the cleaned data"
   ]
  },
  {
   "cell_type": "code",
   "execution_count": 2,
   "metadata": {},
   "outputs": [
    {
     "data": {
      "text/plain": [
       "(2206, 27)"
      ]
     },
     "execution_count": 2,
     "metadata": {},
     "output_type": "execute_result"
    }
   ],
   "source": [
    "project_data_from_sql = pickle.load(open(\"pickle/project_data_complete.pkl\", \"rb\"))\n",
    "project_data_from_sql.shape"
   ]
  },
  {
   "cell_type": "markdown",
   "metadata": {},
   "source": [
    "# feature engineering"
   ]
  },
  {
   "cell_type": "markdown",
   "metadata": {},
   "source": [
    "## check the effects of time"
   ]
  },
  {
   "cell_type": "code",
   "execution_count": 4,
   "metadata": {},
   "outputs": [],
   "source": [
    "# get some time related information\n",
    "data_time = pd.DataFrame()\n",
    "data_time['launch_year'] = project_data_from_sql.apply(lambda row: time.gmtime(row['launch']).tm_year, axis=1)\n",
    "data_time['launch_month'] = project_data_from_sql.apply(lambda row: time.gmtime(row['launch']).tm_mon, axis=1)\n",
    "data_time['launch_wday'] = project_data_from_sql.apply(lambda row: time.gmtime(row['launch']).tm_wday, axis=1)\n",
    "data_time['percent'] = np.log(project_data_from_sql['percent']+0.01)"
   ]
  },
  {
   "cell_type": "code",
   "execution_count": 90,
   "metadata": {},
   "outputs": [
    {
     "data": {
      "image/png": "[encoded data removed]",
      "text/plain": [
       "<Figure size 1296x288 with 5 Axes>"
      ]
     },
     "metadata": {
      "needs_background": "light"
     },
     "output_type": "display_data"
    }
   ],
   "source": [
    "fig, axes = plt.subplots(figsize=(18, 4), nrows=1, ncols=5)\n",
    "\n",
    "data_time['launch_year'].hist(ax=axes[0])\n",
    "data_time['launch_month'].hist(ax=axes[1])\n",
    "data_time['launch_wday'].hist(ax=axes[2])\n",
    "data_time['percent'].hist(ax=axes[3]) # this is logged percent value\n",
    "axes[4].hist(project_data_from_sql['percent'], range=(0, 5))\n",
    "plt.show()"
   ]
  },
  {
   "cell_type": "code",
   "execution_count": 91,
   "metadata": {},
   "outputs": [
    {
     "data": {
      "image/png": "[encoded data removed]",
      "text/plain": [
       "<Figure size 864x288 with 3 Axes>"
      ]
     },
     "metadata": {
      "needs_background": "light"
     },
     "output_type": "display_data"
    }
   ],
   "source": [
    "fig, axes = plt.subplots(figsize=(12, 4), nrows=1, ncols=3)\n",
    "\n",
    "axes[0].hist2d(x= data_time['launch_year'], y= project_data_from_sql['percent'], \n",
    "               range = [[2009,2019],[0,5]], cmap='Blues')\n",
    "axes[1].hist2d(x= data_time['launch_month'], y= project_data_from_sql['percent'], \n",
    "               range = [[0,12],[0,5]], cmap='Blues')\n",
    "axes[2].hist2d(x= data_time['launch_wday'], y= project_data_from_sql['percent'], \n",
    "               range = [[0, 6],[0,5]], cmap='Blues')\n",
    "plt.show()\n",
    "# 2016 had a lot of failed projects,\n",
    "# 2018-2019 seemed to have more successful projects, but there are also more projcet since 2018\n",
    "# no obvious effects of month\n",
    "# Tuesday seems to be the best day to launch"
   ]
  },
  {
   "cell_type": "code",
   "execution_count": 92,
   "metadata": {},
   "outputs": [
    {
     "data": {
      "image/png": "[encoded data removed]",
      "text/plain": [
       "<Figure size 576x288 with 2 Axes>"
      ]
     },
     "metadata": {
      "needs_background": "light"
     },
     "output_type": "display_data"
    }
   ],
   "source": [
    "fig, axes = plt.subplots(figsize=(8, 4), nrows=1, ncols=2)\n",
    "\n",
    "axes[0].hist2d(x= project_data_from_sql['days_active'], \n",
    "               y= project_data_from_sql['percent'], \n",
    "               range = [[20,40],[0,5]], cmap='Blues')\n",
    "axes[1].hist2d(x= project_data_from_sql['days_draft'], \n",
    "               y= project_data_from_sql['percent'], \n",
    "               range = [[0,20],[0,5]], cmap='Blues')\n",
    "plt.show()\n",
    "\n",
    "# not a whole lot of variations here"
   ]
  },
  {
   "cell_type": "code",
   "execution_count": 93,
   "metadata": {},
   "outputs": [],
   "source": [
    "# create feature of weekday it's launched\n",
    "project_data_from_sql['launch_wday'] = project_data_from_sql.apply(lambda x: \n",
    "                                                                   time.gmtime(x['launch']).tm_wday, axis=1)"
   ]
  },
  {
   "cell_type": "markdown",
   "metadata": {},
   "source": [
    "### I decided to not incluce any time related features in the final models:\n",
    "b.c. this is hard to know before launch. And to improve user experience"
   ]
  },
  {
   "cell_type": "markdown",
   "metadata": {},
   "source": [
    "## filter such that all entries are in english and have a story"
   ]
  },
  {
   "cell_type": "code",
   "execution_count": 3,
   "metadata": {},
   "outputs": [],
   "source": [
    "# make function to handle exceptions:\n",
    "def trydetect(s):\n",
    "    try:\n",
    "        r = detect(s)\n",
    "    except:\n",
    "        r = \"NA\"\n",
    "    return r"
   ]
  },
  {
   "cell_type": "code",
   "execution_count": 4,
   "metadata": {},
   "outputs": [],
   "source": [
    "# detect the language of the blurb\n",
    "project_data_from_sql['language'] = project_data_from_sql.apply(lambda x: trydetect(x['blurb']), axis=1)\n",
    "# decide if a proposals really has a story section, some had them in pictures thus not in my data\n",
    "project_data_from_sql['keep_story'] = project_data_from_sql.apply(lambda x: \n",
    "                                                                  len(x['story']) > len(x['blurb']), axis=1)"
   ]
  },
  {
   "cell_type": "code",
   "execution_count": 5,
   "metadata": {},
   "outputs": [
    {
     "data": {
      "text/plain": [
       "(2107, 30)"
      ]
     },
     "execution_count": 5,
     "metadata": {},
     "output_type": "execute_result"
    }
   ],
   "source": [
    "# filter out non-english entries and entries without much stories\n",
    "data_project = project_data_from_sql[(project_data_from_sql.keep_story == 1) & \n",
    "                                     (project_data_from_sql.language == \"en\")].reset_index()\n",
    "data_project.shape\n",
    "# 2107,44"
   ]
  },
  {
   "cell_type": "markdown",
   "metadata": {},
   "source": [
    "## add text length features for title and blurb"
   ]
  },
  {
   "cell_type": "code",
   "execution_count": 6,
   "metadata": {},
   "outputs": [],
   "source": [
    "# word count and length in title and blurb\n",
    "data_project['title_words'] = data_project['project_name'].str.split().str.len()\n",
    "data_project['title_l'] = data_project['project_name'].str.len()\n",
    "data_project['blurb_words'] = data_project['blurb'].str.split().str.len()\n",
    "data_project['blurb_l'] = data_project['blurb'].str.len()"
   ]
  },
  {
   "cell_type": "markdown",
   "metadata": {},
   "source": [
    "## Preprocess text information"
   ]
  },
  {
   "cell_type": "code",
   "execution_count": 7,
   "metadata": {},
   "outputs": [],
   "source": [
    "# define function to lemmatize long-form text\n",
    "def lemmatizer(sentence):\n",
    "    token_words = word_tokenize(sentence)\n",
    "    lem_sentence=[]\n",
    "    for word in token_words:\n",
    "        lemma = wnl.lemmatize(word)\n",
    "        lem_sentence.append(lemma)\n",
    "        lem_sentence.append(\" \")\n",
    "    return \"\".join(lem_sentence)"
   ]
  },
  {
   "cell_type": "code",
   "execution_count": 8,
   "metadata": {},
   "outputs": [],
   "source": [
    "# make preprocessing pipeline:\n",
    "pattern = re.compile(r'\\b(' + r'|'.join(stopwords.words('english')) + r')\\b\\s*')\n",
    "\n",
    "def preproc(text):\n",
    "    l = re.sub(r'http\\S+',' ', text) # remove links\n",
    "    n = re.sub(r'[0-9]+', ' ', l) # remove numbers\n",
    "    s = re.sub(r'[^\\w]',' ', n)  # remove symbols\n",
    "    w = pattern.sub('', s) # remove stopwords\n",
    "    p = lemmatizer(w) # lemmatize all words\n",
    "    return p"
   ]
  },
  {
   "cell_type": "code",
   "execution_count": 9,
   "metadata": {},
   "outputs": [],
   "source": [
    "# combine the apply the preprocessing pipeline to all available data\n",
    "data_project['story_tb'] = data_project[\"project_name\"].map(str) + data_project[\"blurb\"].map(str) +data_project[\"story\"].map(str)\n",
    "data_project['story_p'] = data_project.apply(lambda x: preproc(x['story_tb']), axis=1)"
   ]
  },
  {
   "cell_type": "code",
   "execution_count": 10,
   "metadata": {},
   "outputs": [],
   "source": [
    "# total text length\n",
    "data_project['total_words'] = data_project['story_p'].str.split().str.len()"
   ]
  },
  {
   "cell_type": "markdown",
   "metadata": {},
   "source": [
    "## EDA on the response variable"
   ]
  },
  {
   "cell_type": "code",
   "execution_count": 11,
   "metadata": {},
   "outputs": [],
   "source": [
    "data_project['state_b'] = data_project.apply(lambda x: x['state'] == 'successful', axis=1)"
   ]
  },
  {
   "cell_type": "code",
   "execution_count": 12,
   "metadata": {},
   "outputs": [
    {
     "data": {
      "text/plain": [
       "0.540579022306597"
      ]
     },
     "execution_count": 12,
     "metadata": {},
     "output_type": "execute_result"
    }
   ],
   "source": [
    "data_project['state_b'].sum()/len(data_project['state_b'])\n",
    "# 54% of the projects in my data are successful\n",
    "# it's quite balanced"
   ]
  },
  {
   "cell_type": "code",
   "execution_count": 13,
   "metadata": {},
   "outputs": [],
   "source": [
    "# add log-transformed version of some variables that are highly skewed\n",
    "\n",
    "data_project['l_goal'] = np.log10(data_project['goal_usd'] + 1)\n",
    "data_project['l_pledge'] = np.log10(data_project['pledge_usd'] + 1)\n",
    "data_project['l_percent'] = np.log10(data_project['percent']*100+1)\n",
    "data_project['l_backers'] = np.log10(data_project['backers']+ 1)"
   ]
  },
  {
   "cell_type": "code",
   "execution_count": 232,
   "metadata": {},
   "outputs": [
    {
     "data": {
      "image/png": "[encoded data removed]",
      "text/plain": [
       "<Figure size 432x288 with 1 Axes>"
      ]
     },
     "metadata": {
      "needs_background": "light"
     },
     "output_type": "display_data"
    }
   ],
   "source": [
    "# look at backer distribution\n",
    "np.log10(data_project['backers']+ 1).hist(bins = 50)\n",
    "plt.show()\n",
    "# mostly normally distributed\n",
    "# many projects have only a few backers"
   ]
  },
  {
   "cell_type": "code",
   "execution_count": 223,
   "metadata": {},
   "outputs": [
    {
     "data": {
      "text/plain": [
       "<matplotlib.axes._subplots.AxesSubplot at 0x7fb205ec3760>"
      ]
     },
     "execution_count": 223,
     "metadata": {},
     "output_type": "execute_result"
    },
    {
     "data": {
      "image/png": "[encoded data removed]",
      "text/plain": [
       "<Figure size 432x288 with 1 Axes>"
      ]
     },
     "metadata": {
      "needs_background": "light"
     },
     "output_type": "display_data"
    }
   ],
   "source": [
    "np.log10(data_project['goal_usd'] + 1).hist(bins = 30)\n",
    "# there is a lot of variation in goal, but very much look like a normal distribution"
   ]
  },
  {
   "cell_type": "code",
   "execution_count": 224,
   "metadata": {},
   "outputs": [
    {
     "data": {
      "text/plain": [
       "<matplotlib.axes._subplots.AxesSubplot at 0x7fb206917280>"
      ]
     },
     "execution_count": 224,
     "metadata": {},
     "output_type": "execute_result"
    },
    {
     "data": {
      "image/png": "[encoded data removed]",
      "text/plain": [
       "<Figure size 432x288 with 1 Axes>"
      ]
     },
     "metadata": {
      "needs_background": "light"
     },
     "output_type": "display_data"
    }
   ],
   "source": [
    "np.log10(data_project['pledge_usd'] + 1).hist(bins = 30)\n",
    "# a large number of projects received very little money"
   ]
  },
  {
   "cell_type": "code",
   "execution_count": 268,
   "metadata": {},
   "outputs": [
    {
     "data": {
      "text/plain": [
       "<matplotlib.axes._subplots.AxesSubplot at 0x7fb2053a9460>"
      ]
     },
     "execution_count": 268,
     "metadata": {},
     "output_type": "execute_result"
    },
    {
     "data": {
      "image/png": "[encoded data removed]",
      "text/plain": [
       "<Figure size 432x288 with 1 Axes>"
      ]
     },
     "metadata": {
      "needs_background": "light"
     },
     "output_type": "display_data"
    }
   ],
   "source": [
    "data_project.plot.scatter('l_goal', 'l_pledge')\n",
    "# a lot of variation here\n",
    "# many project raise nearly no money and many just above their goal\n",
    "# also means that a lot of people have realistic understanding of how much the proposal is worth\n",
    "# so predicting how much will be pledged is less informative, since it's limited by the goal\n",
    "# but there are at least three distinctive groups of projects here"
   ]
  },
  {
   "cell_type": "code",
   "execution_count": 225,
   "metadata": {},
   "outputs": [
    {
     "data": {
      "image/png": "[encoded data removed]",
      "text/plain": [
       "<Figure size 432x288 with 1 Axes>"
      ]
     },
     "metadata": {
      "needs_background": "light"
     },
     "output_type": "display_data"
    }
   ],
   "source": [
    "np.log10(data_project['percent']*100+1).hist(bins = 50)\n",
    "plt.show()\n",
    "# again large numbers of projects raise almost no money or about what they ask for\n",
    "# in light of this and the previous figure, \n",
    "# I will engineer categories that contain projects that:\n",
    "# raise almost none, some, 100%, and better than expected"
   ]
  },
  {
   "cell_type": "code",
   "execution_count": 303,
   "metadata": {},
   "outputs": [
    {
     "data": {
      "image/png": "[encoded data removed]",
      "text/plain": [
       "<Figure size 432x288 with 1 Axes>"
      ]
     },
     "metadata": {
      "needs_background": "light"
     },
     "output_type": "display_data"
    }
   ],
   "source": [
    "plt.hist(data_project['percent']*100, bins = [0, 1, 100, 120, 30000])\n",
    "plt.xscale('log')\n",
    "# decide the best binning boundaries "
   ]
  },
  {
   "cell_type": "code",
   "execution_count": 14,
   "metadata": {},
   "outputs": [],
   "source": [
    "# large numbers of projects raise almost no money or about what they ask for\n",
    "# I will engineer categories that contain projects that:\n",
    "# raise almost none, some, 100%, better than expected, and superstars\n",
    "max_bin = max(data_project['percent']*100)+1\n",
    "data_project['performance'] = pd.cut(data_project['percent']*100,\n",
    "                                 bins = [0, 1, 100, 120, max_bin], \n",
    "                                 labels = [\"fail\", \"some\", \"goal\", \"great\"],\n",
    "                                 right = False)\n",
    "data_project['performance_n'] = pd.cut(data_project['percent']*100,\n",
    "                                 bins = [0, 1, 100, 120, max_bin], \n",
    "                                 labels = [0,1,2,3],\n",
    "                                 right = False)"
   ]
  },
  {
   "cell_type": "code",
   "execution_count": 17,
   "metadata": {},
   "outputs": [
    {
     "data": {
      "text/html": [
       "<div>\n",
       "<style scoped>\n",
       "    .dataframe tbody tr th:only-of-type {\n",
       "        vertical-align: middle;\n",
       "    }\n",
       "\n",
       "    .dataframe tbody tr th {\n",
       "        vertical-align: top;\n",
       "    }\n",
       "\n",
       "    .dataframe thead th {\n",
       "        text-align: right;\n",
       "    }\n",
       "</style>\n",
       "<table border=\"1\" class=\"dataframe\">\n",
       "  <thead>\n",
       "    <tr style=\"text-align: right;\">\n",
       "      <th></th>\n",
       "      <th>index</th>\n",
       "    </tr>\n",
       "    <tr>\n",
       "      <th>performance</th>\n",
       "      <th></th>\n",
       "    </tr>\n",
       "  </thead>\n",
       "  <tbody>\n",
       "    <tr>\n",
       "      <th>fail</th>\n",
       "      <td>0.231609</td>\n",
       "    </tr>\n",
       "    <tr>\n",
       "      <th>some</th>\n",
       "      <td>0.227812</td>\n",
       "    </tr>\n",
       "    <tr>\n",
       "      <th>goal</th>\n",
       "      <td>0.252017</td>\n",
       "    </tr>\n",
       "    <tr>\n",
       "      <th>great</th>\n",
       "      <td>0.288562</td>\n",
       "    </tr>\n",
       "  </tbody>\n",
       "</table>\n",
       "</div>"
      ],
      "text/plain": [
       "                index\n",
       "performance          \n",
       "fail         0.231609\n",
       "some         0.227812\n",
       "goal         0.252017\n",
       "great        0.288562"
      ]
     },
     "execution_count": 17,
     "metadata": {},
     "output_type": "execute_result"
    }
   ],
   "source": [
    "sum_count = data_project[['index','performance']].groupby('performance').count().apply(sum)\n",
    "data_project[['index','performance']].groupby('performance').count()/sum_count\n",
    "# the categores are pretty even"
   ]
  },
  {
   "cell_type": "code",
   "execution_count": 18,
   "metadata": {},
   "outputs": [
    {
     "data": {
      "image/png": "[encoded data removed]",
      "text/plain": [
       "<Figure size 360x288 with 1 Axes>"
      ]
     },
     "metadata": {},
     "output_type": "display_data"
    }
   ],
   "source": [
    "data_project[['index','performance']].groupby('performance').count().plot.bar(legend = False, \n",
    "                                                                              figsize = (5,4), \n",
    "                                                                              rot=0,\n",
    "                                                                             color = 'dodgerblue')\n",
    "plt.xlabel(\"Performance\")\n",
    "plt.show()"
   ]
  },
  {
   "cell_type": "markdown",
   "metadata": {},
   "source": [
    "## EDA on predictor variables"
   ]
  },
  {
   "cell_type": "code",
   "execution_count": 336,
   "metadata": {},
   "outputs": [
    {
     "data": {
      "text/html": [
       "<div>\n",
       "<style scoped>\n",
       "    .dataframe tbody tr th:only-of-type {\n",
       "        vertical-align: middle;\n",
       "    }\n",
       "\n",
       "    .dataframe tbody tr th {\n",
       "        vertical-align: top;\n",
       "    }\n",
       "\n",
       "    .dataframe thead th {\n",
       "        text-align: right;\n",
       "    }\n",
       "</style>\n",
       "<table border=\"1\" class=\"dataframe\">\n",
       "  <thead>\n",
       "    <tr style=\"text-align: right;\">\n",
       "      <th></th>\n",
       "      <th>index</th>\n",
       "      <th>project_id</th>\n",
       "      <th>project_id</th>\n",
       "      <th>goal</th>\n",
       "      <th>pledge</th>\n",
       "      <th>deadline</th>\n",
       "      <th>create</th>\n",
       "      <th>launch</th>\n",
       "      <th>staff_pick</th>\n",
       "      <th>backers</th>\n",
       "      <th>...</th>\n",
       "      <th>title_l</th>\n",
       "      <th>blurb_words</th>\n",
       "      <th>blurb_l</th>\n",
       "      <th>total_words</th>\n",
       "      <th>total_l</th>\n",
       "      <th>state_b</th>\n",
       "      <th>l_goal</th>\n",
       "      <th>l_pledge</th>\n",
       "      <th>l_percent</th>\n",
       "      <th>l_backers</th>\n",
       "    </tr>\n",
       "    <tr>\n",
       "      <th>performance</th>\n",
       "      <th></th>\n",
       "      <th></th>\n",
       "      <th></th>\n",
       "      <th></th>\n",
       "      <th></th>\n",
       "      <th></th>\n",
       "      <th></th>\n",
       "      <th></th>\n",
       "      <th></th>\n",
       "      <th></th>\n",
       "      <th></th>\n",
       "      <th></th>\n",
       "      <th></th>\n",
       "      <th></th>\n",
       "      <th></th>\n",
       "      <th></th>\n",
       "      <th></th>\n",
       "      <th></th>\n",
       "      <th></th>\n",
       "      <th></th>\n",
       "      <th></th>\n",
       "    </tr>\n",
       "  </thead>\n",
       "  <tbody>\n",
       "    <tr>\n",
       "      <th>fail</th>\n",
       "      <td>1177.235656</td>\n",
       "      <td>1.050628e+09</td>\n",
       "      <td>1.050628e+09</td>\n",
       "      <td>272111.389344</td>\n",
       "      <td>50.423258</td>\n",
       "      <td>1.467783e+09</td>\n",
       "      <td>1.461738e+09</td>\n",
       "      <td>1.464615e+09</td>\n",
       "      <td>0.002049</td>\n",
       "      <td>1.528689</td>\n",
       "      <td>...</td>\n",
       "      <td>31.057377</td>\n",
       "      <td>18.885246</td>\n",
       "      <td>111.303279</td>\n",
       "      <td>211.323770</td>\n",
       "      <td>1483.790984</td>\n",
       "      <td>0.0</td>\n",
       "      <td>4.079994</td>\n",
       "      <td>0.739659</td>\n",
       "      <td>0.048871</td>\n",
       "      <td>0.303922</td>\n",
       "    </tr>\n",
       "    <tr>\n",
       "      <th>some</th>\n",
       "      <td>1176.012500</td>\n",
       "      <td>1.056563e+09</td>\n",
       "      <td>1.056563e+09</td>\n",
       "      <td>39651.452083</td>\n",
       "      <td>4299.087479</td>\n",
       "      <td>1.470420e+09</td>\n",
       "      <td>1.463242e+09</td>\n",
       "      <td>1.467426e+09</td>\n",
       "      <td>0.062500</td>\n",
       "      <td>27.408333</td>\n",
       "      <td>...</td>\n",
       "      <td>35.785417</td>\n",
       "      <td>18.864583</td>\n",
       "      <td>112.429167</td>\n",
       "      <td>312.802083</td>\n",
       "      <td>2194.270833</td>\n",
       "      <td>0.0</td>\n",
       "      <td>3.788921</td>\n",
       "      <td>2.733958</td>\n",
       "      <td>1.020765</td>\n",
       "      <td>1.115063</td>\n",
       "    </tr>\n",
       "    <tr>\n",
       "      <th>goal</th>\n",
       "      <td>1037.562030</td>\n",
       "      <td>1.057030e+09</td>\n",
       "      <td>1.057030e+09</td>\n",
       "      <td>12849.736842</td>\n",
       "      <td>13761.047387</td>\n",
       "      <td>1.469310e+09</td>\n",
       "      <td>1.462616e+09</td>\n",
       "      <td>1.466537e+09</td>\n",
       "      <td>0.172932</td>\n",
       "      <td>105.686090</td>\n",
       "      <td>...</td>\n",
       "      <td>34.575188</td>\n",
       "      <td>18.665414</td>\n",
       "      <td>110.481203</td>\n",
       "      <td>369.526316</td>\n",
       "      <td>2601.120301</td>\n",
       "      <td>1.0</td>\n",
       "      <td>3.628372</td>\n",
       "      <td>3.655300</td>\n",
       "      <td>2.031010</td>\n",
       "      <td>1.774201</td>\n",
       "    </tr>\n",
       "    <tr>\n",
       "      <th>great</th>\n",
       "      <td>1036.334975</td>\n",
       "      <td>1.103096e+09</td>\n",
       "      <td>1.103096e+09</td>\n",
       "      <td>10730.543514</td>\n",
       "      <td>44556.504204</td>\n",
       "      <td>1.494642e+09</td>\n",
       "      <td>1.487927e+09</td>\n",
       "      <td>1.492084e+09</td>\n",
       "      <td>0.167488</td>\n",
       "      <td>307.060755</td>\n",
       "      <td>...</td>\n",
       "      <td>39.050903</td>\n",
       "      <td>17.878489</td>\n",
       "      <td>107.594417</td>\n",
       "      <td>439.515599</td>\n",
       "      <td>3065.799672</td>\n",
       "      <td>1.0</td>\n",
       "      <td>3.287421</td>\n",
       "      <td>3.731812</td>\n",
       "      <td>2.449755</td>\n",
       "      <td>2.025930</td>\n",
       "    </tr>\n",
       "  </tbody>\n",
       "</table>\n",
       "<p>4 rows × 32 columns</p>\n",
       "</div>"
      ],
      "text/plain": [
       "                   index    project_id    project_id           goal  \\\n",
       "performance                                                           \n",
       "fail         1177.235656  1.050628e+09  1.050628e+09  272111.389344   \n",
       "some         1176.012500  1.056563e+09  1.056563e+09   39651.452083   \n",
       "goal         1037.562030  1.057030e+09  1.057030e+09   12849.736842   \n",
       "great        1036.334975  1.103096e+09  1.103096e+09   10730.543514   \n",
       "\n",
       "                   pledge      deadline        create        launch  \\\n",
       "performance                                                           \n",
       "fail            50.423258  1.467783e+09  1.461738e+09  1.464615e+09   \n",
       "some          4299.087479  1.470420e+09  1.463242e+09  1.467426e+09   \n",
       "goal         13761.047387  1.469310e+09  1.462616e+09  1.466537e+09   \n",
       "great        44556.504204  1.494642e+09  1.487927e+09  1.492084e+09   \n",
       "\n",
       "             staff_pick     backers  ...    title_l  blurb_words     blurb_l  \\\n",
       "performance                          ...                                       \n",
       "fail           0.002049    1.528689  ...  31.057377    18.885246  111.303279   \n",
       "some           0.062500   27.408333  ...  35.785417    18.864583  112.429167   \n",
       "goal           0.172932  105.686090  ...  34.575188    18.665414  110.481203   \n",
       "great          0.167488  307.060755  ...  39.050903    17.878489  107.594417   \n",
       "\n",
       "             total_words      total_l  state_b    l_goal  l_pledge  l_percent  \\\n",
       "performance                                                                     \n",
       "fail          211.323770  1483.790984      0.0  4.079994  0.739659   0.048871   \n",
       "some          312.802083  2194.270833      0.0  3.788921  2.733958   1.020765   \n",
       "goal          369.526316  2601.120301      1.0  3.628372  3.655300   2.031010   \n",
       "great         439.515599  3065.799672      1.0  3.287421  3.731812   2.449755   \n",
       "\n",
       "             l_backers  \n",
       "performance             \n",
       "fail          0.303922  \n",
       "some          1.115063  \n",
       "goal          1.774201  \n",
       "great         2.025930  \n",
       "\n",
       "[4 rows x 32 columns]"
      ]
     },
     "execution_count": 336,
     "metadata": {},
     "output_type": "execute_result"
    }
   ],
   "source": [
    "data_project.groupby('performance').mean()\n",
    "# staff_pick is important but not for becoming \"great\"\n",
    "# longer title\n",
    "# blurb length is not\n",
    "# totla length seems important"
   ]
  },
  {
   "cell_type": "code",
   "execution_count": 21,
   "metadata": {},
   "outputs": [
    {
     "data": {
      "image/png": "[encoded data removed]",
      "text/plain": [
       "<Figure size 432x288 with 2 Axes>"
      ]
     },
     "metadata": {},
     "output_type": "display_data"
    }
   ],
   "source": [
    "corr = data_project[['title_l', 'title_words','blurb_l', 'blurb_words', 'total_words', \"l_pledge\"]].corr()\n",
    "ax = sns.heatmap(corr, annot = True)\n",
    "# really high correlation within categories, especially total words and total_l\n",
    "# will only use total_words and title_length"
   ]
  },
  {
   "cell_type": "code",
   "execution_count": null,
   "metadata": {},
   "outputs": [],
   "source": [
    "data_category_pledge = data_project[['name_parent','l_pledge']].pivot(\n",
    "    columns=data_project[['name_parent','l_pledge']].columns[0],\n",
    "    index=data_project[['name_parent','l_pledge']].index)\n",
    "\n",
    "\n",
    "\n",
    "data_category_pledge\n",
    "#boxplot(rot = 45)\n",
    "#plt.show()"
   ]
  },
  {
   "cell_type": "code",
   "execution_count": 80,
   "metadata": {},
   "outputs": [
    {
     "name": "stderr",
     "output_type": "stream",
     "text": [
      "/home/sheng/anaconda3/envs/insight/lib/python3.8/site-packages/pandas/core/frame.py:3509: SettingWithCopyWarning: \n",
      "A value is trying to be set on a copy of a slice from a DataFrame.\n",
      "Try using .loc[row_indexer,col_indexer] = value instead\n",
      "\n",
      "See the caveats in the documentation: http://pandas.pydata.org/pandas-docs/stable/user_guide/indexing.html#returning-a-view-versus-a-copy\n",
      "  self[k1] = value[k2]\n"
     ]
    },
    {
     "data": {
      "text/plain": [
       "<function matplotlib.pyplot.show(*args, **kw)>"
      ]
     },
     "execution_count": 80,
     "metadata": {},
     "output_type": "execute_result"
    },
    {
     "data": {
      "image/png": "[encoded data removed]",
      "text/plain": [
       "<Figure size 576x396 with 1 Axes>"
      ]
     },
     "metadata": {},
     "output_type": "display_data"
    }
   ],
   "source": [
    "plt.style.use('grayscale')\n",
    "plt.rcParams['axes.facecolor'] = 'white'\n",
    "plt.rcParams['figure.facecolor'] = 'white'\n",
    "\n",
    "category_list = data_project[['name_parent','l_pledge']].\\\n",
    "  groupby(['name_parent']).median().sort_values('l_pledge').index\n",
    "\n",
    "cat_type = pd.CategoricalDtype(categories=category_list, ordered=True)\n",
    "\n",
    "data_category_pledge = data_project[['name_parent','l_pledge']]\n",
    "data_category_pledge[['cat']] = data_category_pledge[['name_parent']].astype(cat_type)\n",
    "data_category_pledge.boxplot(column = 'l_pledge',\n",
    "                             by = 'cat',\n",
    "                             grid = False,\n",
    "                             return_type = 'dict',\n",
    "                             vert=False,\n",
    "                             boxprops= dict(linewidth=1.0, color='black'))\n",
    "plt.tick_params(axis='x', colors='black')\n",
    "plt.show"
   ]
  },
  {
   "cell_type": "code",
   "execution_count": 79,
   "metadata": {},
   "outputs": [
    {
     "data": {
      "text/plain": [
       "Index(['Games', 'Comics', 'Technology', 'Dance', 'Fashion', 'Music',\n",
       "       'Photography', 'Art', 'Publishing', 'Theater', 'Film & Video', 'Design',\n",
       "       'Crafts', 'Food', 'Journalism'],\n",
       "      dtype='object', name='name_parent')"
      ]
     },
     "execution_count": 79,
     "metadata": {},
     "output_type": "execute_result"
    }
   ],
   "source": [
    "data_project[['name_parent','l_pledge']].\\\n",
    "  groupby(['name_parent']).median().sort_values('l_pledge', ascending = False).index"
   ]
  },
  {
   "cell_type": "code",
   "execution_count": 264,
   "metadata": {},
   "outputs": [
    {
     "data": {
      "text/plain": [
       "<matplotlib.axes._subplots.AxesSubplot at 0x7fb20553c580>"
      ]
     },
     "execution_count": 264,
     "metadata": {},
     "output_type": "execute_result"
    },
    {
     "data": {
      "image/png": "[encoded data removed]",
      "text/plain": [
       "<Figure size 432x288 with 1 Axes>"
      ]
     },
     "metadata": {
      "needs_background": "light"
     },
     "output_type": "display_data"
    }
   ],
   "source": [
    "data_project.boxplot(column=['l_backers'], by=['peformance'])\n",
    "# the more backers the better performance"
   ]
  },
  {
   "cell_type": "code",
   "execution_count": 272,
   "metadata": {},
   "outputs": [
    {
     "data": {
      "image/png": "[encoded data removed]",
      "text/plain": [
       "<Figure size 432x288 with 2 Axes>"
      ]
     },
     "metadata": {
      "needs_background": "light"
     },
     "output_type": "display_data"
    }
   ],
   "source": [
    "data_project.boxplot(column=['l_goal', 'l_pledge'], by=['peformance'])\n",
    "plt.show()\n",
    "# there is slight downward trend between goal and performance\n",
    "# and an upward trend between pledge and performance, which makes sense"
   ]
  },
  {
   "cell_type": "markdown",
   "metadata": {},
   "source": [
    "# train-test-validation split"
   ]
  },
  {
   "cell_type": "code",
   "execution_count": 83,
   "metadata": {},
   "outputs": [],
   "source": [
    "from sklearn.model_selection import train_test_split"
   ]
  },
  {
   "cell_type": "code",
   "execution_count": 84,
   "metadata": {},
   "outputs": [],
   "source": [
    "data_project_c = data_project.sample(frac=1, random_state = 89).reset_index(drop=True)#62\n",
    "data_y = data_project_c[['performance', 'performance_n', 'state_b', 'l_pledge']]\n",
    "data_x = data_project_c[['name_parent', 'goal_usd', 'story_p', 'title_l', 'total_words']]\n",
    "# name_parent is the name of the main category"
   ]
  },
  {
   "cell_type": "code",
   "execution_count": 89,
   "metadata": {},
   "outputs": [],
   "source": [
    "X_train, X_test, Y_train, Y_test = train_test_split(data_x, data_y, test_size = 0.20, random_state = 61, stratify = data_x[['name_parent']])"
   ]
  },
  {
   "cell_type": "code",
   "execution_count": 91,
   "metadata": {},
   "outputs": [],
   "source": [
    "x_train, x_val, y_train, y_val = train_test_split(X_train, Y_train, test_size = 0.20, random_state = 59, stratify = X_train[['name_parent']])"
   ]
  },
  {
   "cell_type": "markdown",
   "metadata": {},
   "source": [
    "# feature engineering and model testing"
   ]
  },
  {
   "cell_type": "code",
   "execution_count": 92,
   "metadata": {},
   "outputs": [],
   "source": [
    "# feature engineering\n",
    "from sklearn.feature_extraction.text import TfidfVectorizer\n",
    "from sklearn.preprocessing import OneHotEncoder\n",
    "onehot = OneHotEncoder()\n",
    "from scipy.sparse import hstack\n",
    "\n",
    "# model testing\n",
    "from sklearn.model_selection import cross_validate\n",
    "from sklearn.model_selection import learning_curve"
   ]
  },
  {
   "cell_type": "markdown",
   "metadata": {},
   "source": [
    "## tf-idf"
   ]
  },
  {
   "cell_type": "code",
   "execution_count": 93,
   "metadata": {},
   "outputs": [],
   "source": [
    "tfidf = TfidfVectorizer()\n",
    "# note the default normalizes the output matrix\n",
    "tfidf_m = tfidf.fit_transform(x_train['story_p'])\n",
    "tfidf_val = tfidf.transform(x_val['story_p'])"
   ]
  },
  {
   "cell_type": "code",
   "execution_count": 94,
   "metadata": {},
   "outputs": [
    {
     "data": {
      "text/plain": [
       "(1348, 37692)"
      ]
     },
     "execution_count": 94,
     "metadata": {},
     "output_type": "execute_result"
    }
   ],
   "source": [
    "tfidf_m.shape"
   ]
  },
  {
   "cell_type": "markdown",
   "metadata": {},
   "source": [
    "# add other project information"
   ]
  },
  {
   "cell_type": "code",
   "execution_count": 95,
   "metadata": {},
   "outputs": [],
   "source": [
    "encoder = onehot.fit_transform(x_train[['name_parent']])\n",
    "encoded_val = onehot.transform(x_val[['name_parent']])"
   ]
  },
  {
   "cell_type": "code",
   "execution_count": 96,
   "metadata": {},
   "outputs": [],
   "source": [
    "x_train_info = x_train[['goal_usd', 'title_l', 'total_words']]\n",
    "x_train_sparse = hstack([tfidf_m, encoder]).toarray()\n",
    "x_train_full = np.concatenate((x_train_info, x_train_sparse), axis= 1)"
   ]
  },
  {
   "cell_type": "code",
   "execution_count": 97,
   "metadata": {},
   "outputs": [],
   "source": [
    "x_val_info = x_val[['goal_usd', 'title_l', 'total_words']]\n",
    "x_val_sparse = hstack([tfidf_val, encoded_val]).toarray()\n",
    "x_val_full = np.concatenate((x_val_info, x_val_sparse), axis= 1)"
   ]
  },
  {
   "cell_type": "markdown",
   "metadata": {},
   "source": [
    "# Modeling pledge amount"
   ]
  },
  {
   "cell_type": "code",
   "execution_count": 98,
   "metadata": {},
   "outputs": [],
   "source": [
    "from sklearn.metrics import r2_score, mean_squared_error\n",
    "from sklearn.gaussian_process import GaussianProcessRegressor\n",
    "from sklearn.linear_model import ElasticNet, Lasso # sparse models\n",
    "from sklearn.svm import LinearSVR\n",
    "from sklearn.linear_model import Ridge # regularization properties\n",
    "from sklearn.kernel_ridge import KernelRidge # add kernel to ridge"
   ]
  },
  {
   "cell_type": "code",
   "execution_count": 114,
   "metadata": {},
   "outputs": [],
   "source": [
    "def display_score(y_true, y_predict):\n",
    "    print(\"r2:\",round(r2_score(y_true,y_predict), 3),\n",
    "          \"mse:\",round(mean_squared_error(y_true,y_predict), 3))"
   ]
  },
  {
   "cell_type": "code",
   "execution_count": null,
   "metadata": {},
   "outputs": [],
   "source": [
    "# this is my baseline model\n",
    "r_gcr = GaussianProcessRegressor()\n",
    "r_gcr.fit(x_train_full, y_train['l_pledge'])\n",
    "r_gcr_predict = r_gcr.predict(x_val_full)\n",
    "display_score(y_val['l_pledge'], r_gcr_predict)\n",
    "# Gaussian Process does worse than random"
   ]
  },
  {
   "cell_type": "code",
   "execution_count": 108,
   "metadata": {},
   "outputs": [
    {
     "name": "stdout",
     "output_type": "stream",
     "text": [
      "0.217 1.573\n"
     ]
    }
   ],
   "source": [
    "r_ls = Lasso()\n",
    "r_ls.fit(x_train_full, y_train['l_pledge'])\n",
    "r_ls_predict = r_ls.predict(x_val_full)\n",
    "display_score(y_val['l_pledge'], r_ls_predict) \n",
    "# performs ok: 0.217 1.573"
   ]
  },
  {
   "cell_type": "code",
   "execution_count": 109,
   "metadata": {},
   "outputs": [
    {
     "name": "stdout",
     "output_type": "stream",
     "text": [
      "0.219 1.568\n"
     ]
    }
   ],
   "source": [
    "# elastic net model for sparse model with regularization\n",
    "r_en = ElasticNet()\n",
    "r_en.fit(x_train_full, y_train['l_pledge'])\n",
    "r_en_predict = r_en.predict(x_val_full)\n",
    "display_score(y_val['l_pledge'], r_en_predict) \n",
    "# takes a bit to train\n",
    "# performs similarly to lasso: 0.219 1.568"
   ]
  },
  {
   "cell_type": "code",
   "execution_count": null,
   "metadata": {},
   "outputs": [],
   "source": [
    "r_svr = LinearSVR()\n",
    "r_svr.fit(x_train_full, y_train['l_pledge'])\n",
    "r_svr_predict = r_svr.predict(x_val_full)\n",
    "display_score(y_val['l_pledge'], r_svr_predict) \n",
    "# failed to converge"
   ]
  },
  {
   "cell_type": "code",
   "execution_count": 110,
   "metadata": {},
   "outputs": [
    {
     "name": "stdout",
     "output_type": "stream",
     "text": [
      "0.38 1.245\n"
     ]
    },
    {
     "name": "stderr",
     "output_type": "stream",
     "text": [
      "/home/sheng/anaconda3/envs/insight/lib/python3.8/site-packages/sklearn/linear_model/_ridge.py:187: LinAlgWarning: Ill-conditioned matrix (rcond=1.16235e-17): result may not be accurate.\n",
      "  dual_coef = linalg.solve(K, y, sym_pos=True,\n"
     ]
    }
   ],
   "source": [
    "# ridge model\n",
    "ridge = Ridge()\n",
    "ridge.fit(x_train_full, y_train['l_pledge'])\n",
    "ridge_predict = ridge.predict(x_val_full)\n",
    "display_score(y_val['l_pledge'], ridge_predict) \n",
    "# performs okay: 0.38 1.245\n",
    "# with full tf-idf matrix and no change in regularization\n",
    "# since there is randomness built in, the result will be slightly different"
   ]
  },
  {
   "cell_type": "code",
   "execution_count": 111,
   "metadata": {},
   "outputs": [
    {
     "name": "stderr",
     "output_type": "stream",
     "text": [
      "/home/sheng/anaconda3/envs/insight/lib/python3.8/site-packages/sklearn/linear_model/_ridge.py:187: LinAlgWarning: Ill-conditioned matrix (rcond=1.78719e-17): result may not be accurate.\n",
      "  dual_coef = linalg.solve(K, y, sym_pos=True,\n"
     ]
    },
    {
     "name": "stdout",
     "output_type": "stream",
     "text": [
      "0.377 1.252\n"
     ]
    }
   ],
   "source": [
    "r_kridge = KernelRidge()\n",
    "r_kridge.fit(x_train_full, y_train['l_pledge'])\n",
    "r_kridge_predict = r_kridge.predict(x_val_full)\n",
    "display_score(y_val['l_pledge'], r_kridge_predict) \n",
    "# performs similarly to ridge, maybe a little bit worse: 0.377 1.252"
   ]
  },
  {
   "cell_type": "markdown",
   "metadata": {},
   "source": [
    "## dive into the best model:"
   ]
  },
  {
   "cell_type": "markdown",
   "metadata": {},
   "source": [
    "### reducing model dimension and hyperparameter tuning"
   ]
  },
  {
   "cell_type": "code",
   "execution_count": 115,
   "metadata": {},
   "outputs": [
    {
     "name": "stdout",
     "output_type": "stream",
     "text": [
      "r2: 0.204 mse: 1.599\n"
     ]
    },
    {
     "name": "stderr",
     "output_type": "stream",
     "text": [
      "/home/sheng/anaconda3/envs/insight/lib/python3.8/site-packages/sklearn/linear_model/_ridge.py:187: LinAlgWarning: Ill-conditioned matrix (rcond=8.34621e-18): result may not be accurate.\n",
      "  dual_coef = linalg.solve(K, y, sym_pos=True,\n"
     ]
    }
   ],
   "source": [
    "#feature selection?\n",
    "from sklearn.pipeline import Pipeline\n",
    "from sklearn.feature_selection import SelectKBest\n",
    "from sklearn.feature_selection import chi2\n",
    "\n",
    "# make pipeline\n",
    "pipe_fs = Pipeline([('fs', SelectKBest(chi2, k = 2000)), ('ridge', Ridge())])\n",
    "\n",
    "# train model\n",
    "pipe_fs.fit(x_train_full, y_train['l_pledge'].astype('int'))\n",
    "\n",
    "# test model performance\n",
    "pipe_fs_predict = pipe_fs.predict(x_val_full)\n",
    "display_score(y_val['l_pledge'], pipe_fs_predict) \n",
    "\n",
    "# feature selection doesn't do a good job selecting the useful features\n",
    "# r2: 0.204 mse: 1.599"
   ]
  },
  {
   "cell_type": "code",
   "execution_count": 116,
   "metadata": {},
   "outputs": [
    {
     "name": "stdout",
     "output_type": "stream",
     "text": [
      "r2: 0.361 mse: 1.284\n"
     ]
    }
   ],
   "source": [
    "tfidf_r = TfidfVectorizer(max_features = 1500)\n",
    "# note the default normalizes the output matrix\n",
    "tfidf_m_r = tfidf_r.fit_transform(x_train['story_p'])\n",
    "tfidf_val_r = tfidf_r.transform(x_val['story_p'])\n",
    "\n",
    "x_train_info = x_train[['title_l', 'total_words']]\n",
    "x_train_sparse_r = hstack([tfidf_m_r, encoder]).toarray()\n",
    "x_train_full_r = np.concatenate((x_train_sparse_r, x_train_info), axis= 1)\n",
    "\n",
    "x_val_info = x_val[['title_l', 'total_words']]\n",
    "x_val_sparse_r = hstack([tfidf_val_r, encoded_val]).toarray()\n",
    "x_val_full_r = np.concatenate((x_val_sparse_r, x_val_info), axis= 1)\n",
    "\n",
    "ridge_r = Ridge()\n",
    "ridge_r.fit(x_train_full_r, y_train['l_pledge'])\n",
    "ridge_r_predict = ridge_r.predict(x_val_full_r)\n",
    "display_score(y_val['l_pledge'], ridge_r_predict) \n",
    "# r2: 0.361 mse: 1.284"
   ]
  },
  {
   "cell_type": "code",
   "execution_count": 85,
   "metadata": {},
   "outputs": [],
   "source": [
    "# look at the feature importance of the words:\n",
    "result_features = pd.DataFrame({'feature' : tfidf_r.get_feature_names(), 'importance': ridge_r.coef_[:1500]})\n",
    "sorted_features = result_features.sort_values(axis = 'index', by = ['importance'])\n",
    "resutls_bad_words = sorted_features.head(100)\n",
    "resutls_good_words = sorted_features.tail(100)"
   ]
  },
  {
   "cell_type": "code",
   "execution_count": 117,
   "metadata": {},
   "outputs": [
    {
     "name": "stdout",
     "output_type": "stream",
     "text": [
      "r2: 0.349 mse: 1.308\n"
     ]
    }
   ],
   "source": [
    "# tuning the regularization term\n",
    "ridge_a = Ridge(alpha = 0.8)\n",
    "ridge_a.fit(x_train_full_r, y_train['l_pledge'])\n",
    "ridge_a_predict = ridge_a.predict(x_val_full_r)\n",
    "display_score(y_val['l_pledge'], ridge_a_predict) \n",
    "# reducing alpha value does not improve model performance\n",
    "# r2: 0.349 mse: 1.308"
   ]
  },
  {
   "cell_type": "code",
   "execution_count": 124,
   "metadata": {},
   "outputs": [
    {
     "data": {
      "image/png": "[encoded data removed]",
      "text/plain": [
       "<Figure size 576x396 with 1 Axes>"
      ]
     },
     "metadata": {},
     "output_type": "display_data"
    }
   ],
   "source": [
    "plt.style.use('seaborn-ticks')\n",
    "train_sizes, train_scores, test_scores = \\\n",
    "    learning_curve(ridge_r, x_val_full_r, y_val['l_pledge'])\n",
    "\n",
    "plt.figure()\n",
    "\n",
    "plt.plot(train_sizes, -test_scores.mean(1), 'o-', color=\"r\",\n",
    "         label=\"test\")\n",
    "plt.plot(train_sizes, -train_scores.mean(1), 'o-', color=\"b\",\n",
    "         label=\"train\")\n",
    "plt.xlabel(\"Train size\")\n",
    "plt.ylabel(\"Mean Squared Error\")\n",
    "plt.title('Learning curve')\n",
    "plt.legend(loc=\"best\")\n",
    "\n",
    "plt.show()\n",
    "\n",
    "# looks reasonable\n",
    "# more data would be nice"
   ]
  },
  {
   "cell_type": "code",
   "execution_count": 130,
   "metadata": {},
   "outputs": [
    {
     "data": {
      "text/plain": [
       "[<matplotlib.lines.Line2D at 0x7f0441b1e8b0>]"
      ]
     },
     "execution_count": 130,
     "metadata": {},
     "output_type": "execute_result"
    },
    {
     "data": {
      "image/png": "[encoded data removed]",
      "text/plain": [
       "<Figure size 360x352.8 with 1 Axes>"
      ]
     },
     "metadata": {},
     "output_type": "display_data"
    }
   ],
   "source": [
    "from matplotlib.pyplot import figure\n",
    "figure(figsize=(5,4.9))\n",
    "plt.scatter(ridge_r_predict, y_val['l_pledge'], color = 'darkslategrey')\n",
    "plt.plot( [0,5.5],[0,5.5], color = (1,0.471,0.184), linestyle = '--', linewidth=3)"
   ]
  },
  {
   "cell_type": "code",
   "execution_count": 127,
   "metadata": {},
   "outputs": [
    {
     "data": {
      "text/plain": [
       "<matplotlib.collections.PathCollection at 0x7f1cdb2a0820>"
      ]
     },
     "execution_count": 127,
     "metadata": {},
     "output_type": "execute_result"
    },
    {
     "data": {
      "image/png": "[encoded data removed]",
      "text/plain": [
       "<Figure size 432x352.8 with 1 Axes>"
      ]
     },
     "metadata": {},
     "output_type": "display_data"
    }
   ],
   "source": [
    "figure(figsize=(6,4.9))\n",
    "plt.scatter(data_project_c['l_goal'], data_project_c['l_pledge'], s = 10,  color = (0.188,0.353,0.702))\n",
    "#plt.plot([-0.1,6.3, -0.1, -0.1], [-0.05, 6.3, 6.3, -0], linewidth=2, color = (1,0.471,0.184))\n",
    "#plt.plot([-0.1,8.2,6.3, -0.1], [-0.15, -0.15, 6.2,-0.15], linewidth=2, color = (1,0.471,0.184))"
   ]
  },
  {
   "cell_type": "markdown",
   "metadata": {},
   "source": [
    "## try adding bagging"
   ]
  },
  {
   "cell_type": "code",
   "execution_count": 91,
   "metadata": {},
   "outputs": [
    {
     "name": "stdout",
     "output_type": "stream",
     "text": [
      "0.4485397312060436 1.1482115164341817\n"
     ]
    }
   ],
   "source": [
    "from sklearn.ensemble import BaggingRegressor\n",
    "regr = BaggingRegressor(base_estimator = Ridge(), n_estimators=10).fit(x_train_full_r, y_train['l_pledge'])\n",
    "regr_predict = regr.predict(x_val_full_r)\n",
    "print(r2_score(y_val['l_pledge'], regr_predict ), mean_squared_error(y_val['l_pledge'], regr_predict ))\n",
    "# bagging did not improve model performance: 0.3675219898705723 1.2599573398166986"
   ]
  },
  {
   "cell_type": "markdown",
   "metadata": {},
   "source": [
    "## try adding state_b response variable"
   ]
  },
  {
   "cell_type": "code",
   "execution_count": 115,
   "metadata": {},
   "outputs": [
    {
     "name": "stderr",
     "output_type": "stream",
     "text": [
      "/home/sheng/anaconda3/envs/insight/lib/python3.8/site-packages/sklearn/linear_model/_ridge.py:187: LinAlgWarning: Ill-conditioned matrix (rcond=6.09669e-18): result may not be accurate.\n",
      "  dual_coef = linalg.solve(K, y, sym_pos=True,\n"
     ]
    }
   ],
   "source": [
    "# ridge model\n",
    "rm_ridge = Ridge()\n",
    "rm_ridge.fit(x_train_full_r, y_train[['state_b','l_pledge']])\n",
    "rm_ridge_predict = rm_ridge.predict(x_val_full_r)\n",
    "# this also doesn't help: 0.32473708806285845 0.7096708446672868"
   ]
  },
  {
   "cell_type": "code",
   "execution_count": 116,
   "metadata": {},
   "outputs": [
    {
     "name": "stdout",
     "output_type": "stream",
     "text": [
      "0.32473708806285845 0.7096708446672868\n"
     ]
    }
   ],
   "source": [
    "print(r2_score(y_val[['state_b', 'l_pledge']], rm_ridge_predict ), \n",
    "      mean_squared_error(y_val[['state_b', 'l_pledge']], rm_ridge_predict ))"
   ]
  },
  {
   "cell_type": "markdown",
   "metadata": {},
   "source": [
    "# try adding LDA categories"
   ]
  },
  {
   "cell_type": "code",
   "execution_count": 54,
   "metadata": {},
   "outputs": [
    {
     "data": {
      "text/plain": [
       "473     [mijn, cijfer, inzicht, mijn, cijfer, inzicht,...\n",
       "307     [thinkin, real, hard, original, song, recordin...\n",
       "2046    [reboot, annual, arts, festivalour, annual, pe...\n",
       "1086    [aedran, apparel, aedran, apparel, brand, spec...\n",
       "16      [seaside, eddy, getting, wheel, road, ellis, t...\n",
       "1279    [funding, boomboxx, releasewe, releasing, boom...\n",
       "388     [chef, corner, magazine, print, issue, publish...\n",
       "1625    [catbeard, pirate, book, five, poopdecks, pawp...\n",
       "1639    [maternity, shorts, active, womenlook, great, ...\n",
       "1971    [rate, rate, reviewsocial, network, rate, peop...\n",
       "Name: story_p, dtype: object"
      ]
     },
     "execution_count": 54,
     "metadata": {},
     "output_type": "execute_result"
    }
   ],
   "source": [
    "import gensim\n",
    "def preprocess(text):\n",
    "    result = []\n",
    "    for token in gensim.utils.simple_preprocess(text):\n",
    "        if len(token) > 3:\n",
    "            result.append(token)\n",
    "    return result\n",
    "processed_docs = x_train['story_p'].map(preprocess)\n",
    "processed_docs[:10]"
   ]
  },
  {
   "cell_type": "code",
   "execution_count": 63,
   "metadata": {},
   "outputs": [],
   "source": [
    "from gensim.corpora.dictionary import Dictionary\n",
    "from gensim.models import LdaMulticore\n",
    "\n",
    "dictionary = gensim.corpora.Dictionary(processed_docs)\n",
    "\n",
    "# Create a corpus from a list of texts\n",
    "lda_corpus = [dictionary.doc2bow(doc) for doc in processed_docs]\n",
    "\n",
    "# Train the model on the corpus.\n",
    "lda_model = LdaMulticore(lda_corpus, num_topics=20, id2word=dictionary, passes=2, workers=2)"
   ]
  },
  {
   "cell_type": "code",
   "execution_count": null,
   "metadata": {},
   "outputs": [],
   "source": [
    "for idx, topic in lda_model.print_topics(-1):\n",
    "    print('Topic: {} \\nWords: {}'.format(idx, topic))\n",
    "# no clear topics, I think the category information is more informative"
   ]
  },
  {
   "cell_type": "markdown",
   "metadata": {},
   "source": [
    "# final test of the model performance"
   ]
  },
  {
   "cell_type": "code",
   "execution_count": 126,
   "metadata": {},
   "outputs": [
    {
     "name": "stdout",
     "output_type": "stream",
     "text": [
      "r2: 0.417 mse: 1.163\n"
     ]
    }
   ],
   "source": [
    "# use the train test datasets\n",
    "\n",
    "tfidf_tt = TfidfVectorizer(max_features = 1500)\n",
    "# note the default normalizes the output matrix\n",
    "tfidf_train = tfidf_r.fit_transform(X_train['story_p'])\n",
    "tfidf_test = tfidf_r.transform(X_test['story_p'])\n",
    "\n",
    "encoder_train = onehot.fit_transform(X_train[['name_parent']])\n",
    "encoded_test = onehot.transform(X_test[['name_parent']])\n",
    "\n",
    "X_train_info = X_train[['title_l', 'total_words']]\n",
    "X_train_sparse = hstack([tfidf_train, encoder_train]).toarray()\n",
    "X_train_full = np.concatenate((X_train_sparse, X_train_info), axis= 1)\n",
    "\n",
    "X_test_info = X_test[['title_l', 'total_words']]\n",
    "X_test_sparse = hstack([tfidf_test, encoded_test]).toarray()\n",
    "X_test_full = np.concatenate((X_test_sparse, X_test_info), axis= 1)\n",
    "\n",
    "ridge_tt = Ridge()\n",
    "ridge_tt.fit(X_train_full, Y_train['l_pledge'])\n",
    "ridge_tt_predict = ridge_tt.predict(X_test_full)\n",
    "display_score(Y_test['l_pledge'], ridge_tt_predict) \n",
    "# r2: 0.417 mse: 1.163"
   ]
  },
  {
   "cell_type": "code",
   "execution_count": 129,
   "metadata": {},
   "outputs": [
    {
     "data": {
      "image/png": "[encoded data removed]",
      "text/plain": [
       "<Figure size 576x396 with 1 Axes>"
      ]
     },
     "metadata": {},
     "output_type": "display_data"
    }
   ],
   "source": [
    "# learning curve for the final test\n",
    "train_sizes, train_scores, test_scores = \\\n",
    "    learning_curve(ridge_tt, X_test_full, Y_test['l_pledge'])\n",
    "\n",
    "plt.figure()\n",
    "\n",
    "plt.plot(train_sizes, -test_scores.mean(1), 'o-', color=\"r\",\n",
    "         label=\"test\")\n",
    "plt.plot(train_sizes, -train_scores.mean(1), 'o-', color=\"b\",\n",
    "         label=\"train\")\n",
    "plt.xlabel(\"Train size\")\n",
    "plt.ylabel(\"Mean Squared Error\")\n",
    "plt.title('Learning curve')\n",
    "plt.legend(loc=\"best\")\n",
    "\n",
    "plt.show()\n",
    "\n",
    "# looks reasonable\n",
    "# more data would be nice"
   ]
  },
  {
   "cell_type": "markdown",
   "metadata": {},
   "source": [
    "# production model"
   ]
  },
  {
   "cell_type": "code",
   "execution_count": 149,
   "metadata": {},
   "outputs": [
    {
     "data": {
      "text/plain": [
       "Ridge(alpha=1.0, copy_X=True, fit_intercept=True, max_iter=None,\n",
       "      normalize=False, random_state=None, solver='auto', tol=0.001)"
      ]
     },
     "execution_count": 149,
     "metadata": {},
     "output_type": "execute_result"
    }
   ],
   "source": [
    "# train on full dataset\n",
    "tfidf_f = TfidfVectorizer(max_features = 1500)\n",
    "tfidf_final = tfidf_f.fit_transform(data_x['story_p'])\n",
    "\n",
    "encoder_final = onehot.fit_transform(data_x[['name_parent']])\n",
    "\n",
    "X_info = data_x[['title_l', 'total_words']]\n",
    "X_sparse = hstack([tfidf_final, encoder_final]).toarray()\n",
    "X_full = np.concatenate((X_sparse, X_info), axis= 1)\n",
    "\n",
    "ridge_final = Ridge()\n",
    "ridge_final.fit(X_full, data_y['l_pledge'])"
   ]
  },
  {
   "cell_type": "code",
   "execution_count": 198,
   "metadata": {},
   "outputs": [],
   "source": [
    "# look at the feature importance of the words:\n",
    "result_features = pd.DataFrame({'feature' : tfidf_f.get_feature_names(), 'importance': ridge_final.coef_[:1500]})\n",
    "sorted_features = result_features.sort_values(axis = 'index', by = ['importance'])\n",
    "resutls_bad_words = sorted_features.head(50)\n",
    "resutls_good_words = result_features.sort_values(axis = 'index', by = ['importance'], ascending = False).head(50)"
   ]
  },
  {
   "cell_type": "code",
   "execution_count": 194,
   "metadata": {},
   "outputs": [
    {
     "data": {
      "text/html": [
       "<div>\n",
       "<style scoped>\n",
       "    .dataframe tbody tr th:only-of-type {\n",
       "        vertical-align: middle;\n",
       "    }\n",
       "\n",
       "    .dataframe tbody tr th {\n",
       "        vertical-align: top;\n",
       "    }\n",
       "\n",
       "    .dataframe thead th {\n",
       "        text-align: right;\n",
       "    }\n",
       "</style>\n",
       "<table border=\"1\" class=\"dataframe\">\n",
       "  <thead>\n",
       "    <tr style=\"text-align: right;\">\n",
       "      <th></th>\n",
       "      <th>feature</th>\n",
       "      <th>importance</th>\n",
       "    </tr>\n",
       "  </thead>\n",
       "  <tbody>\n",
       "    <tr>\n",
       "      <th>432</th>\n",
       "      <td>etc</td>\n",
       "      <td>-1.675847</td>\n",
       "    </tr>\n",
       "    <tr>\n",
       "      <th>766</th>\n",
       "      <td>looking</td>\n",
       "      <td>-1.441393</td>\n",
       "    </tr>\n",
       "    <tr>\n",
       "      <th>671</th>\n",
       "      <td>interest</td>\n",
       "      <td>-1.429280</td>\n",
       "    </tr>\n",
       "    <tr>\n",
       "      <th>476</th>\n",
       "      <td>father</td>\n",
       "      <td>-1.372988</td>\n",
       "    </tr>\n",
       "    <tr>\n",
       "      <th>756</th>\n",
       "      <td>little</td>\n",
       "      <td>-1.361392</td>\n",
       "    </tr>\n",
       "    <tr>\n",
       "      <th>403</th>\n",
       "      <td>effect</td>\n",
       "      <td>-1.348559</td>\n",
       "    </tr>\n",
       "    <tr>\n",
       "      <th>1440</th>\n",
       "      <td>want</td>\n",
       "      <td>-1.336111</td>\n",
       "    </tr>\n",
       "    <tr>\n",
       "      <th>209</th>\n",
       "      <td>christian</td>\n",
       "      <td>-1.292556</td>\n",
       "    </tr>\n",
       "  </tbody>\n",
       "</table>\n",
       "</div>"
      ],
      "text/plain": [
       "        feature  importance\n",
       "432         etc   -1.675847\n",
       "766     looking   -1.441393\n",
       "671    interest   -1.429280\n",
       "476      father   -1.372988\n",
       "756      little   -1.361392\n",
       "403      effect   -1.348559\n",
       "1440       want   -1.336111\n",
       "209   christian   -1.292556"
      ]
     },
     "execution_count": 194,
     "metadata": {},
     "output_type": "execute_result"
    }
   ],
   "source": [
    "resutls_bad_words.iloc[:8]"
   ]
  },
  {
   "cell_type": "code",
   "execution_count": 199,
   "metadata": {},
   "outputs": [
    {
     "data": {
      "text/html": [
       "<div>\n",
       "<style scoped>\n",
       "    .dataframe tbody tr th:only-of-type {\n",
       "        vertical-align: middle;\n",
       "    }\n",
       "\n",
       "    .dataframe tbody tr th {\n",
       "        vertical-align: top;\n",
       "    }\n",
       "\n",
       "    .dataframe thead th {\n",
       "        text-align: right;\n",
       "    }\n",
       "</style>\n",
       "<table border=\"1\" class=\"dataframe\">\n",
       "  <thead>\n",
       "    <tr style=\"text-align: right;\">\n",
       "      <th></th>\n",
       "      <th>feature</th>\n",
       "      <th>importance</th>\n",
       "    </tr>\n",
       "  </thead>\n",
       "  <tbody>\n",
       "    <tr>\n",
       "      <th>1467</th>\n",
       "      <td>wine</td>\n",
       "      <td>1.118514</td>\n",
       "    </tr>\n",
       "    <tr>\n",
       "      <th>104</th>\n",
       "      <td>battle</td>\n",
       "      <td>1.116003</td>\n",
       "    </tr>\n",
       "    <tr>\n",
       "      <th>1020</th>\n",
       "      <td>printer</td>\n",
       "      <td>1.114676</td>\n",
       "    </tr>\n",
       "    <tr>\n",
       "      <th>228</th>\n",
       "      <td>collaboration</td>\n",
       "      <td>1.112429</td>\n",
       "    </tr>\n",
       "    <tr>\n",
       "      <th>1258</th>\n",
       "      <td>started</td>\n",
       "      <td>1.108503</td>\n",
       "    </tr>\n",
       "    <tr>\n",
       "      <th>762</th>\n",
       "      <td>london</td>\n",
       "      <td>1.107495</td>\n",
       "    </tr>\n",
       "    <tr>\n",
       "      <th>223</th>\n",
       "      <td>co</td>\n",
       "      <td>1.100967</td>\n",
       "    </tr>\n",
       "    <tr>\n",
       "      <th>1359</th>\n",
       "      <td>together</td>\n",
       "      <td>1.100300</td>\n",
       "    </tr>\n",
       "  </tbody>\n",
       "</table>\n",
       "</div>"
      ],
      "text/plain": [
       "            feature  importance\n",
       "1467           wine    1.118514\n",
       "104          battle    1.116003\n",
       "1020        printer    1.114676\n",
       "228   collaboration    1.112429\n",
       "1258        started    1.108503\n",
       "762          london    1.107495\n",
       "223              co    1.100967\n",
       "1359       together    1.100300"
      ]
     },
     "execution_count": 199,
     "metadata": {},
     "output_type": "execute_result"
    }
   ],
   "source": [
    "resutls_good_words.iloc[-8:]"
   ]
  },
  {
   "cell_type": "code",
   "execution_count": 187,
   "metadata": {
    "scrolled": true
   },
   "outputs": [
    {
     "data": {
      "text/plain": [
       "<function matplotlib.pyplot.show(*args, **kw)>"
      ]
     },
     "execution_count": 187,
     "metadata": {},
     "output_type": "execute_result"
    },
    {
     "data": {
      "image/png": "[encoded data removed]",
      "text/plain": [
       "<Figure size 576x396 with 1 Axes>"
      ]
     },
     "metadata": {},
     "output_type": "display_data"
    }
   ],
   "source": [
    "n_show = 5\n",
    "\n",
    "plt.rcParams['xtick.labelsize'] = 30\n",
    "plt.rcParams['ytick.labelsize'] = 30\n",
    "#plt.rcParams['font.family'] = 'sans-serif'\n",
    "plt.rcParams['font.sans-serif'] = 'Verdana'\n",
    "plt.barh(range(n_show), sorted_features.iloc[-n_show:]['importance'], \n",
    "         color = \"coral\", edgecolor = \"black\", linewidth = 1.2)\n",
    "plt.yticks(range(n_show), sorted_features.iloc[-n_show:]['feature'])\n",
    "plt.tick_params(color = \"white\")\n",
    "for spine in plt.gca().spines.values():\n",
    "    spine.set_visible(False)\n",
    "plt.show"
   ]
  },
  {
   "cell_type": "code",
   "execution_count": 186,
   "metadata": {},
   "outputs": [
    {
     "data": {
      "text/plain": [
       "<function matplotlib.pyplot.show(*args, **kw)>"
      ]
     },
     "execution_count": 186,
     "metadata": {},
     "output_type": "execute_result"
    },
    {
     "data": {
      "image/png": "[encoded data removed]",
      "text/plain": [
       "<Figure size 576x396 with 1 Axes>"
      ]
     },
     "metadata": {},
     "output_type": "display_data"
    }
   ],
   "source": [
    "plt.barh(range(n_show), sorted_features.iloc[:n_show]['importance'], \n",
    "         color = \"dodgerblue\", edgecolor = \"black\", linewidth = 1.2)\n",
    "plt.yticks(range(n_show), sorted_features.iloc[:n_show]['feature'])\n",
    "plt.tick_params(color = \"white\")\n",
    "for spine in plt.gca().spines.values():\n",
    "    spine.set_visible(False)\n",
    "plt.show"
   ]
  },
  {
   "cell_type": "markdown",
   "metadata": {},
   "source": [
    "# save things for the app:"
   ]
  },
  {
   "cell_type": "code",
   "execution_count": 200,
   "metadata": {},
   "outputs": [],
   "source": [
    "with open(\"pickle/appv3models.pkl\", \"wb\") as f:\n",
    "    pickle.dump([ridge_final, tfidf_f, onehot, resutls_good_words, resutls_bad_words, result_features], f)"
   ]
  }
 ],
 "metadata": {
  "kernelspec": {
   "display_name": "Python 3",
   "language": "python",
   "name": "python3"
  },
  "language_info": {
   "codemirror_mode": {
    "name": "ipython",
    "version": 3
   },
   "file_extension": ".py",
   "mimetype": "text/x-python",
   "name": "python",
   "nbconvert_exporter": "python",
   "pygments_lexer": "ipython3",
   "version": "3.8.1"
  }
 },
 "nbformat": 4,
 "nbformat_minor": 4
}
