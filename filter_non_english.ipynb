{
 "cells": [
  {
   "cell_type": "code",
   "execution_count": 1,
   "metadata": {},
   "outputs": [],
   "source": [
    "# sql functions\n",
    "from sqlalchemy import create_engine\n",
    "import psycopg2\n",
    "\n",
    "import pandas as pd\n",
    "\n",
    "import pickle\n",
    "\n",
    "dbname = 'birth_db'\n",
    "username = 'shengsql'\n",
    "pswd = '1234'\n",
    "con = None\n",
    "con = psycopg2.connect(database = dbname, user = username, host='localhost', password=pswd)\n",
    "cursor = con.cursor()"
   ]
  },
  {
   "cell_type": "markdown",
   "metadata": {},
   "source": [
    "## query all project information"
   ]
  },
  {
   "cell_type": "code",
   "execution_count": 2,
   "metadata": {},
   "outputs": [],
   "source": [
    "# query all project information, joining project metadata with storis info:\n",
    "sql_query = \"\"\"SELECT *\n",
    "    FROM stories LEFT JOIN projects ON (stories.project_id = projects.project_id);\"\"\"\n",
    "\n",
    "project_data_from_sql = pd.read_sql_query(sql_query,con).drop(columns=['index']).drop_duplicates()"
   ]
  },
  {
   "cell_type": "markdown",
   "metadata": {},
   "source": [
    "# Filter out non-english entries and ones without a story"
   ]
  },
  {
   "cell_type": "code",
   "execution_count": 3,
   "metadata": {},
   "outputs": [],
   "source": [
    "# make function to detect langauge:\n",
    "def trydetect(s):\n",
    "    try:\n",
    "        r = detect(s)\n",
    "    except:\n",
    "        r = \"NA\"\n",
    "    return r"
   ]
  },
  {
   "cell_type": "code",
   "execution_count": 4,
   "metadata": {},
   "outputs": [],
   "source": [
    "from langdetect import detect\n",
    "# detect the language of the blurb\n",
    "project_data_from_sql['language'] = project_data_from_sql.apply(lambda x: trydetect(x['blurb']), axis=1)\n",
    "# decide if a proposals really has a story section, some had them in pictures thus not in my data\n",
    "project_data_from_sql['keep_story'] = project_data_from_sql.apply(lambda x: \n",
    "                                                                  len(x['story']) > len(x['blurb']), axis=1)"
   ]
  },
  {
   "cell_type": "code",
   "execution_count": 5,
   "metadata": {},
   "outputs": [
    {
     "data": {
      "text/plain": [
       "(2107, 30)"
      ]
     },
     "execution_count": 5,
     "metadata": {},
     "output_type": "execute_result"
    }
   ],
   "source": [
    "# filter out non-english entries and entries without much stories\n",
    "data_project = project_data_from_sql[(project_data_from_sql.keep_story == 1) & \n",
    "                                     (project_data_from_sql.language == \"en\")].reset_index()\n",
    "data_project.shape"
   ]
  },
  {
   "cell_type": "code",
   "execution_count": 6,
   "metadata": {},
   "outputs": [],
   "source": [
    "pickle.dump(data_project, open(\"pickle/project_data_complete.pkl\", \"wb\"))"
   ]
  }
 ],
 "metadata": {
  "kernelspec": {
   "display_name": "Python 3",
   "language": "python",
   "name": "python3"
  },
  "language_info": {
   "codemirror_mode": {
    "name": "ipython",
    "version": 3
   },
   "file_extension": ".py",
   "mimetype": "text/x-python",
   "name": "python",
   "nbconvert_exporter": "python",
   "pygments_lexer": "ipython3",
   "version": "3.8.1"
  }
 },
 "nbformat": 4,
 "nbformat_minor": 4
}
